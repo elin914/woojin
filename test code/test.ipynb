{
 "cells": [
  {
   "cell_type": "code",
   "id": "initial_id",
   "metadata": {
    "collapsed": true,
    "ExecuteTime": {
     "end_time": "2024-11-19T03:16:46.845410Z",
     "start_time": "2024-11-19T03:16:46.180384Z"
    }
   },
   "source": [
    "import pandas as pd\n",
    "import numpy as np"
   ],
   "outputs": [],
   "execution_count": 1
  },
  {
   "metadata": {
    "ExecuteTime": {
     "end_time": "2024-11-19T03:16:49.068759Z",
     "start_time": "2024-11-19T03:16:48.309600Z"
    }
   },
   "cell_type": "code",
   "source": [
    "df_name = pd.read_excel('../data/생관3-612-24-004_2024년 3월 일일생산계획 및 업체별 차종현황_Rev.01_24.03.06(확정).xlsx', skiprows=[0, 1, 2], usecols='C', nrows=64)\n",
    "df_data = pd.read_excel('../data/생관3-612-24-004_2024년 3월 일일생산계획 및 업체별 차종현황_Rev.01_24.03.06(확정).xlsx', skiprows=[0, 1, 2, 3], usecols='F:BE', nrows=64)\n",
    "df_data2 = pd.read_excel('../data/생관3-612-24-007_2024년 4월 일일생산계획 및 업체별 차종현황_Rev.00_24.03.28(확정).xlsx', skiprows=[0, 1, 2, 3], usecols='F:BE', nrows=64)"
   ],
   "id": "a8d3364ca72a66ef",
   "outputs": [],
   "execution_count": 2
  },
  {
   "metadata": {
    "ExecuteTime": {
     "end_time": "2024-11-19T03:16:49.084704Z",
     "start_time": "2024-11-19T03:16:49.068759Z"
    }
   },
   "cell_type": "code",
   "source": [
    "df_name = df_name.drop(index=df_name.index[0])\n",
    "df_name = df_name.reset_index(drop=True)\n",
    "df_name = df_name.ffill()\n",
    "df_data = df_data.drop(index=df_data.index[-1])\n",
    "df_data2 = df_data2.drop(index=df_data2.index[-1])\n",
    "df_data.index = df_name['세부공정명'].tolist()\n",
    "df_data2.index = df_name['세부공정명'].tolist()"
   ],
   "id": "145670bde7850e5e",
   "outputs": [],
   "execution_count": 3
  },
  {
   "metadata": {
    "ExecuteTime": {
     "end_time": "2024-11-19T03:16:49.100372Z",
     "start_time": "2024-11-19T03:16:49.084704Z"
    }
   },
   "cell_type": "code",
   "source": [
    "def clean_column_names(df):\n",
    "    columns = df.columns.tolist()\n",
    "    for i in range(1, len(columns)):  # 첫 번째 열은 처리할 필요 없음\n",
    "        if isinstance(columns[i], str) and \"Unnamed\" in columns[i]:\n",
    "            columns[i] = columns[i - 1]  # 바로 왼쪽 열 이름으로 대체\n",
    "    df.columns = columns\n",
    "    return df\n",
    "\n",
    "# DataFrame 열 이름 정리\n",
    "df_data = clean_column_names(df_data)\n",
    "df_data2 = clean_column_names(df_data2)"
   ],
   "id": "1b451d9d87df722d",
   "outputs": [],
   "execution_count": 4
  },
  {
   "metadata": {
    "ExecuteTime": {
     "end_time": "2024-11-19T03:16:49.116265Z",
     "start_time": "2024-11-19T03:16:49.100372Z"
    }
   },
   "cell_type": "code",
   "source": [
    "class SubwayCar:\n",
    "    def __init__(self, name):\n",
    "        self.name = name\n",
    "        self.activity_dict = dict()\n",
    "    \n",
    "    def add_activity(self, activity_name, date):\n",
    "        if activity_name not in self.activity_dict:\n",
    "            self.activity_dict[activity_name] = date\n",
    "        else:\n",
    "            print(f\"subwaycar {self.name} activity {activity_name}: {date} is already taken\")"
   ],
   "id": "b008fddd87670fe3",
   "outputs": [],
   "execution_count": 5
  },
  {
   "metadata": {
    "ExecuteTime": {
     "end_time": "2024-11-19T03:16:49.132095Z",
     "start_time": "2024-11-19T03:16:49.116265Z"
    }
   },
   "cell_type": "code",
   "source": [
    "def create_subway_car_dict(df_data, subway_car_dict, start_date):\n",
    "    for col_idx in range(df_data.shape[1]):\n",
    "            date = df_data.columns[col_idx]  # 현재 열의 이름\n",
    "    \n",
    "            for row_idx in range(df_data.shape[0]):  # 행 반복\n",
    "                activity_name = df_data.index[row_idx]  # 현재 행 이름\n",
    "                car_name = df_data.iloc[row_idx, col_idx]  # 값 가져오기\n",
    "    \n",
    "                if pd.notna(car_name):  # NaN 값 제외\n",
    "                    if car_name not in subway_car_dict:\n",
    "                        subway_car_dict[car_name] = SubwayCar(name=car_name)\n",
    "                    \n",
    "                    subway_car_dict[car_name].add_activity(activity_name, start_date + pd.Timedelta(days=date - 1))\n",
    "    return subway_car_dict"
   ],
   "id": "60847e4da3714b0b",
   "outputs": [],
   "execution_count": 6
  },
  {
   "metadata": {
    "ExecuteTime": {
     "end_time": "2024-11-19T03:16:49.396258Z",
     "start_time": "2024-11-19T03:16:49.191036Z"
    }
   },
   "cell_type": "code",
   "source": [
    "subway_car_dict = {}  # {name: SubwayCar 객체}\n",
    "\n",
    "subway_car_dict = create_subway_car_dict(df_data, subway_car_dict, pd.to_datetime('2024-03-01'))\n",
    "print('----------------')\n",
    "print('----------------')\n",
    "print('----------------')\n",
    "print('----------------')\n",
    "print('----------------')\n",
    "subway_car_dict = create_subway_car_dict(df_data2, subway_car_dict, pd.to_datetime('2024-04-01'))\n",
    "\n"
   ],
   "id": "b538ab4b2a12711d",
   "outputs": [
    {
     "name": "stdout",
     "output_type": "stream",
     "text": [
      "----------------\n",
      "----------------\n",
      "----------------\n",
      "----------------\n",
      "----------------\n",
      "subwaycar S035-M2 activity  실내/상하 CABLE HARNESS 취부: 2024-04-01 00:00:00 is already taken\n",
      "subwaycar S021-TC1 activity  실내 배선 작업: 2024-04-01 00:00:00 is already taken\n",
      "subwaycar S012-M1 activity  배전반 취부 및 배선작업: 2024-04-01 00:00:00 is already taken\n",
      "subwaycar S035-M2 activity  실내/상하 배선: 2024-04-02 00:00:00 is already taken\n",
      "subwaycar S022-M1 activity  실내 배선 작업: 2024-04-02 00:00:00 is already taken\n",
      "subwaycar S011-TC1 activity  CAB MODULE 취부(TC): 2024-04-02 00:00:00 is already taken\n",
      "subwaycar S013-M2 activity  배전반 취부 및 배선작업: 2024-04-02 00:00:00 is already taken\n",
      "subwaycar S011-TC1 activity  COUPLER 취부: 2024-04-02 00:00:00 is already taken\n",
      "subwaycar S020-TC2 activity  상하 전장기기 취부 결선: 2024-04-02 00:00:00 is already taken\n",
      "subwaycar S030-TC2 activity  실내 배선 작업: 2024-04-03 00:00:00 is already taken\n",
      "subwaycar S040-TC2 activity  실내 배선 검사: 2024-04-03 00:00:00 is already taken\n",
      "subwaycar S015-M2 activity  배전반 취부 및 배선작업: 2024-04-03 00:00:00 is already taken\n",
      "subwaycar S011-TC1 activity  D+5~13일차 조정작업: 2024-04-03 00:00:00 is already taken\n",
      "subwaycar S013-M2 activity  상하 전장기기 취부 결선: 2024-04-03 00:00:00 is already taken\n",
      "subwaycar S012-M1 activity  내장판 조정작업(완료): 2024-04-03 00:00:00 is already taken\n",
      "subwaycar S023-M2 activity  실내 배선 작업: 2024-04-04 00:00:00 is already taken\n",
      "subwaycar S020-TC2 activity  CAB MODULE 취부(TC): 2024-04-04 00:00:00 is already taken\n",
      "subwaycar S018-M1 activity  배전반 취부 및 배선작업: 2024-04-04 00:00:00 is already taken\n",
      "subwaycar S020-TC2 activity  COUPLER 취부: 2024-04-04 00:00:00 is already taken\n",
      "subwaycar S015-M2 activity  상하 전장기기 취부 결선: 2024-04-04 00:00:00 is already taken\n",
      "subwaycar S013-M2 activity  내장판 조정작업(완료): 2024-04-04 00:00:00 is already taken\n",
      "subwaycar S012-M1 activity  내장판 취부 검사: 2024-04-04 00:00:00 is already taken\n",
      "subwaycar S019-M2' activity  배전반 취부 및 배선작업: 2024-04-04 00:00:00 is already taken\n",
      "subwaycar S014-T1 activity  배전반 취부 및 배선작업: 2024-04-05 00:00:00 is already taken\n",
      "subwaycar S020-TC2 activity  D+5~13일차 조정작업: 2024-04-05 00:00:00 is already taken\n",
      "subwaycar S018-M1 activity  상하 전장기기 취부 결선: 2024-04-05 00:00:00 is already taken\n",
      "subwaycar S015-M2 activity  내장판 조정작업(완료): 2024-04-05 00:00:00 is already taken\n",
      "subwaycar S013-M2 activity  내장판 취부 검사: 2024-04-05 00:00:00 is already taken\n",
      "subwaycar S016-T2 activity  배전반 취부 및 배선작업: 2024-04-05 00:00:00 is already taken\n",
      "subwaycar S017-T1' activity  배전반 취부 및 배선작업: 2024-04-06 00:00:00 is already taken\n",
      "subwaycar S019-M2' activity  상하 전장기기 취부 결선: 2024-04-06 00:00:00 is already taken\n",
      "subwaycar S018-M1 activity  내장판 조정작업(완료): 2024-04-06 00:00:00 is already taken\n",
      "subwaycar S015-M2 activity  내장판 취부 검사: 2024-04-06 00:00:00 is already taken\n",
      "subwaycar S011-TC1 activity  배전반 취부 및 배선작업: 2024-04-06 00:00:00 is already taken\n",
      "subwaycar S019-M2' activity  내장판 조정작업(완료): 2024-04-06 00:00:00 is already taken\n",
      "subwaycar S024-T1 activity  실내 배선 작업: 2024-04-08 00:00:00 is already taken\n",
      "subwaycar S020-TC2 activity  배전반 취부 및 배선작업: 2024-04-08 00:00:00 is already taken\n",
      "subwaycar S011-TC1 activity  운전실 내장판 취부: 2024-04-08 00:00:00 is already taken\n",
      "subwaycar S014-T1 activity  내장판 조정작업(완료): 2024-04-08 00:00:00 is already taken\n",
      "subwaycar S018-M1 activity  내장판 취부 검사: 2024-04-08 00:00:00 is already taken\n",
      "subwaycar S016-T2 activity  내장판 조정작업(완료): 2024-04-08 00:00:00 is already taken\n",
      "subwaycar S019-M2' activity  내장판 취부 검사: 2024-04-08 00:00:00 is already taken\n",
      "subwaycar S025-M2 activity  실내 배선 작업: 2024-04-09 00:00:00 is already taken\n",
      "subwaycar S020-TC2 activity  운전실 내장판 취부: 2024-04-09 00:00:00 is already taken\n",
      "subwaycar S011-TC1 activity  운전실 캐비넷 취부(TC): 2024-04-09 00:00:00 is already taken\n",
      "subwaycar S017-T1' activity  내장판 조정작업(완료): 2024-04-09 00:00:00 is already taken\n",
      "subwaycar S014-T1 activity  내장판 취부 검사: 2024-04-09 00:00:00 is already taken\n",
      "subwaycar S019-M2' activity  전장기기 취부 결선 완료: 2024-04-09 00:00:00 is already taken\n",
      "subwaycar S011-TC1 activity  내장판 조정작업(완료): 2024-04-09 00:00:00 is already taken\n",
      "subwaycar S016-T2 activity  내장판 취부 검사: 2024-04-09 00:00:00 is already taken\n",
      "subwaycar S026-T2 activity  실내 배선 작업: 2024-04-10 00:00:00 is already taken\n",
      "subwaycar S020-TC2 activity  운전실 캐비넷 취부(TC): 2024-04-10 00:00:00 is already taken\n",
      "subwaycar S020-TC2 activity  내장판 조정작업(완료): 2024-04-10 00:00:00 is already taken\n",
      "subwaycar S017-T1' activity  내장판 취부 검사: 2024-04-10 00:00:00 is already taken\n",
      "subwaycar S018-M1 activity  도통검사(량단위 시험기): 2024-04-10 00:00:00 is already taken\n",
      "subwaycar S012-M1 activity  도통입회검사/내전압자체검사: 2024-04-10 00:00:00 is already taken\n",
      "subwaycar S011-TC1 activity  내장판 취부 검사: 2024-04-10 00:00:00 is already taken\n",
      "subwaycar S019-M2' activity  도통검사(량단위 시험기): 2024-04-10 00:00:00 is already taken\n",
      "subwaycar S027-T1' activity  실내 배선 작업: 2024-04-11 00:00:00 is already taken\n",
      "subwaycar S011-TC1 activity  운전실 배전반 결선(TC): 2024-04-11 00:00:00 is already taken\n",
      "subwaycar S020-TC2 activity  내장판 취부 검사: 2024-04-11 00:00:00 is already taken\n",
      "subwaycar S011-TC1 activity  운전실 전장기기 취부 결선(TC): 2024-04-11 00:00:00 is already taken\n",
      "subwaycar S018-M1 activity  도통 자체 검사(완료): 2024-04-11 00:00:00 is already taken\n",
      "subwaycar S013-M2 activity  도통입회검사/내전압자체검사: 2024-04-11 00:00:00 is already taken\n",
      "subwaycar S012-M1 activity  내전압 입회검사: 2024-04-11 00:00:00 is already taken\n",
      "subwaycar S019-M2' activity  도통 자체 검사(완료): 2024-04-11 00:00:00 is already taken\n",
      "subwaycar S020-TC2 activity  운전실 배전반 결선(TC): 2024-04-12 00:00:00 is already taken\n",
      "subwaycar S011-TC1 activity  운전실 DOOR 취부(TC): 2024-04-12 00:00:00 is already taken\n",
      "subwaycar S020-TC2 activity  전장기기 취부 결선 완료: 2024-04-12 00:00:00 is already taken\n",
      "subwaycar S020-TC2 activity  운전실 전장기기 취부 결선(TC): 2024-04-12 00:00:00 is already taken\n",
      "subwaycar S015-M2 activity  도통입회검사/내전압자체검사: 2024-04-12 00:00:00 is already taken\n",
      "subwaycar S013-M2 activity  내전압 입회검사: 2024-04-12 00:00:00 is already taken\n",
      "subwaycar S012-M1 activity  수정작업 및 점검커버 복구: 2024-04-12 00:00:00 is already taken\n",
      "subwaycar S012-M1 activity  D+17~20일차 조정작업: 2024-04-12 00:00:00 is already taken\n",
      "subwaycar S012-M1 activity  전장취부, 결선 복구 완료: 2024-04-12 00:00:00 is already taken\n",
      "subwaycar S012-M1 activity  실내 조정 및 실내·외 설비 완료: 2024-04-12 00:00:00 is already taken\n",
      "subwaycar S011-TC1 activity  도통검사(량단위 시험기): 2024-04-12 00:00:00 is already taken\n",
      "subwaycar S022-M1 activity  내장판 조정작업(완료): 2024-04-13 00:00:00 is already taken\n",
      "subwaycar S020-TC2 activity  운전실 DOOR 취부(TC): 2024-04-13 00:00:00 is already taken\n",
      "subwaycar S020-TC2 activity  도통검사(량단위 시험기): 2024-04-13 00:00:00 is already taken\n",
      "subwaycar S015-M2 activity  내전압 입회검사: 2024-04-13 00:00:00 is already taken\n",
      "subwaycar S013-M2 activity  수정작업 및 점검커버 복구: 2024-04-13 00:00:00 is already taken\n",
      "subwaycar S013-M2 activity  D+17~20일차 조정작업: 2024-04-13 00:00:00 is already taken\n",
      "subwaycar S013-M2 activity  전장취부, 결선 복구 완료: 2024-04-13 00:00:00 is already taken\n",
      "subwaycar S013-M2 activity  실내 조정 및 실내·외 설비 완료: 2024-04-13 00:00:00 is already taken\n",
      "subwaycar S012-M1 activity  전장품 취부 입회검사: 2024-04-13 00:00:00 is already taken\n",
      "subwaycar S012-M1 activity  복구 및 수정작업: 2024-04-13 00:00:00 is already taken\n",
      "subwaycar S028-M1 activity  실내 배선 작업: 2024-04-15 00:00:00 is already taken\n",
      "subwaycar S014-T1 activity  도통입회검사/내전압자체검사: 2024-04-15 00:00:00 is already taken\n",
      "subwaycar S015-M2 activity  수정작업 및 점검커버 복구: 2024-04-15 00:00:00 is already taken\n",
      "subwaycar S015-M2 activity  D+17~20일차 조정작업: 2024-04-15 00:00:00 is already taken\n",
      "subwaycar S015-M2 activity  전장취부, 결선 복구 완료: 2024-04-15 00:00:00 is already taken\n",
      "subwaycar S015-M2 activity  실내 조정 및 실내·외 설비 완료: 2024-04-15 00:00:00 is already taken\n",
      "subwaycar S013-M2 activity  전장품 취부 입회검사: 2024-04-15 00:00:00 is already taken\n",
      "subwaycar S013-M2 activity  복구 및 수정작업: 2024-04-15 00:00:00 is already taken\n",
      "subwaycar S012-M1 activity  실내 설비 입회검사: 2024-04-15 00:00:00 is already taken\n",
      "subwaycar S016-T2 activity  도통입회검사/내전압자체검사: 2024-04-15 00:00:00 is already taken\n",
      "subwaycar S029-M2' activity  실내 배선 작업: 2024-04-16 00:00:00 is already taken\n",
      "subwaycar S017-T1' activity  도통입회검사/내전압자체검사: 2024-04-16 00:00:00 is already taken\n",
      "subwaycar S014-T1 activity  내전압 입회검사: 2024-04-16 00:00:00 is already taken\n",
      "subwaycar S015-M2 activity  전장품 취부 입회검사: 2024-04-16 00:00:00 is already taken\n",
      "subwaycar S015-M2 activity  복구 및 수정작업: 2024-04-16 00:00:00 is already taken\n",
      "subwaycar S013-M2 activity  실내 설비 입회검사: 2024-04-16 00:00:00 is already taken\n",
      "subwaycar S016-T2 activity  내전압 입회검사: 2024-04-16 00:00:00 is already taken\n",
      "subwaycar S017-T1' activity  내전압 입회검사: 2024-04-17 00:00:00 is already taken\n",
      "subwaycar S014-T1 activity  수정작업 및 점검커버 복구: 2024-04-17 00:00:00 is already taken\n",
      "subwaycar S014-T1 activity  D+17~20일차 조정작업: 2024-04-17 00:00:00 is already taken\n",
      "subwaycar S014-T1 activity  전장취부, 결선 복구 완료: 2024-04-17 00:00:00 is already taken\n",
      "subwaycar S014-T1 activity  실내 조정 및 실내·외 설비 완료: 2024-04-17 00:00:00 is already taken\n",
      "subwaycar S015-M2 activity  실내 설비 입회검사: 2024-04-17 00:00:00 is already taken\n",
      "subwaycar S016-T2 activity  수정작업 및 점검커버 복구: 2024-04-17 00:00:00 is already taken\n",
      "subwaycar S016-T2 activity  D+17~20일차 조정작업: 2024-04-17 00:00:00 is already taken\n",
      "subwaycar S016-T2 activity  전장취부, 결선 복구 완료: 2024-04-17 00:00:00 is already taken\n",
      "subwaycar S016-T2 activity  실내 조정 및 실내·외 설비 완료: 2024-04-17 00:00:00 is already taken\n",
      "subwaycar S017-T1' activity  수정작업 및 점검커버 복구: 2024-04-18 00:00:00 is already taken\n",
      "subwaycar S017-T1' activity  D+17~20일차 조정작업: 2024-04-18 00:00:00 is already taken\n",
      "subwaycar S017-T1' activity  전장취부, 결선 복구 완료: 2024-04-18 00:00:00 is already taken\n",
      "subwaycar S017-T1' activity  실내 조정 및 실내·외 설비 완료: 2024-04-18 00:00:00 is already taken\n",
      "subwaycar S014-T1 activity  전장품 취부 입회검사: 2024-04-18 00:00:00 is already taken\n",
      "subwaycar S014-T1 activity  복구 및 수정작업: 2024-04-18 00:00:00 is already taken\n",
      "subwaycar S021-TC1 activity  내장판 조정작업(완료): 2024-04-19 00:00:00 is already taken\n",
      "subwaycar S014-T1 activity  실내 설비 입회검사: 2024-04-19 00:00:00 is already taken\n",
      "subwaycar S031-TC1 activity  실내 배선 작업: 2024-04-23 00:00:00 is already taken\n",
      "subwaycar S032-M1 activity  실내 배선 작업: 2024-04-25 00:00:00 is already taken\n",
      "subwaycar S040-TC2 activity  실내 배선 작업: 2024-04-29 00:00:00 is already taken\n"
     ]
    }
   ],
   "execution_count": 7
  },
  {
   "metadata": {
    "ExecuteTime": {
     "end_time": "2024-11-19T03:16:50.778609Z",
     "start_time": "2024-11-19T03:16:50.747322Z"
    }
   },
   "cell_type": "code",
   "source": [
    "# 결과 확인\n",
    "for car_name, subway_car in subway_car_dict.items():\n",
    "    print(f\"SubwayCar Name: {car_name}\")\n",
    "    print(\"Activities:\", subway_car.activity_dict)"
   ],
   "id": "186f460bba19c64f",
   "outputs": [
    {
     "name": "stdout",
     "output_type": "stream",
     "text": [
      "SubwayCar Name: S025-M2\n",
      "Activities: {' 측창취부/T-BOLT 삽입': Timestamp('2024-03-01 00:00:00'), ' 실내/상하 CABLE HARNESS 취부': Timestamp('2024-03-04 00:00:00'), ' 실내/상하 배선': Timestamp('2024-03-06 00:00:00'), ' 실내 배선 작업': Timestamp('2024-03-07 00:00:00'), ' 하부덕트검사\\n (D+1~4일차 조정작업)': Timestamp('2024-03-08 00:00:00'), ' 실내 배선 검사': Timestamp('2024-03-09 00:00:00'), ' AIR DUCT MODULE 취부': Timestamp('2024-04-08 00:00:00'), ' CENTER GRILL 취부': Timestamp('2024-04-09 00:00:00'), ' 객실도어 취부 검사': Timestamp('2024-04-10 00:00:00'), ' AIR DUCT MODULE 취부 검사': Timestamp('2024-04-10 00:00:00'), ' 배관 MODULE 취부': Timestamp('2024-04-11 00:00:00'), ' 배전반 취부 및 배선작업': Timestamp('2024-04-12 00:00:00'), ' CENTER PIVOT 취부': Timestamp('2024-04-12 00:00:00'), ' COUPLER 취부': Timestamp('2024-04-13 00:00:00'), ' 제동기기 취부 및 누설검사': Timestamp('2024-04-13 00:00:00'), ' D+5~13일차 조정작업': Timestamp('2024-04-15 00:00:00'), ' ROOF 내장판 취부': Timestamp('2024-04-16 00:00:00'), ' 상하 전장기기 취부 결선': Timestamp('2024-04-17 00:00:00'), ' SIDE 내장판 취부': Timestamp('2024-04-17 00:00:00'), ' 내장판 조정작업(완료)': Timestamp('2024-04-17 00:00:00'), ' AIR CON 취부': Timestamp('2024-04-18 00:00:00'), ' 내장판 취부 검사': Timestamp('2024-04-18 00:00:00'), ' 전장기기 취부 결선 완료': Timestamp('2024-04-19 00:00:00'), ' 도통검사(량단위 시험기)': Timestamp('2024-04-20 00:00:00'), ' 도통 자체 검사(완료)': Timestamp('2024-04-22 00:00:00'), ' 도통 검사 수정': Timestamp('2024-04-23 00:00:00'), ' 도통입회검사/내전압자체검사': Timestamp('2024-04-24 00:00:00'), ' 내전압 입회검사': Timestamp('2024-04-25 00:00:00'), ' 수정작업 및 점검커버 복구': Timestamp('2024-04-26 00:00:00'), ' D+17~20일차 조정작업': Timestamp('2024-04-26 00:00:00'), ' 전장취부, 결선 복구 완료': Timestamp('2024-04-26 00:00:00'), ' 실내 조정 및 실내·외 설비 완료': Timestamp('2024-04-26 00:00:00'), ' 전장품 취부 입회검사': Timestamp('2024-04-27 00:00:00'), ' 복구 및 수정작업': Timestamp('2024-04-27 00:00:00'), ' 실내 설비 입회검사': Timestamp('2024-04-29 00:00:00'), ' 대차차입 전검사 / 대차차입': Timestamp('2024-04-30 00:00:00')}\n",
      "SubwayCar Name: S018-M1\n",
      "Activities: {' 실내/상하 배선': Timestamp('2024-03-01 00:00:00'), ' 실내 배선 작업': Timestamp('2024-03-02 00:00:00'), ' 하부덕트검사\\n (D+1~4일차 조정작업)': Timestamp('2024-03-04 00:00:00'), ' 객실도어 취부': Timestamp('2024-03-11 00:00:00'), ' 객실도어 취부 검사': Timestamp('2024-03-12 00:00:00'), ' 배관 MODULE 취부': Timestamp('2024-03-12 00:00:00'), ' 제동기기 취부 및 누설검사': Timestamp('2024-03-14 00:00:00'), ' COUPLER 취부': Timestamp('2024-03-15 00:00:00'), ' D+5~13일차 조정작업': Timestamp('2024-03-15 00:00:00'), ' 상하 전장기기 취부 결선': Timestamp('2024-03-16 00:00:00'), ' AIR DUCT MODULE 취부': Timestamp('2024-03-19 00:00:00'), ' CENTER GRILL 취부': Timestamp('2024-03-20 00:00:00'), ' CENTER PIVOT 취부': Timestamp('2024-03-20 00:00:00'), ' AIR DUCT MODULE 취부 검사': Timestamp('2024-03-21 00:00:00'), ' 배전반 취부 및 배선작업': Timestamp('2024-03-22 00:00:00'), ' ROOF 내장판 취부': Timestamp('2024-03-23 00:00:00'), ' SIDE 내장판 취부': Timestamp('2024-03-25 00:00:00'), ' 내장판 조정작업(완료)': Timestamp('2024-03-26 00:00:00'), ' AIR CON 취부': Timestamp('2024-03-27 00:00:00'), ' 내장판 취부 검사': Timestamp('2024-03-27 00:00:00'), ' 전장기기 취부 결선 완료': Timestamp('2024-03-28 00:00:00'), ' 도통검사(량단위 시험기)': Timestamp('2024-03-29 00:00:00'), ' 도통 자체 검사(완료)': Timestamp('2024-03-30 00:00:00'), ' 도통 검사 수정': Timestamp('2024-04-12 00:00:00'), ' 도통입회검사/내전압자체검사': Timestamp('2024-04-13 00:00:00'), ' 내전압 입회검사': Timestamp('2024-04-15 00:00:00'), ' 수정작업 및 점검커버 복구': Timestamp('2024-04-16 00:00:00'), ' D+17~20일차 조정작업': Timestamp('2024-04-16 00:00:00'), ' 전장취부, 결선 복구 완료': Timestamp('2024-04-16 00:00:00'), ' 실내 조정 및 실내·외 설비 완료': Timestamp('2024-04-16 00:00:00'), ' 전장품 취부 입회검사': Timestamp('2024-04-17 00:00:00'), ' 복구 및 수정작업': Timestamp('2024-04-17 00:00:00'), ' 실내 설비 입회검사': Timestamp('2024-04-18 00:00:00'), ' 대차차입 전검사 / 대차차입': Timestamp('2024-04-18 00:00:00'), ' 대차 전장품 취부 결선 & 마무리': Timestamp('2024-04-19 00:00:00'), ' 대차차입 후 검사': Timestamp('2024-04-19 00:00:00')}\n",
      "SubwayCar Name: S017-T1'\n",
      "Activities: {' 실내 배선 작업': Timestamp('2024-03-01 00:00:00'), ' 객실도어 취부': Timestamp('2024-03-09 00:00:00'), ' 배관 MODULE 취부': Timestamp('2024-03-09 00:00:00'), ' 객실도어 취부 검사': Timestamp('2024-03-11 00:00:00'), ' 제동기기 취부 및 누설검사': Timestamp('2024-03-12 00:00:00'), ' COUPLER 취부': Timestamp('2024-03-13 00:00:00'), ' D+5~13일차 조정작업': Timestamp('2024-03-13 00:00:00'), ' 상하 전장기기 취부 결선': Timestamp('2024-03-14 00:00:00'), ' AIR DUCT MODULE 취부': Timestamp('2024-03-14 00:00:00'), ' CENTER GRILL 취부': Timestamp('2024-03-15 00:00:00'), ' AIR DUCT MODULE 취부 검사': Timestamp('2024-03-16 00:00:00'), ' 배전반 취부 및 배선작업': Timestamp('2024-03-18 00:00:00'), ' CENTER PIVOT 취부': Timestamp('2024-03-19 00:00:00'), ' ROOF 내장판 취부': Timestamp('2024-03-19 00:00:00'), ' SIDE 내장판 취부': Timestamp('2024-03-20 00:00:00'), ' 내장판 조정작업(완료)': Timestamp('2024-03-21 00:00:00'), ' 내장판 취부 검사': Timestamp('2024-03-22 00:00:00'), ' 전장기기 취부 결선 완료': Timestamp('2024-03-23 00:00:00'), ' AIR CON 취부': Timestamp('2024-03-25 00:00:00'), ' 도통검사(량단위 시험기)': Timestamp('2024-03-25 00:00:00'), ' 도통 자체 검사(완료)': Timestamp('2024-03-26 00:00:00'), ' 도통 검사 수정': Timestamp('2024-03-27 00:00:00'), ' 도통입회검사/내전압자체검사': Timestamp('2024-03-28 00:00:00'), ' 내전압 입회검사': Timestamp('2024-03-29 00:00:00'), ' 수정작업 및 점검커버 복구': Timestamp('2024-03-30 00:00:00'), ' D+17~20일차 조정작업': Timestamp('2024-03-30 00:00:00'), ' 전장취부, 결선 복구 완료': Timestamp('2024-03-30 00:00:00'), ' 실내 조정 및 실내·외 설비 완료': Timestamp('2024-03-30 00:00:00'), ' 전장품 취부 입회검사': Timestamp('2024-04-19 00:00:00'), ' 복구 및 수정작업': Timestamp('2024-04-19 00:00:00'), ' 실내 설비 입회검사': Timestamp('2024-04-20 00:00:00'), ' 대차차입 전검사 / 대차차입': Timestamp('2024-04-20 00:00:00'), ' 대차 전장품 취부 결선 & 마무리': Timestamp('2024-04-22 00:00:00'), ' 대차차입 후 검사': Timestamp('2024-04-22 00:00:00')}\n",
      "SubwayCar Name: S011-TC1\n",
      "Activities: {' 객실도어 취부': Timestamp('2024-03-01 00:00:00'), ' 객실도어 취부 검사': Timestamp('2024-03-02 00:00:00'), ' 배관 MODULE 취부': Timestamp('2024-03-04 00:00:00'), ' AIR DUCT MODULE 취부': Timestamp('2024-03-05 00:00:00'), ' CENTER GRILL 취부': Timestamp('2024-03-06 00:00:00'), ' 제동기기 취부 및 누설검사': Timestamp('2024-03-06 00:00:00'), ' AIR DUCT MODULE 취부 검사': Timestamp('2024-03-07 00:00:00'), ' CAB MODULE 취부(TC)': Timestamp('2024-03-07 00:00:00'), ' COUPLER 취부': Timestamp('2024-03-07 00:00:00'), ' D+5~13일차 조정작업': Timestamp('2024-03-07 00:00:00'), ' 배전반 취부 및 배선작업': Timestamp('2024-03-08 00:00:00'), ' 운전실 내장판 취부': Timestamp('2024-03-08 00:00:00'), ' 상하 전장기기 취부 결선': Timestamp('2024-03-08 00:00:00'), ' ROOF 내장판 취부': Timestamp('2024-03-09 00:00:00'), ' 운전실 캐비넷 취부(TC)': Timestamp('2024-03-09 00:00:00'), ' SIDE 내장판 취부': Timestamp('2024-03-11 00:00:00'), ' 운전실 배전반 결선(TC)': Timestamp('2024-03-11 00:00:00'), ' 내장판 조정작업(완료)': Timestamp('2024-03-12 00:00:00'), ' 운전실 DOOR 취부(TC)': Timestamp('2024-03-12 00:00:00'), ' 내장판 취부 검사': Timestamp('2024-03-13 00:00:00'), ' CENTER PIVOT 취부': Timestamp('2024-03-15 00:00:00'), ' AIR CON 취부': Timestamp('2024-03-19 00:00:00'), ' 운전실 전장기기 취부 결선(TC)': Timestamp('2024-03-28 00:00:00'), ' 전장기기 취부 결선 완료': Timestamp('2024-03-29 00:00:00'), ' 도통검사(량단위 시험기)': Timestamp('2024-03-30 00:00:00'), ' 도통 자체 검사(완료)': Timestamp('2024-04-13 00:00:00'), ' 도통 검사 수정': Timestamp('2024-04-15 00:00:00'), ' 도통입회검사/내전압자체검사': Timestamp('2024-04-16 00:00:00'), ' 내전압 입회검사': Timestamp('2024-04-17 00:00:00'), ' 수정작업 및 점검커버 복구': Timestamp('2024-04-18 00:00:00'), ' D+17~20일차 조정작업': Timestamp('2024-04-18 00:00:00'), ' 전장취부, 결선 복구 완료': Timestamp('2024-04-18 00:00:00'), ' 실내 조정 및 실내·외 설비 완료': Timestamp('2024-04-18 00:00:00'), ' 전장품 취부 입회검사': Timestamp('2024-04-19 00:00:00'), ' 복구 및 수정작업': Timestamp('2024-04-19 00:00:00'), ' 실내 설비 입회검사': Timestamp('2024-04-20 00:00:00'), ' 대차차입 전검사 / 대차차입': Timestamp('2024-04-20 00:00:00'), ' 대차 전장품 취부 결선 & 마무리': Timestamp('2024-04-22 00:00:00'), ' 대차차입 후 검사': Timestamp('2024-04-22 00:00:00')}\n",
      "SubwayCar Name: S009-M2'\n",
      "Activities: {' 실내 설비 입회검사': Timestamp('2024-03-01 00:00:00'), ' 대차차입 전검사 / 대차차입': Timestamp('2024-03-01 00:00:00'), ' 대차 전장품 취부 결선 & 마무리': Timestamp('2024-03-02 00:00:00'), ' 대차차입 후 검사': Timestamp('2024-03-02 00:00:00'), ' 도통입회검사/내전압자체검사': Timestamp('2024-03-07 00:00:00'), ' 내전압 입회검사': Timestamp('2024-03-14 00:00:00')}\n",
      "SubwayCar Name: S003-M2\n",
      "Activities: {' 대차 전장품 취부 결선 & 마무리': Timestamp('2024-03-01 00:00:00'), ' 대차차입 후 검사': Timestamp('2024-03-01 00:00:00'), ' 도통입회검사/내전압자체검사': Timestamp('2024-03-04 00:00:00'), ' 내전압 입회검사': Timestamp('2024-03-11 00:00:00')}\n",
      "SubwayCar Name: S026-T2\n",
      "Activities: {' 측창취부/T-BOLT 삽입': Timestamp('2024-03-02 00:00:00'), ' 리무벌/파티션 프레임 취부': Timestamp('2024-03-04 00:00:00'), ' 실내/상하 CABLE HARNESS 취부': Timestamp('2024-03-05 00:00:00'), ' 실내/상하 배선': Timestamp('2024-03-07 00:00:00'), ' 실내 배선 작업': Timestamp('2024-03-08 00:00:00'), ' 하부덕트검사\\n (D+1~4일차 조정작업)': Timestamp('2024-03-09 00:00:00'), ' 실내 배선 검사': Timestamp('2024-03-11 00:00:00'), ' 객실도어 취부 검사': Timestamp('2024-04-11 00:00:00'), ' AIR DUCT MODULE 취부': Timestamp('2024-04-12 00:00:00'), ' CENTER GRILL 취부': Timestamp('2024-04-13 00:00:00'), ' AIR DUCT MODULE 취부 검사': Timestamp('2024-04-15 00:00:00'), ' 배관 MODULE 취부': Timestamp('2024-04-16 00:00:00'), ' 배전반 취부 및 배선작업': Timestamp('2024-04-17 00:00:00'), ' CENTER PIVOT 취부': Timestamp('2024-04-17 00:00:00'), ' COUPLER 취부': Timestamp('2024-04-18 00:00:00'), ' 제동기기 취부 및 누설검사': Timestamp('2024-04-18 00:00:00'), ' D+5~13일차 조정작업': Timestamp('2024-04-19 00:00:00'), ' ROOF 내장판 취부': Timestamp('2024-04-20 00:00:00'), ' 상하 전장기기 취부 결선': Timestamp('2024-04-22 00:00:00'), ' SIDE 내장판 취부': Timestamp('2024-04-22 00:00:00'), ' AIR CON 취부': Timestamp('2024-04-23 00:00:00'), ' 내장판 조정작업(완료)': Timestamp('2024-04-23 00:00:00'), ' 내장판 취부 검사': Timestamp('2024-04-24 00:00:00'), ' 전장기기 취부 결선 완료': Timestamp('2024-04-25 00:00:00'), ' 도통검사(량단위 시험기)': Timestamp('2024-04-26 00:00:00'), ' 도통 자체 검사(완료)': Timestamp('2024-04-27 00:00:00'), ' 도통 검사 수정': Timestamp('2024-04-29 00:00:00'), ' 도통입회검사/내전압자체검사': Timestamp('2024-04-30 00:00:00')}\n",
      "SubwayCar Name: S024-T1\n",
      "Activities: {' 실내/상하 CABLE HARNESS 취부': Timestamp('2024-03-02 00:00:00'), ' 실내/상하 배선': Timestamp('2024-03-05 00:00:00'), ' 실내 배선 작업': Timestamp('2024-03-06 00:00:00'), ' 하부덕트검사\\n (D+1~4일차 조정작업)': Timestamp('2024-03-07 00:00:00'), ' 실내 배선 검사': Timestamp('2024-03-08 00:00:00'), ' AIR DUCT MODULE 취부': Timestamp('2024-04-05 00:00:00'), ' CENTER GRILL 취부': Timestamp('2024-04-06 00:00:00'), ' AIR DUCT MODULE 취부 검사': Timestamp('2024-04-08 00:00:00'), ' 객실도어 취부 검사': Timestamp('2024-04-09 00:00:00'), ' 배관 MODULE 취부': Timestamp('2024-04-09 00:00:00'), ' CENTER PIVOT 취부': Timestamp('2024-04-10 00:00:00'), ' COUPLER 취부': Timestamp('2024-04-11 00:00:00'), ' 제동기기 취부 및 누설검사': Timestamp('2024-04-11 00:00:00'), ' D+5~13일차 조정작업': Timestamp('2024-04-12 00:00:00'), ' 배전반 취부 및 배선작업': Timestamp('2024-04-12 00:00:00'), ' ROOF 내장판 취부': Timestamp('2024-04-13 00:00:00'), ' 상하 전장기기 취부 결선': Timestamp('2024-04-15 00:00:00'), ' SIDE 내장판 취부': Timestamp('2024-04-15 00:00:00'), ' AIR CON 취부': Timestamp('2024-04-16 00:00:00'), ' 내장판 조정작업(완료)': Timestamp('2024-04-17 00:00:00'), ' 내장판 취부 검사': Timestamp('2024-04-18 00:00:00'), ' 전장기기 취부 결선 완료': Timestamp('2024-04-19 00:00:00'), ' 도통검사(량단위 시험기)': Timestamp('2024-04-22 00:00:00'), ' 도통 자체 검사(완료)': Timestamp('2024-04-23 00:00:00'), ' 도통 검사 수정': Timestamp('2024-04-24 00:00:00'), ' 도통입회검사/내전압자체검사': Timestamp('2024-04-25 00:00:00'), ' 내전압 입회검사': Timestamp('2024-04-26 00:00:00'), ' 수정작업 및 점검커버 복구': Timestamp('2024-04-27 00:00:00'), ' D+17~20일차 조정작업': Timestamp('2024-04-27 00:00:00'), ' 전장취부, 결선 복구 완료': Timestamp('2024-04-27 00:00:00'), ' 실내 조정 및 실내·외 설비 완료': Timestamp('2024-04-27 00:00:00'), ' 전장품 취부 입회검사': Timestamp('2024-04-29 00:00:00'), ' 복구 및 수정작업': Timestamp('2024-04-29 00:00:00'), ' 실내 설비 입회검사': Timestamp('2024-04-30 00:00:00')}\n",
      "SubwayCar Name: S019-M2'\n",
      "Activities: {' 실내/상하 배선': Timestamp('2024-03-02 00:00:00'), ' 실내 배선 작업': Timestamp('2024-03-04 00:00:00'), ' 하부덕트검사\\n (D+1~4일차 조정작업)': Timestamp('2024-03-05 00:00:00'), ' 실내 배선 검사': Timestamp('2024-03-06 00:00:00'), ' 객실도어 취부': Timestamp('2024-03-12 00:00:00'), ' 객실도어 취부 검사': Timestamp('2024-03-13 00:00:00'), ' 배관 MODULE 취부': Timestamp('2024-03-13 00:00:00'), ' 제동기기 취부 및 누설검사': Timestamp('2024-03-15 00:00:00'), ' COUPLER 취부': Timestamp('2024-03-16 00:00:00'), ' D+5~13일차 조정작업': Timestamp('2024-03-16 00:00:00'), ' 상하 전장기기 취부 결선': Timestamp('2024-03-18 00:00:00'), ' AIR DUCT MODULE 취부': Timestamp('2024-03-19 00:00:00'), ' CENTER GRILL 취부': Timestamp('2024-03-20 00:00:00'), ' CENTER PIVOT 취부': Timestamp('2024-03-20 00:00:00'), ' AIR DUCT MODULE 취부 검사': Timestamp('2024-03-21 00:00:00'), ' 배전반 취부 및 배선작업': Timestamp('2024-03-22 00:00:00'), ' ROOF 내장판 취부': Timestamp('2024-03-23 00:00:00'), ' SIDE 내장판 취부': Timestamp('2024-03-25 00:00:00'), ' 내장판 조정작업(완료)': Timestamp('2024-03-26 00:00:00'), ' 내장판 취부 검사': Timestamp('2024-03-27 00:00:00'), ' AIR CON 취부': Timestamp('2024-03-28 00:00:00'), ' 전장기기 취부 결선 완료': Timestamp('2024-03-28 00:00:00'), ' 도통검사(량단위 시험기)': Timestamp('2024-03-29 00:00:00'), ' 도통 자체 검사(완료)': Timestamp('2024-03-30 00:00:00'), ' 도통 검사 수정': Timestamp('2024-04-12 00:00:00'), ' 도통입회검사/내전압자체검사': Timestamp('2024-04-13 00:00:00'), ' 내전압 입회검사': Timestamp('2024-04-15 00:00:00'), ' 수정작업 및 점검커버 복구': Timestamp('2024-04-16 00:00:00'), ' D+17~20일차 조정작업': Timestamp('2024-04-16 00:00:00'), ' 전장취부, 결선 복구 완료': Timestamp('2024-04-16 00:00:00'), ' 실내 조정 및 실내·외 설비 완료': Timestamp('2024-04-16 00:00:00'), ' 전장품 취부 입회검사': Timestamp('2024-04-17 00:00:00'), ' 복구 및 수정작업': Timestamp('2024-04-17 00:00:00'), ' 실내 설비 입회검사': Timestamp('2024-04-18 00:00:00'), ' 대차차입 전검사 / 대차차입': Timestamp('2024-04-18 00:00:00'), ' 대차 전장품 취부 결선 & 마무리': Timestamp('2024-04-19 00:00:00'), ' 대차차입 후 검사': Timestamp('2024-04-19 00:00:00')}\n",
      "SubwayCar Name: S012-M1\n",
      "Activities: {' 객실도어 취부': Timestamp('2024-03-02 00:00:00'), ' 객실도어 취부 검사': Timestamp('2024-03-04 00:00:00'), ' 배관 MODULE 취부': Timestamp('2024-03-04 00:00:00'), ' AIR DUCT MODULE 취부': Timestamp('2024-03-05 00:00:00'), ' CENTER GRILL 취부': Timestamp('2024-03-06 00:00:00'), ' 제동기기 취부 및 누설검사': Timestamp('2024-03-06 00:00:00'), ' AIR DUCT MODULE 취부 검사': Timestamp('2024-03-07 00:00:00'), ' COUPLER 취부': Timestamp('2024-03-07 00:00:00'), ' D+5~13일차 조정작업': Timestamp('2024-03-07 00:00:00'), ' 배전반 취부 및 배선작업': Timestamp('2024-03-08 00:00:00'), ' 상하 전장기기 취부 결선': Timestamp('2024-03-08 00:00:00'), ' ROOF 내장판 취부': Timestamp('2024-03-09 00:00:00'), ' SIDE 내장판 취부': Timestamp('2024-03-11 00:00:00'), ' 내장판 조정작업(완료)': Timestamp('2024-03-12 00:00:00'), ' 내장판 취부 검사': Timestamp('2024-03-13 00:00:00'), ' 전장기기 취부 결선 완료': Timestamp('2024-03-14 00:00:00'), ' 도통검사(량단위 시험기)': Timestamp('2024-03-15 00:00:00'), ' CENTER PIVOT 취부': Timestamp('2024-03-15 00:00:00'), ' 도통 자체 검사(완료)': Timestamp('2024-03-16 00:00:00'), ' 도통 검사 수정': Timestamp('2024-03-18 00:00:00'), ' 도통입회검사/내전압자체검사': Timestamp('2024-03-19 00:00:00'), ' AIR CON 취부': Timestamp('2024-03-19 00:00:00'), ' 내전압 입회검사': Timestamp('2024-03-20 00:00:00'), ' 수정작업 및 점검커버 복구': Timestamp('2024-03-21 00:00:00'), ' D+17~20일차 조정작업': Timestamp('2024-03-21 00:00:00'), ' 전장취부, 결선 복구 완료': Timestamp('2024-03-21 00:00:00'), ' 실내 조정 및 실내·외 설비 완료': Timestamp('2024-03-21 00:00:00'), ' 전장품 취부 입회검사': Timestamp('2024-03-22 00:00:00'), ' 복구 및 수정작업': Timestamp('2024-03-22 00:00:00'), ' 실내 설비 입회검사': Timestamp('2024-03-23 00:00:00'), ' 대차차입 전검사 / 대차차입': Timestamp('2024-04-15 00:00:00'), ' 대차 전장품 취부 결선 & 마무리': Timestamp('2024-04-16 00:00:00'), ' 대차차입 후 검사': Timestamp('2024-04-16 00:00:00')}\n",
      "SubwayCar Name: S021-TC1\n",
      "Activities: {' 실내/상하 배선': Timestamp('2024-03-02 00:00:00'), ' 실내 배선 작업': Timestamp('2024-03-04 00:00:00'), ' 하부덕트검사\\n (D+1~4일차 조정작업)': Timestamp('2024-03-05 00:00:00'), ' 실내 배선 검사': Timestamp('2024-03-06 00:00:00'), ' 내장판 조정작업(완료)': Timestamp('2024-03-28 00:00:00'), ' AIR DUCT MODULE 취부': Timestamp('2024-04-01 00:00:00'), ' 객실도어 취부 검사': Timestamp('2024-04-02 00:00:00'), ' CENTER GRILL 취부': Timestamp('2024-04-02 00:00:00'), ' AIR DUCT MODULE 취부 검사': Timestamp('2024-04-03 00:00:00'), ' 배관 MODULE 취부': Timestamp('2024-04-04 00:00:00'), ' CENTER PIVOT 취부': Timestamp('2024-04-05 00:00:00'), ' COUPLER 취부': Timestamp('2024-04-06 00:00:00'), ' 제동기기 취부 및 누설검사': Timestamp('2024-04-06 00:00:00'), ' CAB MODULE 취부(TC)': Timestamp('2024-04-08 00:00:00'), ' D+5~13일차 조정작업': Timestamp('2024-04-08 00:00:00'), ' ROOF 내장판 취부': Timestamp('2024-04-09 00:00:00'), ' 상하 전장기기 취부 결선': Timestamp('2024-04-10 00:00:00'), ' SIDE 내장판 취부': Timestamp('2024-04-10 00:00:00'), ' AIR CON 취부': Timestamp('2024-04-11 00:00:00'), ' 배전반 취부 및 배선작업': Timestamp('2024-04-15 00:00:00'), ' 운전실 내장판 취부': Timestamp('2024-04-17 00:00:00'), ' 운전실 캐비넷 취부(TC)': Timestamp('2024-04-18 00:00:00'), ' 운전실 배전반 결선(TC)': Timestamp('2024-04-19 00:00:00'), ' 내장판 취부 검사': Timestamp('2024-04-20 00:00:00'), ' 운전실 DOOR 취부(TC)': Timestamp('2024-04-20 00:00:00')}\n",
      "SubwayCar Name: S004-T1\n",
      "Activities: {' 대차 전장품 취부 결선 & 마무리': Timestamp('2024-03-02 00:00:00'), ' 대차차입 후 검사': Timestamp('2024-03-02 00:00:00'), ' 도통입회검사/내전압자체검사': Timestamp('2024-03-04 00:00:00'), ' 내전압 입회검사': Timestamp('2024-03-11 00:00:00')}\n",
      "SubwayCar Name: S029-M2'\n",
      "Activities: {' 흡음재 취부': Timestamp('2024-03-04 00:00:00'), ' 흡음재 씰링/검사/수정': Timestamp('2024-03-06 00:00:00'), ' 측창취부/T-BOLT 삽입': Timestamp('2024-03-06 00:00:00'), ' 리무벌/파티션 프레임 취부': Timestamp('2024-03-07 00:00:00'), ' 실내/상하 CABLE HARNESS 취부': Timestamp('2024-03-08 00:00:00'), ' 실내/상하 배선': Timestamp('2024-03-11 00:00:00'), ' 실내 배선 작업': Timestamp('2024-03-12 00:00:00'), ' 하부덕트검사\\n (D+1~4일차 조정작업)': Timestamp('2024-03-13 00:00:00'), ' 실내 배선 검사': Timestamp('2024-03-14 00:00:00'), ' 객실도어 취부 검사': Timestamp('2024-04-17 00:00:00'), ' AIR DUCT MODULE 취부': Timestamp('2024-04-17 00:00:00'), ' CENTER GRILL 취부': Timestamp('2024-04-18 00:00:00'), ' AIR DUCT MODULE 취부 검사': Timestamp('2024-04-19 00:00:00'), ' 배관 MODULE 취부': Timestamp('2024-04-20 00:00:00'), ' 배전반 취부 및 배선작업': Timestamp('2024-04-22 00:00:00'), ' CENTER PIVOT 취부': Timestamp('2024-04-22 00:00:00'), ' COUPLER 취부': Timestamp('2024-04-23 00:00:00'), ' 제동기기 취부 및 누설검사': Timestamp('2024-04-23 00:00:00'), ' D+5~13일차 조정작업': Timestamp('2024-04-24 00:00:00'), ' ROOF 내장판 취부': Timestamp('2024-04-25 00:00:00'), ' 상하 전장기기 취부 결선': Timestamp('2024-04-26 00:00:00'), ' SIDE 내장판 취부': Timestamp('2024-04-26 00:00:00'), ' AIR CON 취부': Timestamp('2024-04-27 00:00:00'), ' 내장판 조정작업(완료)': Timestamp('2024-04-27 00:00:00'), ' 내장판 취부 검사': Timestamp('2024-04-29 00:00:00'), ' 전장기기 취부 결선 완료': Timestamp('2024-04-30 00:00:00')}\n",
      "SubwayCar Name: S027-T1'\n",
      "Activities: {' 흡음재 씰링/검사/수정': Timestamp('2024-03-04 00:00:00'), ' 측창취부/T-BOLT 삽입': Timestamp('2024-03-04 00:00:00'), ' 리무벌/파티션 프레임 취부': Timestamp('2024-03-05 00:00:00'), ' 실내/상하 CABLE HARNESS 취부': Timestamp('2024-03-06 00:00:00'), ' 실내/상하 배선': Timestamp('2024-03-08 00:00:00'), ' 실내 배선 작업': Timestamp('2024-03-09 00:00:00'), ' 하부덕트검사\\n (D+1~4일차 조정작업)': Timestamp('2024-03-11 00:00:00'), ' 실내 배선 검사': Timestamp('2024-03-12 00:00:00'), ' 객실도어 취부 검사': Timestamp('2024-04-12 00:00:00'), ' AIR DUCT MODULE 취부': Timestamp('2024-04-12 00:00:00'), ' CENTER GRILL 취부': Timestamp('2024-04-13 00:00:00'), ' AIR DUCT MODULE 취부 검사': Timestamp('2024-04-15 00:00:00'), ' 배관 MODULE 취부': Timestamp('2024-04-16 00:00:00'), ' 배전반 취부 및 배선작업': Timestamp('2024-04-17 00:00:00'), ' CENTER PIVOT 취부': Timestamp('2024-04-17 00:00:00'), ' COUPLER 취부': Timestamp('2024-04-18 00:00:00'), ' 제동기기 취부 및 누설검사': Timestamp('2024-04-18 00:00:00'), ' D+5~13일차 조정작업': Timestamp('2024-04-19 00:00:00'), ' ROOF 내장판 취부': Timestamp('2024-04-20 00:00:00'), ' 상하 전장기기 취부 결선': Timestamp('2024-04-22 00:00:00'), ' SIDE 내장판 취부': Timestamp('2024-04-22 00:00:00'), ' AIR CON 취부': Timestamp('2024-04-23 00:00:00'), ' 내장판 조정작업(완료)': Timestamp('2024-04-23 00:00:00'), ' 내장판 취부 검사': Timestamp('2024-04-24 00:00:00'), ' 전장기기 취부 결선 완료': Timestamp('2024-04-25 00:00:00'), ' 도통검사(량단위 시험기)': Timestamp('2024-04-27 00:00:00'), ' 도통 자체 검사(완료)': Timestamp('2024-04-29 00:00:00'), ' 도통 검사 수정': Timestamp('2024-04-30 00:00:00')}\n",
      "SubwayCar Name: S022-M1\n",
      "Activities: {' 실내/상하 배선': Timestamp('2024-03-04 00:00:00'), ' 실내 배선 작업': Timestamp('2024-03-05 00:00:00'), ' 하부덕트검사\\n (D+1~4일차 조정작업)': Timestamp('2024-03-06 00:00:00'), ' 실내 배선 검사': Timestamp('2024-03-07 00:00:00'), ' 내장판 조정작업(완료)': Timestamp('2024-03-28 00:00:00'), ' AIR DUCT MODULE 취부': Timestamp('2024-04-02 00:00:00'), ' 객실도어 취부 검사': Timestamp('2024-04-03 00:00:00'), ' CENTER GRILL 취부': Timestamp('2024-04-03 00:00:00'), ' AIR DUCT MODULE 취부 검사': Timestamp('2024-04-04 00:00:00'), ' 배관 MODULE 취부': Timestamp('2024-04-05 00:00:00'), ' CENTER PIVOT 취부': Timestamp('2024-04-06 00:00:00'), ' COUPLER 취부': Timestamp('2024-04-08 00:00:00'), ' 제동기기 취부 및 누설검사': Timestamp('2024-04-08 00:00:00'), ' 배전반 취부 및 배선작업': Timestamp('2024-04-09 00:00:00'), ' D+5~13일차 조정작업': Timestamp('2024-04-09 00:00:00'), ' ROOF 내장판 취부': Timestamp('2024-04-10 00:00:00'), ' 상하 전장기기 취부 결선': Timestamp('2024-04-11 00:00:00'), ' SIDE 내장판 취부': Timestamp('2024-04-11 00:00:00'), ' AIR CON 취부': Timestamp('2024-04-12 00:00:00'), ' 내장판 취부 검사': Timestamp('2024-04-15 00:00:00'), ' 전장기기 취부 결선 완료': Timestamp('2024-04-16 00:00:00'), ' 도통검사(량단위 시험기)': Timestamp('2024-04-17 00:00:00'), ' 도통 자체 검사(완료)': Timestamp('2024-04-18 00:00:00'), ' 도통 검사 수정': Timestamp('2024-04-19 00:00:00'), ' 도통입회검사/내전압자체검사': Timestamp('2024-04-20 00:00:00'), ' 내전압 입회검사': Timestamp('2024-04-22 00:00:00'), ' 수정작업 및 점검커버 복구': Timestamp('2024-04-23 00:00:00'), ' D+17~20일차 조정작업': Timestamp('2024-04-23 00:00:00'), ' 전장취부, 결선 복구 완료': Timestamp('2024-04-23 00:00:00'), ' 실내 조정 및 실내·외 설비 완료': Timestamp('2024-04-23 00:00:00'), ' 전장품 취부 입회검사': Timestamp('2024-04-24 00:00:00'), ' 복구 및 수정작업': Timestamp('2024-04-24 00:00:00'), ' 실내 설비 입회검사': Timestamp('2024-04-25 00:00:00'), ' 대차차입 전검사 / 대차차입': Timestamp('2024-04-26 00:00:00'), ' 대차 전장품 취부 결선 & 마무리': Timestamp('2024-04-27 00:00:00'), ' 대차차입 후 검사': Timestamp('2024-04-27 00:00:00')}\n",
      "SubwayCar Name: S020-TC2\n",
      "Activities: {' 객실도어 취부': Timestamp('2024-03-04 00:00:00'), ' 객실도어 취부 검사': Timestamp('2024-03-05 00:00:00'), ' 배관 MODULE 취부': Timestamp('2024-03-05 00:00:00'), ' AIR DUCT MODULE 취부': Timestamp('2024-03-07 00:00:00'), ' 제동기기 취부 및 누설검사': Timestamp('2024-03-07 00:00:00'), ' CENTER GRILL 취부': Timestamp('2024-03-08 00:00:00'), ' COUPLER 취부': Timestamp('2024-03-08 00:00:00'), ' D+5~13일차 조정작업': Timestamp('2024-03-08 00:00:00'), ' AIR DUCT MODULE 취부 검사': Timestamp('2024-03-09 00:00:00'), ' CAB MODULE 취부(TC)': Timestamp('2024-03-09 00:00:00'), ' 상하 전장기기 취부 결선': Timestamp('2024-03-09 00:00:00'), ' 배전반 취부 및 배선작업': Timestamp('2024-03-11 00:00:00'), ' 운전실 내장판 취부': Timestamp('2024-03-11 00:00:00'), ' ROOF 내장판 취부': Timestamp('2024-03-12 00:00:00'), ' 운전실 캐비넷 취부(TC)': Timestamp('2024-03-12 00:00:00'), ' SIDE 내장판 취부': Timestamp('2024-03-13 00:00:00'), ' 운전실 배전반 결선(TC)': Timestamp('2024-03-13 00:00:00'), ' 내장판 조정작업(완료)': Timestamp('2024-03-14 00:00:00'), ' 운전실 DOOR 취부(TC)': Timestamp('2024-03-14 00:00:00'), ' 내장판 취부 검사': Timestamp('2024-03-15 00:00:00'), ' CENTER PIVOT 취부': Timestamp('2024-03-16 00:00:00'), ' AIR CON 취부': Timestamp('2024-03-20 00:00:00'), ' 운전실 전장기기 취부 결선(TC)': Timestamp('2024-03-28 00:00:00'), ' 전장기기 취부 결선 완료': Timestamp('2024-03-29 00:00:00'), ' 도통검사(량단위 시험기)': Timestamp('2024-03-30 00:00:00'), ' 도통 자체 검사(완료)': Timestamp('2024-04-15 00:00:00'), ' 도통 검사 수정': Timestamp('2024-04-16 00:00:00'), ' 도통입회검사/내전압자체검사': Timestamp('2024-04-17 00:00:00'), ' 내전압 입회검사': Timestamp('2024-04-18 00:00:00'), ' 수정작업 및 점검커버 복구': Timestamp('2024-04-19 00:00:00'), ' D+17~20일차 조정작업': Timestamp('2024-04-19 00:00:00'), ' 전장취부, 결선 복구 완료': Timestamp('2024-04-19 00:00:00'), ' 실내 조정 및 실내·외 설비 완료': Timestamp('2024-04-19 00:00:00'), ' 전장품 취부 입회검사': Timestamp('2024-04-20 00:00:00'), ' 복구 및 수정작업': Timestamp('2024-04-20 00:00:00'), ' 실내 설비 입회검사': Timestamp('2024-04-22 00:00:00'), ' 대차차입 전검사 / 대차차입': Timestamp('2024-04-22 00:00:00'), ' 대차 전장품 취부 결선 & 마무리': Timestamp('2024-04-23 00:00:00'), ' 대차차입 후 검사': Timestamp('2024-04-23 00:00:00')}\n",
      "SubwayCar Name: S005-M2\n",
      "Activities: {' 전장품 취부 입회검사': Timestamp('2024-03-04 00:00:00'), ' 복구 및 수정작업': Timestamp('2024-03-04 00:00:00'), ' 실내 설비 입회검사': Timestamp('2024-03-05 00:00:00'), ' 대차차입 전검사 / 대차차입': Timestamp('2024-03-05 00:00:00'), ' 대차 전장품 취부 결선 & 마무리': Timestamp('2024-03-06 00:00:00'), ' 대차차입 후 검사': Timestamp('2024-03-06 00:00:00'), ' 도통입회검사/내전압자체검사': Timestamp('2024-03-07 00:00:00'), ' 내전압 입회검사': Timestamp('2024-03-14 00:00:00')}\n",
      "SubwayCar Name: S006-T2\n",
      "Activities: {' 대차 전장품 취부 결선 & 마무리': Timestamp('2024-03-04 00:00:00'), ' 대차차입 후 검사': Timestamp('2024-03-04 00:00:00'), ' 도통입회검사/내전압자체검사': Timestamp('2024-03-05 00:00:00'), ' 내전압 입회검사': Timestamp('2024-03-12 00:00:00')}\n",
      "SubwayCar Name: S030-TC2\n",
      "Activities: {' 실내/상하 배선': Timestamp('2024-03-04 00:00:00'), ' 실내 배선 작업': Timestamp('2024-03-05 00:00:00'), ' 하부덕트검사\\n (D+1~4일차 조정작업)': Timestamp('2024-03-06 00:00:00'), ' 실내 배선 검사': Timestamp('2024-03-07 00:00:00'), ' AIR DUCT MODULE 취부': Timestamp('2024-04-03 00:00:00'), ' 객실도어 취부 검사': Timestamp('2024-04-04 00:00:00'), ' CENTER GRILL 취부': Timestamp('2024-04-04 00:00:00'), ' AIR DUCT MODULE 취부 검사': Timestamp('2024-04-05 00:00:00'), ' 배관 MODULE 취부': Timestamp('2024-04-06 00:00:00'), ' CENTER PIVOT 취부': Timestamp('2024-04-08 00:00:00'), ' COUPLER 취부': Timestamp('2024-04-09 00:00:00'), ' 제동기기 취부 및 누설검사': Timestamp('2024-04-09 00:00:00'), ' CAB MODULE 취부(TC)': Timestamp('2024-04-10 00:00:00'), ' D+5~13일차 조정작업': Timestamp('2024-04-10 00:00:00'), ' ROOF 내장판 취부': Timestamp('2024-04-11 00:00:00'), ' 상하 전장기기 취부 결선': Timestamp('2024-04-12 00:00:00'), ' SIDE 내장판 취부': Timestamp('2024-04-12 00:00:00'), ' AIR CON 취부': Timestamp('2024-04-13 00:00:00'), ' 배전반 취부 및 배선작업': Timestamp('2024-04-16 00:00:00'), ' 운전실 내장판 취부': Timestamp('2024-04-18 00:00:00'), ' 운전실 캐비넷 취부(TC)': Timestamp('2024-04-19 00:00:00'), ' 운전실 배전반 결선(TC)': Timestamp('2024-04-20 00:00:00'), ' 내장판 조정작업(완료)': Timestamp('2024-04-20 00:00:00'), ' 내장판 취부 검사': Timestamp('2024-04-22 00:00:00'), ' 운전실 DOOR 취부(TC)': Timestamp('2024-04-22 00:00:00')}\n",
      "SubwayCar Name: S001-TC1\n",
      "Activities: {' 전장품 취부 입회검사': Timestamp('2024-03-04 00:00:00'), ' 복구 및 수정작업': Timestamp('2024-03-04 00:00:00'), ' 실내 설비 입회검사': Timestamp('2024-03-05 00:00:00'), ' 대차차입 전검사 / 대차차입': Timestamp('2024-03-05 00:00:00'), ' 대차 전장품 취부 결선 & 마무리': Timestamp('2024-03-06 00:00:00'), ' 대차차입 후 검사': Timestamp('2024-03-06 00:00:00'), ' 도통입회검사/내전압자체검사': Timestamp('2024-03-08 00:00:00'), ' 내전압 입회검사': Timestamp('2024-03-15 00:00:00')}\n",
      "SubwayCar Name: S010-TC2\n",
      "Activities: {' 전장품 취부 입회검사': Timestamp('2024-03-04 00:00:00'), ' 복구 및 수정작업': Timestamp('2024-03-04 00:00:00'), ' 실내 설비 입회검사': Timestamp('2024-03-05 00:00:00'), ' 대차차입 전검사 / 대차차입': Timestamp('2024-03-05 00:00:00'), ' 대차 전장품 취부 결선 & 마무리': Timestamp('2024-03-06 00:00:00'), ' 대차차입 후 검사': Timestamp('2024-03-06 00:00:00'), ' 도통입회검사/내전압자체검사': Timestamp('2024-03-08 00:00:00'), ' 내전압 입회검사': Timestamp('2024-03-15 00:00:00')}\n",
      "SubwayCar Name: S007-T1'\n",
      "Activities: {' 대차 전장품 취부 결선 & 마무리': Timestamp('2024-03-04 00:00:00'), ' 대차차입 후 검사': Timestamp('2024-03-04 00:00:00'), ' 도통입회검사/내전압자체검사': Timestamp('2024-03-05 00:00:00'), ' 내전압 입회검사': Timestamp('2024-03-12 00:00:00')}\n",
      "SubwayCar Name: S028-M1\n",
      "Activities: {' 흡음재 씰링/검사/수정': Timestamp('2024-03-05 00:00:00'), ' 측창취부/T-BOLT 삽입': Timestamp('2024-03-05 00:00:00'), ' 리무벌/파티션 프레임 취부': Timestamp('2024-03-06 00:00:00'), ' 실내/상하 CABLE HARNESS 취부': Timestamp('2024-03-07 00:00:00'), ' 실내/상하 배선': Timestamp('2024-03-09 00:00:00'), ' 실내 배선 작업': Timestamp('2024-03-11 00:00:00'), ' 하부덕트검사\\n (D+1~4일차 조정작업)': Timestamp('2024-03-12 00:00:00'), ' 실내 배선 검사': Timestamp('2024-03-13 00:00:00'), ' 객실도어 취부 검사': Timestamp('2024-04-16 00:00:00'), ' AIR DUCT MODULE 취부': Timestamp('2024-04-17 00:00:00'), ' CENTER GRILL 취부': Timestamp('2024-04-18 00:00:00'), ' AIR DUCT MODULE 취부 검사': Timestamp('2024-04-19 00:00:00'), ' 배관 MODULE 취부': Timestamp('2024-04-20 00:00:00'), ' 배전반 취부 및 배선작업': Timestamp('2024-04-22 00:00:00'), ' CENTER PIVOT 취부': Timestamp('2024-04-22 00:00:00'), ' COUPLER 취부': Timestamp('2024-04-23 00:00:00'), ' 제동기기 취부 및 누설검사': Timestamp('2024-04-23 00:00:00'), ' D+5~13일차 조정작업': Timestamp('2024-04-24 00:00:00'), ' ROOF 내장판 취부': Timestamp('2024-04-25 00:00:00'), ' 상하 전장기기 취부 결선': Timestamp('2024-04-26 00:00:00'), ' SIDE 내장판 취부': Timestamp('2024-04-26 00:00:00'), ' AIR CON 취부': Timestamp('2024-04-27 00:00:00'), ' 내장판 조정작업(완료)': Timestamp('2024-04-27 00:00:00'), ' 내장판 취부 검사': Timestamp('2024-04-29 00:00:00'), ' 전장기기 취부 결선 완료': Timestamp('2024-04-30 00:00:00')}\n",
      "SubwayCar Name: S013-M2\n",
      "Activities: {' 객실도어 취부': Timestamp('2024-03-05 00:00:00'), ' 객실도어 취부 검사': Timestamp('2024-03-06 00:00:00'), ' 배관 MODULE 취부': Timestamp('2024-03-06 00:00:00'), ' AIR DUCT MODULE 취부': Timestamp('2024-03-07 00:00:00'), ' 제동기기 취부 및 누설검사': Timestamp('2024-03-08 00:00:00'), ' CENTER GRILL 취부': Timestamp('2024-03-08 00:00:00'), ' COUPLER 취부': Timestamp('2024-03-09 00:00:00'), ' D+5~13일차 조정작업': Timestamp('2024-03-09 00:00:00'), ' AIR DUCT MODULE 취부 검사': Timestamp('2024-03-09 00:00:00'), ' 상하 전장기기 취부 결선': Timestamp('2024-03-11 00:00:00'), ' 배전반 취부 및 배선작업': Timestamp('2024-03-11 00:00:00'), ' ROOF 내장판 취부': Timestamp('2024-03-12 00:00:00'), ' SIDE 내장판 취부': Timestamp('2024-03-13 00:00:00'), ' 내장판 조정작업(완료)': Timestamp('2024-03-14 00:00:00'), ' 내장판 취부 검사': Timestamp('2024-03-15 00:00:00'), ' 전장기기 취부 결선 완료': Timestamp('2024-03-16 00:00:00'), ' CENTER PIVOT 취부': Timestamp('2024-03-16 00:00:00'), ' 도통검사(량단위 시험기)': Timestamp('2024-03-18 00:00:00'), ' 도통 자체 검사(완료)': Timestamp('2024-03-19 00:00:00'), ' 도통 검사 수정': Timestamp('2024-03-20 00:00:00'), ' AIR CON 취부': Timestamp('2024-03-21 00:00:00'), ' 도통입회검사/내전압자체검사': Timestamp('2024-03-21 00:00:00'), ' 내전압 입회검사': Timestamp('2024-03-22 00:00:00'), ' 수정작업 및 점검커버 복구': Timestamp('2024-03-23 00:00:00'), ' D+17~20일차 조정작업': Timestamp('2024-03-23 00:00:00'), ' 전장취부, 결선 복구 완료': Timestamp('2024-03-23 00:00:00'), ' 실내 조정 및 실내·외 설비 완료': Timestamp('2024-03-23 00:00:00'), ' 전장품 취부 입회검사': Timestamp('2024-03-25 00:00:00'), ' 복구 및 수정작업': Timestamp('2024-03-25 00:00:00'), ' 실내 설비 입회검사': Timestamp('2024-03-26 00:00:00'), ' 대차차입 전검사 / 대차차입': Timestamp('2024-04-16 00:00:00'), ' 대차 전장품 취부 결선 & 마무리': Timestamp('2024-04-17 00:00:00'), ' 대차차입 후 검사': Timestamp('2024-04-17 00:00:00')}\n",
      "SubwayCar Name: S002-M1\n",
      "Activities: {' 대차 전장품 취부 결선 & 마무리': Timestamp('2024-03-05 00:00:00'), ' 대차차입 후 검사': Timestamp('2024-03-05 00:00:00'), ' 도통입회검사/내전압자체검사': Timestamp('2024-03-06 00:00:00'), ' 내전압 입회검사': Timestamp('2024-03-13 00:00:00')}\n",
      "SubwayCar Name: S023-M2\n",
      "Activities: {' 실내/상하 배선': Timestamp('2024-03-05 00:00:00'), ' 실내 배선 작업': Timestamp('2024-03-06 00:00:00'), ' 하부덕트검사\\n (D+1~4일차 조정작업)': Timestamp('2024-03-07 00:00:00'), ' 실내 배선 검사': Timestamp('2024-03-08 00:00:00'), ' AIR DUCT MODULE 취부': Timestamp('2024-04-04 00:00:00'), ' 객실도어 취부 검사': Timestamp('2024-04-05 00:00:00'), ' CENTER GRILL 취부': Timestamp('2024-04-05 00:00:00'), ' AIR DUCT MODULE 취부 검사': Timestamp('2024-04-06 00:00:00'), ' 배관 MODULE 취부': Timestamp('2024-04-08 00:00:00'), ' CENTER PIVOT 취부': Timestamp('2024-04-09 00:00:00'), ' 배전반 취부 및 배선작업': Timestamp('2024-04-09 00:00:00'), ' COUPLER 취부': Timestamp('2024-04-10 00:00:00'), ' 제동기기 취부 및 누설검사': Timestamp('2024-04-10 00:00:00'), ' D+5~13일차 조정작업': Timestamp('2024-04-11 00:00:00'), ' ROOF 내장판 취부': Timestamp('2024-04-12 00:00:00'), ' 상하 전장기기 취부 결선': Timestamp('2024-04-13 00:00:00'), ' SIDE 내장판 취부': Timestamp('2024-04-13 00:00:00'), ' 내장판 조정작업(완료)': Timestamp('2024-04-13 00:00:00'), ' AIR CON 취부': Timestamp('2024-04-15 00:00:00'), ' 내장판 취부 검사': Timestamp('2024-04-15 00:00:00'), ' 전장기기 취부 결선 완료': Timestamp('2024-04-16 00:00:00'), ' 도통검사(량단위 시험기)': Timestamp('2024-04-18 00:00:00'), ' 도통 자체 검사(완료)': Timestamp('2024-04-19 00:00:00'), ' 도통 검사 수정': Timestamp('2024-04-20 00:00:00'), ' 도통입회검사/내전압자체검사': Timestamp('2024-04-22 00:00:00'), ' 내전압 입회검사': Timestamp('2024-04-23 00:00:00'), ' 수정작업 및 점검커버 복구': Timestamp('2024-04-24 00:00:00'), ' D+17~20일차 조정작업': Timestamp('2024-04-24 00:00:00'), ' 전장취부, 결선 복구 완료': Timestamp('2024-04-24 00:00:00'), ' 실내 조정 및 실내·외 설비 완료': Timestamp('2024-04-24 00:00:00'), ' 전장품 취부 입회검사': Timestamp('2024-04-25 00:00:00'), ' 복구 및 수정작업': Timestamp('2024-04-25 00:00:00'), ' 실내 설비 입회검사': Timestamp('2024-04-26 00:00:00'), ' 대차차입 전검사 / 대차차입': Timestamp('2024-04-27 00:00:00'), ' 대차 전장품 취부 결선 & 마무리': Timestamp('2024-04-29 00:00:00'), ' 대차차입 후 검사': Timestamp('2024-04-29 00:00:00')}\n",
      "SubwayCar Name: S008-M1\n",
      "Activities: {' 대차 전장품 취부 결선 & 마무리': Timestamp('2024-03-05 00:00:00'), ' 대차차입 후 검사': Timestamp('2024-03-05 00:00:00'), ' 도통입회검사/내전압자체검사': Timestamp('2024-03-06 00:00:00'), ' 내전압 입회검사': Timestamp('2024-03-13 00:00:00')}\n",
      "SubwayCar Name: S031-TC1\n",
      "Activities: {' 흡음재 취부': Timestamp('2024-03-06 00:00:00'), ' 흡음재 씰링/검사/수정': Timestamp('2024-03-08 00:00:00'), ' 측창취부/T-BOLT 삽입': Timestamp('2024-03-08 00:00:00'), ' 리무벌/파티션 프레임 취부': Timestamp('2024-03-09 00:00:00'), ' 실내/상하 CABLE HARNESS 취부': Timestamp('2024-03-11 00:00:00'), ' 실내/상하 배선': Timestamp('2024-03-12 00:00:00'), ' 실내 배선 작업': Timestamp('2024-03-13 00:00:00'), ' 하부덕트검사\\n (D+1~4일차 조정작업)': Timestamp('2024-03-14 00:00:00'), ' 실내 배선 검사': Timestamp('2024-03-15 00:00:00'), ' AIR DUCT MODULE 취부': Timestamp('2024-04-19 00:00:00'), ' CENTER GRILL 취부': Timestamp('2024-04-20 00:00:00'), ' AIR DUCT MODULE 취부 검사': Timestamp('2024-04-22 00:00:00'), ' 배관 MODULE 취부': Timestamp('2024-04-23 00:00:00'), ' 객실도어 취부 검사': Timestamp('2024-04-24 00:00:00'), ' CENTER PIVOT 취부': Timestamp('2024-04-24 00:00:00'), ' COUPLER 취부': Timestamp('2024-04-25 00:00:00'), ' 제동기기 취부 및 누설검사': Timestamp('2024-04-25 00:00:00'), ' D+5~13일차 조정작업': Timestamp('2024-04-26 00:00:00'), ' ROOF 내장판 취부': Timestamp('2024-04-27 00:00:00'), ' 상하 전장기기 취부 결선': Timestamp('2024-04-29 00:00:00'), ' SIDE 내장판 취부': Timestamp('2024-04-29 00:00:00'), ' AIR CON 취부': Timestamp('2024-04-30 00:00:00')}\n",
      "SubwayCar Name: S014-T1\n",
      "Activities: {' 객실도어 취부': Timestamp('2024-03-06 00:00:00'), ' 배관 MODULE 취부': Timestamp('2024-03-06 00:00:00'), ' 객실도어 취부 검사': Timestamp('2024-03-07 00:00:00'), ' 제동기기 취부 및 누설검사': Timestamp('2024-03-08 00:00:00'), ' COUPLER 취부': Timestamp('2024-03-09 00:00:00'), ' D+5~13일차 조정작업': Timestamp('2024-03-09 00:00:00'), ' 상하 전장기기 취부 결선': Timestamp('2024-03-11 00:00:00'), ' AIR DUCT MODULE 취부': Timestamp('2024-03-12 00:00:00'), ' CENTER GRILL 취부': Timestamp('2024-03-13 00:00:00'), ' AIR DUCT MODULE 취부 검사': Timestamp('2024-03-14 00:00:00'), ' 배전반 취부 및 배선작업': Timestamp('2024-03-15 00:00:00'), ' ROOF 내장판 취부': Timestamp('2024-03-16 00:00:00'), ' CENTER PIVOT 취부': Timestamp('2024-03-18 00:00:00'), ' SIDE 내장판 취부': Timestamp('2024-03-18 00:00:00'), ' 내장판 조정작업(완료)': Timestamp('2024-03-19 00:00:00'), ' 내장판 취부 검사': Timestamp('2024-03-20 00:00:00'), ' 전장기기 취부 결선 완료': Timestamp('2024-03-21 00:00:00'), ' AIR CON 취부': Timestamp('2024-03-21 00:00:00'), ' 도통검사(량단위 시험기)': Timestamp('2024-03-22 00:00:00'), ' 도통 자체 검사(완료)': Timestamp('2024-03-23 00:00:00'), ' 도통 검사 수정': Timestamp('2024-03-25 00:00:00'), ' 도통입회검사/내전압자체검사': Timestamp('2024-03-26 00:00:00'), ' 내전압 입회검사': Timestamp('2024-03-27 00:00:00'), ' 수정작업 및 점검커버 복구': Timestamp('2024-03-28 00:00:00'), ' D+17~20일차 조정작업': Timestamp('2024-03-28 00:00:00'), ' 전장취부, 결선 복구 완료': Timestamp('2024-03-28 00:00:00'), ' 실내 조정 및 실내·외 설비 완료': Timestamp('2024-03-28 00:00:00'), ' 전장품 취부 입회검사': Timestamp('2024-03-29 00:00:00'), ' 복구 및 수정작업': Timestamp('2024-03-29 00:00:00'), ' 실내 설비 입회검사': Timestamp('2024-03-30 00:00:00'), ' 대차차입 전검사 / 대차차입': Timestamp('2024-04-19 00:00:00'), ' 대차 전장품 취부 결선 & 마무리': Timestamp('2024-04-20 00:00:00'), ' 대차차입 후 검사': Timestamp('2024-04-20 00:00:00')}\n",
      "SubwayCar Name: S015-M2\n",
      "Activities: {' 객실도어 취부': Timestamp('2024-03-07 00:00:00'), ' 배관 MODULE 취부': Timestamp('2024-03-07 00:00:00'), ' 객실도어 취부 검사': Timestamp('2024-03-08 00:00:00'), ' 제동기기 취부 및 누설검사': Timestamp('2024-03-09 00:00:00'), ' COUPLER 취부': Timestamp('2024-03-11 00:00:00'), ' D+5~13일차 조정작업': Timestamp('2024-03-11 00:00:00'), ' 상하 전장기기 취부 결선': Timestamp('2024-03-12 00:00:00'), ' AIR DUCT MODULE 취부': Timestamp('2024-03-12 00:00:00'), ' CENTER GRILL 취부': Timestamp('2024-03-13 00:00:00'), ' AIR DUCT MODULE 취부 검사': Timestamp('2024-03-14 00:00:00'), ' 배전반 취부 및 배선작업': Timestamp('2024-03-15 00:00:00'), ' ROOF 내장판 취부': Timestamp('2024-03-16 00:00:00'), ' CENTER PIVOT 취부': Timestamp('2024-03-18 00:00:00'), ' SIDE 내장판 취부': Timestamp('2024-03-18 00:00:00'), ' 내장판 조정작업(완료)': Timestamp('2024-03-19 00:00:00'), ' 내장판 취부 검사': Timestamp('2024-03-20 00:00:00'), ' 전장기기 취부 결선 완료': Timestamp('2024-03-21 00:00:00'), ' AIR CON 취부': Timestamp('2024-03-22 00:00:00'), ' 도통검사(량단위 시험기)': Timestamp('2024-03-22 00:00:00'), ' 도통 자체 검사(완료)': Timestamp('2024-03-23 00:00:00'), ' 도통 검사 수정': Timestamp('2024-03-25 00:00:00'), ' 도통입회검사/내전압자체검사': Timestamp('2024-03-26 00:00:00'), ' 내전압 입회검사': Timestamp('2024-03-27 00:00:00'), ' 수정작업 및 점검커버 복구': Timestamp('2024-03-28 00:00:00'), ' D+17~20일차 조정작업': Timestamp('2024-03-28 00:00:00'), ' 전장취부, 결선 복구 완료': Timestamp('2024-03-28 00:00:00'), ' 실내 조정 및 실내·외 설비 완료': Timestamp('2024-03-28 00:00:00'), ' 전장품 취부 입회검사': Timestamp('2024-03-29 00:00:00'), ' 복구 및 수정작업': Timestamp('2024-03-29 00:00:00'), ' 실내 설비 입회검사': Timestamp('2024-03-30 00:00:00'), ' 대차차입 전검사 / 대차차입': Timestamp('2024-04-17 00:00:00'), ' 대차 전장품 취부 결선 & 마무리': Timestamp('2024-04-18 00:00:00'), ' 대차차입 후 검사': Timestamp('2024-04-18 00:00:00')}\n",
      "SubwayCar Name: S032-M1\n",
      "Activities: {' 흡음재 취부': Timestamp('2024-03-08 00:00:00'), ' 흡음재 씰링/검사/수정': Timestamp('2024-03-11 00:00:00'), ' 측창취부/T-BOLT 삽입': Timestamp('2024-03-11 00:00:00'), ' 리무벌/파티션 프레임 취부': Timestamp('2024-03-12 00:00:00'), ' 실내/상하 CABLE HARNESS 취부': Timestamp('2024-03-13 00:00:00'), ' 실내/상하 배선': Timestamp('2024-03-14 00:00:00'), ' 실내 배선 작업': Timestamp('2024-03-15 00:00:00'), ' 하부덕트검사\\n (D+1~4일차 조정작업)': Timestamp('2024-03-16 00:00:00'), ' 실내 배선 검사': Timestamp('2024-03-18 00:00:00'), ' AIR DUCT MODULE 취부': Timestamp('2024-04-19 00:00:00'), ' CENTER GRILL 취부': Timestamp('2024-04-20 00:00:00'), ' AIR DUCT MODULE 취부 검사': Timestamp('2024-04-22 00:00:00'), ' 배관 MODULE 취부': Timestamp('2024-04-23 00:00:00'), ' CENTER PIVOT 취부': Timestamp('2024-04-24 00:00:00'), ' COUPLER 취부': Timestamp('2024-04-25 00:00:00'), ' 제동기기 취부 및 누설검사': Timestamp('2024-04-25 00:00:00'), ' 객실도어 취부 검사': Timestamp('2024-04-26 00:00:00'), ' D+5~13일차 조정작업': Timestamp('2024-04-26 00:00:00'), ' ROOF 내장판 취부': Timestamp('2024-04-27 00:00:00'), ' 상하 전장기기 취부 결선': Timestamp('2024-04-29 00:00:00'), ' SIDE 내장판 취부': Timestamp('2024-04-29 00:00:00'), ' AIR CON 취부': Timestamp('2024-04-30 00:00:00')}\n",
      "SubwayCar Name: S016-T2\n",
      "Activities: {' 객실도어 취부': Timestamp('2024-03-08 00:00:00'), ' 배관 MODULE 취부': Timestamp('2024-03-08 00:00:00'), ' 객실도어 취부 검사': Timestamp('2024-03-09 00:00:00'), ' 제동기기 취부 및 누설검사': Timestamp('2024-03-11 00:00:00'), ' COUPLER 취부': Timestamp('2024-03-12 00:00:00'), ' D+5~13일차 조정작업': Timestamp('2024-03-12 00:00:00'), ' 상하 전장기기 취부 결선': Timestamp('2024-03-13 00:00:00'), ' AIR DUCT MODULE 취부': Timestamp('2024-03-14 00:00:00'), ' CENTER GRILL 취부': Timestamp('2024-03-15 00:00:00'), ' AIR DUCT MODULE 취부 검사': Timestamp('2024-03-16 00:00:00'), ' 배전반 취부 및 배선작업': Timestamp('2024-03-18 00:00:00'), ' CENTER PIVOT 취부': Timestamp('2024-03-19 00:00:00'), ' ROOF 내장판 취부': Timestamp('2024-03-19 00:00:00'), ' SIDE 내장판 취부': Timestamp('2024-03-20 00:00:00'), ' 내장판 조정작업(완료)': Timestamp('2024-03-21 00:00:00'), ' 내장판 취부 검사': Timestamp('2024-03-22 00:00:00'), ' AIR CON 취부': Timestamp('2024-03-23 00:00:00'), ' 전장기기 취부 결선 완료': Timestamp('2024-03-23 00:00:00'), ' 도통검사(량단위 시험기)': Timestamp('2024-03-25 00:00:00'), ' 도통 자체 검사(완료)': Timestamp('2024-03-26 00:00:00'), ' 도통 검사 수정': Timestamp('2024-03-27 00:00:00'), ' 도통입회검사/내전압자체검사': Timestamp('2024-03-28 00:00:00'), ' 내전압 입회검사': Timestamp('2024-03-29 00:00:00'), ' 수정작업 및 점검커버 복구': Timestamp('2024-03-30 00:00:00'), ' D+17~20일차 조정작업': Timestamp('2024-03-30 00:00:00'), ' 전장취부, 결선 복구 완료': Timestamp('2024-03-30 00:00:00'), ' 실내 조정 및 실내·외 설비 완료': Timestamp('2024-03-30 00:00:00'), ' 전장품 취부 입회검사': Timestamp('2024-04-18 00:00:00'), ' 복구 및 수정작업': Timestamp('2024-04-18 00:00:00'), ' 실내 설비 입회검사': Timestamp('2024-04-19 00:00:00'), ' 대차차입 전검사 / 대차차입': Timestamp('2024-04-19 00:00:00'), ' 대차 전장품 취부 결선 & 마무리': Timestamp('2024-04-20 00:00:00'), ' 대차차입 후 검사': Timestamp('2024-04-20 00:00:00')}\n",
      "SubwayCar Name: S040-TC2\n",
      "Activities: {' 흡음재 취부': Timestamp('2024-03-15 00:00:00'), ' 흡음재 씰링/검사/수정': Timestamp('2024-03-16 00:00:00'), ' 측창취부/T-BOLT 삽입': Timestamp('2024-03-16 00:00:00'), ' 리무벌/파티션 프레임 취부': Timestamp('2024-03-18 00:00:00'), ' 실내/상하 CABLE HARNESS 취부': Timestamp('2024-03-19 00:00:00'), ' 실내/상하 배선': Timestamp('2024-03-20 00:00:00'), ' 실내 배선 작업': Timestamp('2024-03-21 00:00:00'), ' 하부덕트검사\\n (D+1~4일차 조정작업)': Timestamp('2024-03-22 00:00:00'), ' 실내 배선 검사': Timestamp('2024-03-23 00:00:00'), ' 객실도어 취부': Timestamp('2024-04-01 00:00:00'), ' AIR DUCT MODULE 취부': Timestamp('2024-04-24 00:00:00'), ' CENTER GRILL 취부': Timestamp('2024-04-25 00:00:00'), ' AIR DUCT MODULE 취부 검사': Timestamp('2024-04-26 00:00:00'), ' 배관 MODULE 취부': Timestamp('2024-04-27 00:00:00'), ' CENTER PIVOT 취부': Timestamp('2024-04-29 00:00:00'), ' 객실도어 취부 검사': Timestamp('2024-04-30 00:00:00'), ' COUPLER 취부': Timestamp('2024-04-30 00:00:00'), ' 제동기기 취부 및 누설검사': Timestamp('2024-04-30 00:00:00')}\n",
      "SubwayCar Name: S033-M2\n",
      "Activities: {' 흡음재 취부': Timestamp('2024-03-18 00:00:00'), ' 흡음재 씰링/검사/수정': Timestamp('2024-03-19 00:00:00'), ' 측창취부/T-BOLT 삽입': Timestamp('2024-03-19 00:00:00'), ' 리무벌/파티션 프레임 취부': Timestamp('2024-03-20 00:00:00'), ' 실내/상하 CABLE HARNESS 취부': Timestamp('2024-03-21 00:00:00'), ' 실내/상하 배선': Timestamp('2024-03-22 00:00:00'), ' 실내 배선 작업': Timestamp('2024-03-23 00:00:00'), ' 하부덕트검사\\n (D+1~4일차 조정작업)': Timestamp('2024-03-25 00:00:00'), ' 실내 배선 검사': Timestamp('2024-03-26 00:00:00'), ' AIR DUCT MODULE 취부': Timestamp('2024-04-24 00:00:00'), ' CENTER GRILL 취부': Timestamp('2024-04-25 00:00:00'), ' AIR DUCT MODULE 취부 검사': Timestamp('2024-04-26 00:00:00'), ' 배관 MODULE 취부': Timestamp('2024-04-27 00:00:00'), ' CENTER PIVOT 취부': Timestamp('2024-04-29 00:00:00'), ' COUPLER 취부': Timestamp('2024-04-30 00:00:00'), ' 제동기기 취부 및 누설검사': Timestamp('2024-04-30 00:00:00')}\n",
      "SubwayCar Name: S034-T1\n",
      "Activities: {' 흡음재 취부': Timestamp('2024-03-22 00:00:00'), ' 흡음재 씰링/검사/수정': Timestamp('2024-03-23 00:00:00'), ' 측창취부/T-BOLT 삽입': Timestamp('2024-03-23 00:00:00'), ' 리무벌/파티션 프레임 취부': Timestamp('2024-03-25 00:00:00'), ' 실내/상하 CABLE HARNESS 취부': Timestamp('2024-03-26 00:00:00'), ' 실내/상하 배선': Timestamp('2024-03-27 00:00:00'), ' 실내 배선 작업': Timestamp('2024-03-28 00:00:00'), ' 하부덕트검사\\n (D+1~4일차 조정작업)': Timestamp('2024-03-29 00:00:00'), ' 실내 배선 검사': Timestamp('2024-03-30 00:00:00'), ' 객실도어 취부': Timestamp('2024-04-02 00:00:00'), ' AIR DUCT MODULE 취부': Timestamp('2024-04-26 00:00:00'), ' CENTER GRILL 취부': Timestamp('2024-04-27 00:00:00'), ' AIR DUCT MODULE 취부 검사': Timestamp('2024-04-29 00:00:00'), ' 배관 MODULE 취부': Timestamp('2024-04-30 00:00:00')}\n",
      "SubwayCar Name: S035-M2\n",
      "Activities: {' 흡음재 취부': Timestamp('2024-03-25 00:00:00'), ' 흡음재 씰링/검사/수정': Timestamp('2024-03-26 00:00:00'), ' 측창취부/T-BOLT 삽입': Timestamp('2024-03-26 00:00:00'), ' 리무벌/파티션 프레임 취부': Timestamp('2024-03-27 00:00:00'), ' 실내/상하 CABLE HARNESS 취부': Timestamp('2024-03-28 00:00:00'), ' 실내/상하 배선': Timestamp('2024-03-29 00:00:00'), ' 실내 배선 작업': Timestamp('2024-03-30 00:00:00'), ' 객실도어 취부': Timestamp('2024-04-03 00:00:00'), ' 하부덕트검사\\n (D+1~4일차 조정작업)': Timestamp('2024-04-04 00:00:00'), ' 실내 배선 검사': Timestamp('2024-04-05 00:00:00'), ' AIR DUCT MODULE 취부': Timestamp('2024-04-26 00:00:00'), ' CENTER GRILL 취부': Timestamp('2024-04-27 00:00:00'), ' AIR DUCT MODULE 취부 검사': Timestamp('2024-04-29 00:00:00'), ' 배관 MODULE 취부': Timestamp('2024-04-30 00:00:00')}\n",
      "SubwayCar Name: S036-T2\n",
      "Activities: {' 흡음재 취부': Timestamp('2024-04-01 00:00:00'), ' 흡음재 씰링/검사/수정': Timestamp('2024-04-02 00:00:00'), ' 측창취부/T-BOLT 삽입': Timestamp('2024-04-02 00:00:00'), ' 리무벌/파티션 프레임 취부': Timestamp('2024-04-03 00:00:00'), ' 실내/상하 CABLE HARNESS 취부': Timestamp('2024-04-04 00:00:00'), ' 실내/상하 배선': Timestamp('2024-04-05 00:00:00'), ' 객실도어 취부': Timestamp('2024-04-06 00:00:00'), ' 하부덕트검사\\n (D+1~4일차 조정작업)': Timestamp('2024-04-08 00:00:00'), ' 실내 배선 검사': Timestamp('2024-04-09 00:00:00'), ' AIR DUCT MODULE 취부': Timestamp('2024-04-27 00:00:00'), ' CENTER GRILL 취부': Timestamp('2024-04-29 00:00:00'), ' AIR DUCT MODULE 취부 검사': Timestamp('2024-04-30 00:00:00')}\n",
      "SubwayCar Name: S037-T1'\n",
      "Activities: {' 흡음재 취부': Timestamp('2024-04-01 00:00:00'), ' 흡음재 씰링/검사/수정': Timestamp('2024-04-02 00:00:00'), ' 측창취부/T-BOLT 삽입': Timestamp('2024-04-02 00:00:00'), ' 리무벌/파티션 프레임 취부': Timestamp('2024-04-03 00:00:00'), ' 실내/상하 CABLE HARNESS 취부': Timestamp('2024-04-04 00:00:00'), ' 실내/상하 배선': Timestamp('2024-04-05 00:00:00'), ' 객실도어 취부': Timestamp('2024-04-06 00:00:00'), ' 하부덕트검사\\n (D+1~4일차 조정작업)': Timestamp('2024-04-08 00:00:00'), ' 실내 배선 검사': Timestamp('2024-04-09 00:00:00'), ' AIR DUCT MODULE 취부': Timestamp('2024-04-27 00:00:00'), ' CENTER GRILL 취부': Timestamp('2024-04-29 00:00:00'), ' AIR DUCT MODULE 취부 검사': Timestamp('2024-04-30 00:00:00')}\n",
      "SubwayCar Name: S038-M1\n",
      "Activities: {' 흡음재 취부': Timestamp('2024-04-02 00:00:00'), ' 흡음재 씰링/검사/수정': Timestamp('2024-04-03 00:00:00'), ' 측창취부/T-BOLT 삽입': Timestamp('2024-04-03 00:00:00'), ' 리무벌/파티션 프레임 취부': Timestamp('2024-04-04 00:00:00'), ' 실내/상하 CABLE HARNESS 취부': Timestamp('2024-04-05 00:00:00'), ' 실내/상하 배선': Timestamp('2024-04-06 00:00:00'), ' 객실도어 취부': Timestamp('2024-04-08 00:00:00'), ' 하부덕트검사\\n (D+1~4일차 조정작업)': Timestamp('2024-04-09 00:00:00'), ' 실내 배선 검사': Timestamp('2024-04-10 00:00:00'), ' AIR DUCT MODULE 취부': Timestamp('2024-04-29 00:00:00'), ' CENTER GRILL 취부': Timestamp('2024-04-30 00:00:00')}\n",
      "SubwayCar Name: S039-M2'\n",
      "Activities: {' 흡음재 취부': Timestamp('2024-04-03 00:00:00'), ' 흡음재 씰링/검사/수정': Timestamp('2024-04-04 00:00:00'), ' 측창취부/T-BOLT 삽입': Timestamp('2024-04-04 00:00:00'), ' 리무벌/파티션 프레임 취부': Timestamp('2024-04-05 00:00:00'), ' 실내/상하 CABLE HARNESS 취부': Timestamp('2024-04-06 00:00:00'), ' 실내/상하 배선': Timestamp('2024-04-08 00:00:00'), ' 객실도어 취부': Timestamp('2024-04-09 00:00:00'), ' 하부덕트검사\\n (D+1~4일차 조정작업)': Timestamp('2024-04-10 00:00:00'), ' 실내 배선 검사': Timestamp('2024-04-11 00:00:00'), ' AIR DUCT MODULE 취부': Timestamp('2024-04-30 00:00:00')}\n",
      "SubwayCar Name: S041-TC1\n",
      "Activities: {' 흡음재 취부': Timestamp('2024-04-05 00:00:00'), ' 흡음재 씰링/검사/수정': Timestamp('2024-04-06 00:00:00'), ' 측창취부/T-BOLT 삽입': Timestamp('2024-04-06 00:00:00'), ' 리무벌/파티션 프레임 취부': Timestamp('2024-04-08 00:00:00'), ' 실내/상하 CABLE HARNESS 취부': Timestamp('2024-04-09 00:00:00'), ' 실내/상하 배선': Timestamp('2024-04-10 00:00:00'), ' 객실도어 취부': Timestamp('2024-04-11 00:00:00'), ' 하부덕트검사\\n (D+1~4일차 조정작업)': Timestamp('2024-04-12 00:00:00'), ' 실내 배선 검사': Timestamp('2024-04-13 00:00:00')}\n",
      "SubwayCar Name: S042-M1\n",
      "Activities: {' 흡음재 취부': Timestamp('2024-04-10 00:00:00'), ' 흡음재 씰링/검사/수정': Timestamp('2024-04-11 00:00:00'), ' 측창취부/T-BOLT 삽입': Timestamp('2024-04-11 00:00:00'), ' 리무벌/파티션 프레임 취부': Timestamp('2024-04-12 00:00:00'), ' 실내/상하 CABLE HARNESS 취부': Timestamp('2024-04-13 00:00:00'), ' 실내/상하 배선': Timestamp('2024-04-15 00:00:00'), ' 객실도어 취부': Timestamp('2024-04-16 00:00:00'), ' 하부덕트검사\\n (D+1~4일차 조정작업)': Timestamp('2024-04-17 00:00:00'), ' 실내 배선 검사': Timestamp('2024-04-18 00:00:00')}\n",
      "SubwayCar Name: S050-TC2\n",
      "Activities: {' 흡음재 취부': Timestamp('2024-04-12 00:00:00'), ' 흡음재 씰링/검사/수정': Timestamp('2024-04-13 00:00:00'), ' 측창취부/T-BOLT 삽입': Timestamp('2024-04-13 00:00:00'), ' 리무벌/파티션 프레임 취부': Timestamp('2024-04-15 00:00:00'), ' 실내/상하 CABLE HARNESS 취부': Timestamp('2024-04-16 00:00:00'), ' 실내/상하 배선': Timestamp('2024-04-17 00:00:00'), ' 객실도어 취부': Timestamp('2024-04-18 00:00:00'), ' 하부덕트검사\\n (D+1~4일차 조정작업)': Timestamp('2024-04-19 00:00:00'), ' 실내 배선 검사': Timestamp('2024-04-20 00:00:00')}\n",
      "SubwayCar Name: S043-M2\n",
      "Activities: {' 흡음재 취부': Timestamp('2024-04-15 00:00:00'), ' 흡음재 씰링/검사/수정': Timestamp('2024-04-16 00:00:00'), ' 측창취부/T-BOLT 삽입': Timestamp('2024-04-16 00:00:00'), ' 리무벌/파티션 프레임 취부': Timestamp('2024-04-17 00:00:00'), ' 실내/상하 CABLE HARNESS 취부': Timestamp('2024-04-18 00:00:00'), ' 실내/상하 배선': Timestamp('2024-04-19 00:00:00'), ' 객실도어 취부': Timestamp('2024-04-20 00:00:00'), ' 하부덕트검사\\n (D+1~4일차 조정작업)': Timestamp('2024-04-22 00:00:00'), ' 실내 배선 검사': Timestamp('2024-04-23 00:00:00')}\n",
      "SubwayCar Name: S044-T1\n",
      "Activities: {' 흡음재 취부': Timestamp('2024-04-17 00:00:00'), ' 흡음재 씰링/검사/수정': Timestamp('2024-04-18 00:00:00'), ' 측창취부/T-BOLT 삽입': Timestamp('2024-04-18 00:00:00'), ' 리무벌/파티션 프레임 취부': Timestamp('2024-04-19 00:00:00'), ' 실내/상하 CABLE HARNESS 취부': Timestamp('2024-04-20 00:00:00'), ' 실내/상하 배선': Timestamp('2024-04-22 00:00:00'), ' 객실도어 취부': Timestamp('2024-04-23 00:00:00'), ' 하부덕트검사\\n (D+1~4일차 조정작업)': Timestamp('2024-04-24 00:00:00'), ' 실내 배선 검사': Timestamp('2024-04-25 00:00:00')}\n",
      "SubwayCar Name: S045-M2\n",
      "Activities: {' 흡음재 취부': Timestamp('2024-04-19 00:00:00'), ' 흡음재 씰링/검사/수정': Timestamp('2024-04-20 00:00:00'), ' 측창취부/T-BOLT 삽입': Timestamp('2024-04-20 00:00:00'), ' 리무벌/파티션 프레임 취부': Timestamp('2024-04-22 00:00:00'), ' 실내/상하 CABLE HARNESS 취부': Timestamp('2024-04-23 00:00:00'), ' 실내/상하 배선': Timestamp('2024-04-24 00:00:00'), ' 객실도어 취부': Timestamp('2024-04-25 00:00:00'), ' 하부덕트검사\\n (D+1~4일차 조정작업)': Timestamp('2024-04-26 00:00:00'), ' 실내 배선 검사': Timestamp('2024-04-27 00:00:00')}\n",
      "SubwayCar Name: S046-T2\n",
      "Activities: {' 흡음재 취부': Timestamp('2024-04-22 00:00:00'), ' 흡음재 씰링/검사/수정': Timestamp('2024-04-23 00:00:00'), ' 측창취부/T-BOLT 삽입': Timestamp('2024-04-23 00:00:00'), ' 리무벌/파티션 프레임 취부': Timestamp('2024-04-24 00:00:00'), ' 실내/상하 CABLE HARNESS 취부': Timestamp('2024-04-25 00:00:00'), ' 실내/상하 배선': Timestamp('2024-04-26 00:00:00'), ' 객실도어 취부': Timestamp('2024-04-27 00:00:00'), ' 하부덕트검사\\n (D+1~4일차 조정작업)': Timestamp('2024-04-29 00:00:00'), ' 실내 배선 검사': Timestamp('2024-04-30 00:00:00')}\n",
      "SubwayCar Name: S047-T1'\n",
      "Activities: {' 흡음재 취부': Timestamp('2024-04-24 00:00:00'), ' 흡음재 씰링/검사/수정': Timestamp('2024-04-25 00:00:00'), ' 측창취부/T-BOLT 삽입': Timestamp('2024-04-25 00:00:00'), ' 리무벌/파티션 프레임 취부': Timestamp('2024-04-26 00:00:00'), ' 실내/상하 CABLE HARNESS 취부': Timestamp('2024-04-27 00:00:00'), ' 실내/상하 배선': Timestamp('2024-04-29 00:00:00'), ' 객실도어 취부': Timestamp('2024-04-30 00:00:00')}\n",
      "SubwayCar Name: S048-M1\n",
      "Activities: {' 흡음재 취부': Timestamp('2024-04-26 00:00:00'), ' 흡음재 씰링/검사/수정': Timestamp('2024-04-27 00:00:00'), ' 측창취부/T-BOLT 삽입': Timestamp('2024-04-27 00:00:00'), ' 리무벌/파티션 프레임 취부': Timestamp('2024-04-29 00:00:00'), ' 실내/상하 CABLE HARNESS 취부': Timestamp('2024-04-30 00:00:00')}\n"
     ]
    }
   ],
   "execution_count": 8
  },
  {
   "metadata": {},
   "cell_type": "code",
   "outputs": [],
   "execution_count": null,
   "source": "",
   "id": "72324cd32a128493"
  }
 ],
 "metadata": {
  "kernelspec": {
   "display_name": "Python 3",
   "language": "python",
   "name": "python3"
  },
  "language_info": {
   "codemirror_mode": {
    "name": "ipython",
    "version": 2
   },
   "file_extension": ".py",
   "mimetype": "text/x-python",
   "name": "python",
   "nbconvert_exporter": "python",
   "pygments_lexer": "ipython2",
   "version": "2.7.6"
  }
 },
 "nbformat": 4,
 "nbformat_minor": 5
}
