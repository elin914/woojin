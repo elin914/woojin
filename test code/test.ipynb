{
 "cells": [
  {
   "cell_type": "code",
   "id": "initial_id",
   "metadata": {
    "collapsed": true,
    "ExecuteTime": {
     "end_time": "2024-11-19T08:12:12.461838Z",
     "start_time": "2024-11-19T08:12:12.451558Z"
    }
   },
   "source": [
    "import pandas as pd\n",
    "import numpy as np\n",
    "from docplex.cp.model import *"
   ],
   "outputs": [
    {
     "ename": "ModuleNotFoundError",
     "evalue": "No module named 'docplex'",
     "output_type": "error",
     "traceback": [
      "\u001B[1;31m---------------------------------------------------------------------------\u001B[0m",
      "\u001B[1;31mModuleNotFoundError\u001B[0m                       Traceback (most recent call last)",
      "Cell \u001B[1;32mIn[133], line 3\u001B[0m\n\u001B[0;32m      1\u001B[0m \u001B[38;5;28;01mimport\u001B[39;00m \u001B[38;5;21;01mpandas\u001B[39;00m \u001B[38;5;28;01mas\u001B[39;00m \u001B[38;5;21;01mpd\u001B[39;00m\n\u001B[0;32m      2\u001B[0m \u001B[38;5;28;01mimport\u001B[39;00m \u001B[38;5;21;01mnumpy\u001B[39;00m \u001B[38;5;28;01mas\u001B[39;00m \u001B[38;5;21;01mnp\u001B[39;00m\n\u001B[1;32m----> 3\u001B[0m \u001B[38;5;28;01mfrom\u001B[39;00m \u001B[38;5;21;01mdocplex\u001B[39;00m\u001B[38;5;21;01m.\u001B[39;00m\u001B[38;5;21;01mcp\u001B[39;00m\u001B[38;5;21;01m.\u001B[39;00m\u001B[38;5;21;01mmodel\u001B[39;00m \u001B[38;5;28;01mimport\u001B[39;00m \u001B[38;5;241m*\u001B[39m\n",
      "\u001B[1;31mModuleNotFoundError\u001B[0m: No module named 'docplex'"
     ]
    }
   ],
   "execution_count": 133
  },
  {
   "metadata": {
    "ExecuteTime": {
     "end_time": "2024-11-19T10:25:16.115211Z",
     "start_time": "2024-11-19T10:25:15.996743Z"
    }
   },
   "cell_type": "code",
   "source": [
    "df_name1 = pd.read_excel('../data/생관3-612-24-004_2024년 3월 일일생산계획 및 업체별 차종현황_Rev.01_24.03.06(확정).xlsx', skiprows=[0, 1, 2], usecols='C', nrows=64)\n",
    "df_name2 = pd.read_excel('../data/생관3-612-24-007_2024년 4월 일일생산계획 및 업체별 차종현황_Rev.00_24.03.28(확정).xlsx', skiprows=[0, 1, 2], usecols='C', nrows=64)"
   ],
   "id": "6a641bda91e81c23",
   "outputs": [],
   "execution_count": 137
  },
  {
   "metadata": {
    "ExecuteTime": {
     "end_time": "2024-11-19T10:25:29.010631Z",
     "start_time": "2024-11-19T10:25:29.007507Z"
    }
   },
   "cell_type": "code",
   "source": "set(df_name1) == set(df_name2)",
   "id": "fa6a8d03ed1856ca",
   "outputs": [
    {
     "data": {
      "text/plain": [
       "True"
      ]
     },
     "execution_count": 138,
     "metadata": {},
     "output_type": "execute_result"
    }
   ],
   "execution_count": 138
  },
  {
   "metadata": {
    "ExecuteTime": {
     "end_time": "2024-11-19T06:33:57.837271Z",
     "start_time": "2024-11-19T06:33:57.659790Z"
    }
   },
   "cell_type": "code",
   "source": [
    "df_name = pd.read_excel('../data/생관3-612-24-004_2024년 3월 일일생산계획 및 업체별 차종현황_Rev.01_24.03.06(확정).xlsx', skiprows=[0, 1, 2], usecols='C', nrows=64)\n",
    "df_data = pd.read_excel('../data/생관3-612-24-004_2024년 3월 일일생산계획 및 업체별 차종현황_Rev.01_24.03.06(확정).xlsx', skiprows=[0, 1, 2, 3], usecols='F:BE', nrows=64)\n",
    "df_data2 = pd.read_excel('../data/생관3-612-24-007_2024년 4월 일일생산계획 및 업체별 차종현황_Rev.00_24.03.28(확정).xlsx', skiprows=[0, 1, 2, 3], usecols='F:BE', nrows=64)"
   ],
   "id": "a8d3364ca72a66ef",
   "outputs": [],
   "execution_count": 41
  },
  {
   "metadata": {
    "ExecuteTime": {
     "end_time": "2024-11-19T06:33:58.589226Z",
     "start_time": "2024-11-19T06:33:58.584720Z"
    }
   },
   "cell_type": "code",
   "source": [
    "df_name = df_name.drop(index=df_name.index[0])\n",
    "df_name = df_name.reset_index(drop=True)\n",
    "df_name = df_name.map(lambda x: x.strip() if isinstance(x, str) else x)\n",
    "df_name = df_name.ffill()\n",
    "df_data = df_data.drop(index=df_data.index[-1])\n",
    "df_data2 = df_data2.drop(index=df_data2.index[-1])\n",
    "df_data.index = df_name['세부공정명'].tolist()\n",
    "df_data2.index = df_name['세부공정명'].tolist()"
   ],
   "id": "145670bde7850e5e",
   "outputs": [],
   "execution_count": 42
  },
  {
   "metadata": {
    "ExecuteTime": {
     "end_time": "2024-11-19T06:33:59.445527Z",
     "start_time": "2024-11-19T06:33:59.442226Z"
    }
   },
   "cell_type": "code",
   "source": [
    "def clean_column_names(df):\n",
    "    columns = df.columns.tolist()\n",
    "    for i in range(1, len(columns)):  # 첫 번째 열은 처리할 필요 없음\n",
    "        if isinstance(columns[i], str) and \"Unnamed\" in columns[i]:\n",
    "            columns[i] = columns[i - 1]  # 바로 왼쪽 열 이름으로 대체\n",
    "    df.columns = columns\n",
    "    return df\n",
    "\n",
    "# DataFrame 열 이름 정리\n",
    "df_data = clean_column_names(df_data)\n",
    "df_data2 = clean_column_names(df_data2)"
   ],
   "id": "1b451d9d87df722d",
   "outputs": [],
   "execution_count": 43
  },
  {
   "metadata": {
    "ExecuteTime": {
     "end_time": "2024-11-19T06:33:59.786515Z",
     "start_time": "2024-11-19T06:33:59.783014Z"
    }
   },
   "cell_type": "code",
   "source": [
    "class SubwayCar:\n",
    "    def __init__(self, name):\n",
    "        self.name = name\n",
    "        self.activity_dict = dict()\n",
    "    \n",
    "    def add_activity(self, activity_name, date):\n",
    "        if activity_name not in self.activity_dict:\n",
    "            self.activity_dict[activity_name] = date\n",
    "        else:\n",
    "            print(f\"subwaycar {self.name} activity {activity_name}: {date} is already taken\")"
   ],
   "id": "b008fddd87670fe3",
   "outputs": [],
   "execution_count": 44
  },
  {
   "metadata": {
    "ExecuteTime": {
     "end_time": "2024-11-19T06:34:00.239108Z",
     "start_time": "2024-11-19T06:34:00.235193Z"
    }
   },
   "cell_type": "code",
   "source": [
    "def create_subway_car_dict(df_data, subway_car_dict, start_date):\n",
    "    for col_idx in range(df_data.shape[1]):\n",
    "            date = df_data.columns[col_idx]  # 현재 열의 이름\n",
    "    \n",
    "            for row_idx in range(df_data.shape[0]):  # 행 반복\n",
    "                activity_name = df_data.index[row_idx]  # 현재 행 이름\n",
    "                car_name = df_data.iloc[row_idx, col_idx]  # 값 가져오기\n",
    "    \n",
    "                if pd.notna(car_name):  # NaN 값 제외\n",
    "                    if car_name not in subway_car_dict:\n",
    "                        subway_car_dict[car_name] = SubwayCar(name=car_name)\n",
    "                    \n",
    "                    subway_car_dict[car_name].add_activity(activity_name, start_date + pd.Timedelta(days=date - 1))\n",
    "    return subway_car_dict"
   ],
   "id": "60847e4da3714b0b",
   "outputs": [],
   "execution_count": 45
  },
  {
   "metadata": {
    "ExecuteTime": {
     "end_time": "2024-11-19T06:34:00.900207Z",
     "start_time": "2024-11-19T06:34:00.826239Z"
    }
   },
   "cell_type": "code",
   "source": [
    "subway_car_dict1 = {}  # {name: SubwayCar 객체}\n",
    "\n",
    "subway_car_dict1 = create_subway_car_dict(df_data, subway_car_dict1, pd.to_datetime('2024-03-01'))\n",
    "print('----------------')\n",
    "print('----------------')\n",
    "print('----------------')\n",
    "print('----------------')\n",
    "print('----------------')\n",
    "subway_car_dict2 = {}  # {name: SubwayCar 객체}\n",
    "\n",
    "subway_car_dict2 = create_subway_car_dict(df_data2, subway_car_dict2, pd.to_datetime('2024-04-01'))\n",
    "\n"
   ],
   "id": "b538ab4b2a12711d",
   "outputs": [
    {
     "name": "stdout",
     "output_type": "stream",
     "text": [
      "----------------\n",
      "----------------\n",
      "----------------\n",
      "----------------\n",
      "----------------\n"
     ]
    }
   ],
   "execution_count": 46
  },
  {
   "metadata": {
    "ExecuteTime": {
     "end_time": "2024-11-19T06:34:01.619800Z",
     "start_time": "2024-11-19T06:34:01.616494Z"
    }
   },
   "cell_type": "code",
   "source": [
    "# 결과 확인\n",
    "for car_name, subway_car in subway_car_dict1.items():\n",
    "    print(f\"SubwayCar Name: {car_name}\")\n",
    "    print(\"Activities:\", subway_car.activity_dict)"
   ],
   "id": "186f460bba19c64f",
   "outputs": [
    {
     "name": "stdout",
     "output_type": "stream",
     "text": [
      "SubwayCar Name: S025-M2\n",
      "Activities: {'측창취부/T-BOLT 삽입': Timestamp('2024-03-01 00:00:00'), '실내/상하 CABLE HARNESS 취부': Timestamp('2024-03-04 00:00:00'), '실내/상하 배선': Timestamp('2024-03-06 00:00:00'), '실내 배선 작업': Timestamp('2024-03-07 00:00:00'), '하부덕트검사\\n (D+1~4일차 조정작업)': Timestamp('2024-03-08 00:00:00'), '실내 배선 검사': Timestamp('2024-03-09 00:00:00')}\n",
      "SubwayCar Name: S018-M1\n",
      "Activities: {'실내/상하 배선': Timestamp('2024-03-01 00:00:00'), '실내 배선 작업': Timestamp('2024-03-02 00:00:00'), '하부덕트검사\\n (D+1~4일차 조정작업)': Timestamp('2024-03-04 00:00:00'), '객실도어 취부': Timestamp('2024-03-11 00:00:00'), '객실도어 취부 검사': Timestamp('2024-03-12 00:00:00'), '배관 MODULE 취부': Timestamp('2024-03-12 00:00:00'), '제동기기 취부 및 누설검사': Timestamp('2024-03-14 00:00:00'), 'COUPLER 취부': Timestamp('2024-03-15 00:00:00'), 'D+5~13일차 조정작업': Timestamp('2024-03-15 00:00:00'), '상하 전장기기 취부 결선': Timestamp('2024-03-16 00:00:00'), 'AIR DUCT MODULE 취부': Timestamp('2024-03-19 00:00:00'), 'CENTER GRILL 취부': Timestamp('2024-03-20 00:00:00'), 'CENTER PIVOT 취부': Timestamp('2024-03-20 00:00:00'), 'AIR DUCT MODULE 취부 검사': Timestamp('2024-03-21 00:00:00'), '배전반 취부 및 배선작업': Timestamp('2024-03-22 00:00:00'), 'ROOF 내장판 취부': Timestamp('2024-03-23 00:00:00'), 'SIDE 내장판 취부': Timestamp('2024-03-25 00:00:00'), '내장판 조정작업(완료)': Timestamp('2024-03-26 00:00:00'), 'AIR CON 취부': Timestamp('2024-03-27 00:00:00'), '내장판 취부 검사': Timestamp('2024-03-27 00:00:00'), '전장기기 취부 결선 완료': Timestamp('2024-03-28 00:00:00'), '도통검사(량단위 시험기)': Timestamp('2024-03-29 00:00:00'), '도통 자체 검사(완료)': Timestamp('2024-03-30 00:00:00')}\n",
      "SubwayCar Name: S017-T1'\n",
      "Activities: {'실내 배선 작업': Timestamp('2024-03-01 00:00:00'), '객실도어 취부': Timestamp('2024-03-09 00:00:00'), '배관 MODULE 취부': Timestamp('2024-03-09 00:00:00'), '객실도어 취부 검사': Timestamp('2024-03-11 00:00:00'), '제동기기 취부 및 누설검사': Timestamp('2024-03-12 00:00:00'), 'COUPLER 취부': Timestamp('2024-03-13 00:00:00'), 'D+5~13일차 조정작업': Timestamp('2024-03-13 00:00:00'), '상하 전장기기 취부 결선': Timestamp('2024-03-14 00:00:00'), 'AIR DUCT MODULE 취부': Timestamp('2024-03-14 00:00:00'), 'CENTER GRILL 취부': Timestamp('2024-03-15 00:00:00'), 'AIR DUCT MODULE 취부 검사': Timestamp('2024-03-16 00:00:00'), '배전반 취부 및 배선작업': Timestamp('2024-03-18 00:00:00'), 'CENTER PIVOT 취부': Timestamp('2024-03-19 00:00:00'), 'ROOF 내장판 취부': Timestamp('2024-03-19 00:00:00'), 'SIDE 내장판 취부': Timestamp('2024-03-20 00:00:00'), '내장판 조정작업(완료)': Timestamp('2024-03-21 00:00:00'), '내장판 취부 검사': Timestamp('2024-03-22 00:00:00'), '전장기기 취부 결선 완료': Timestamp('2024-03-23 00:00:00'), 'AIR CON 취부': Timestamp('2024-03-25 00:00:00'), '도통검사(량단위 시험기)': Timestamp('2024-03-25 00:00:00'), '도통 자체 검사(완료)': Timestamp('2024-03-26 00:00:00'), '도통 검사 수정': Timestamp('2024-03-27 00:00:00'), '도통입회검사/내전압자체검사': Timestamp('2024-03-28 00:00:00'), '내전압 입회검사': Timestamp('2024-03-29 00:00:00'), '수정작업 및 점검커버 복구': Timestamp('2024-03-30 00:00:00'), 'D+17~20일차 조정작업': Timestamp('2024-03-30 00:00:00'), '전장취부, 결선 복구 완료': Timestamp('2024-03-30 00:00:00'), '실내 조정 및 실내·외 설비 완료': Timestamp('2024-03-30 00:00:00')}\n",
      "SubwayCar Name: S011-TC1\n",
      "Activities: {'객실도어 취부': Timestamp('2024-03-01 00:00:00'), '객실도어 취부 검사': Timestamp('2024-03-02 00:00:00'), '배관 MODULE 취부': Timestamp('2024-03-04 00:00:00'), 'AIR DUCT MODULE 취부': Timestamp('2024-03-05 00:00:00'), 'CENTER GRILL 취부': Timestamp('2024-03-06 00:00:00'), '제동기기 취부 및 누설검사': Timestamp('2024-03-06 00:00:00'), 'AIR DUCT MODULE 취부 검사': Timestamp('2024-03-07 00:00:00'), 'CAB MODULE 취부(TC)': Timestamp('2024-03-07 00:00:00'), 'COUPLER 취부': Timestamp('2024-03-07 00:00:00'), 'D+5~13일차 조정작업': Timestamp('2024-03-07 00:00:00'), '배전반 취부 및 배선작업': Timestamp('2024-03-08 00:00:00'), '운전실 내장판 취부': Timestamp('2024-03-08 00:00:00'), '상하 전장기기 취부 결선': Timestamp('2024-03-08 00:00:00'), 'ROOF 내장판 취부': Timestamp('2024-03-09 00:00:00'), '운전실 캐비넷 취부(TC)': Timestamp('2024-03-09 00:00:00'), 'SIDE 내장판 취부': Timestamp('2024-03-11 00:00:00'), '운전실 배전반 결선(TC)': Timestamp('2024-03-11 00:00:00'), '내장판 조정작업(완료)': Timestamp('2024-03-12 00:00:00'), '운전실 DOOR 취부(TC)': Timestamp('2024-03-12 00:00:00'), '내장판 취부 검사': Timestamp('2024-03-13 00:00:00'), 'CENTER PIVOT 취부': Timestamp('2024-03-15 00:00:00'), 'AIR CON 취부': Timestamp('2024-03-19 00:00:00'), '운전실 전장기기 취부 결선(TC)': Timestamp('2024-03-28 00:00:00'), '전장기기 취부 결선 완료': Timestamp('2024-03-29 00:00:00'), '도통검사(량단위 시험기)': Timestamp('2024-03-30 00:00:00')}\n",
      "SubwayCar Name: S009-M2'\n",
      "Activities: {'실내 설비 입회검사': Timestamp('2024-03-01 00:00:00'), '대차차입 전검사 / 대차차입': Timestamp('2024-03-01 00:00:00'), '대차 전장품 취부 결선 & 마무리': Timestamp('2024-03-02 00:00:00'), '대차차입 후 검사': Timestamp('2024-03-02 00:00:00'), '도통입회검사/내전압자체검사': Timestamp('2024-03-07 00:00:00'), '내전압 입회검사': Timestamp('2024-03-14 00:00:00')}\n",
      "SubwayCar Name: S003-M2\n",
      "Activities: {'대차 전장품 취부 결선 & 마무리': Timestamp('2024-03-01 00:00:00'), '대차차입 후 검사': Timestamp('2024-03-01 00:00:00'), '도통입회검사/내전압자체검사': Timestamp('2024-03-04 00:00:00'), '내전압 입회검사': Timestamp('2024-03-11 00:00:00')}\n",
      "SubwayCar Name: S026-T2\n",
      "Activities: {'측창취부/T-BOLT 삽입': Timestamp('2024-03-02 00:00:00'), '리무벌/파티션 프레임 취부': Timestamp('2024-03-04 00:00:00'), '실내/상하 CABLE HARNESS 취부': Timestamp('2024-03-05 00:00:00'), '실내/상하 배선': Timestamp('2024-03-07 00:00:00'), '실내 배선 작업': Timestamp('2024-03-08 00:00:00'), '하부덕트검사\\n (D+1~4일차 조정작업)': Timestamp('2024-03-09 00:00:00'), '실내 배선 검사': Timestamp('2024-03-11 00:00:00')}\n",
      "SubwayCar Name: S024-T1\n",
      "Activities: {'실내/상하 CABLE HARNESS 취부': Timestamp('2024-03-02 00:00:00'), '실내/상하 배선': Timestamp('2024-03-05 00:00:00'), '실내 배선 작업': Timestamp('2024-03-06 00:00:00'), '하부덕트검사\\n (D+1~4일차 조정작업)': Timestamp('2024-03-07 00:00:00'), '실내 배선 검사': Timestamp('2024-03-08 00:00:00')}\n",
      "SubwayCar Name: S019-M2'\n",
      "Activities: {'실내/상하 배선': Timestamp('2024-03-02 00:00:00'), '실내 배선 작업': Timestamp('2024-03-04 00:00:00'), '하부덕트검사\\n (D+1~4일차 조정작업)': Timestamp('2024-03-05 00:00:00'), '실내 배선 검사': Timestamp('2024-03-06 00:00:00'), '객실도어 취부': Timestamp('2024-03-12 00:00:00'), '객실도어 취부 검사': Timestamp('2024-03-13 00:00:00'), '배관 MODULE 취부': Timestamp('2024-03-13 00:00:00'), '제동기기 취부 및 누설검사': Timestamp('2024-03-15 00:00:00'), 'COUPLER 취부': Timestamp('2024-03-16 00:00:00'), 'D+5~13일차 조정작업': Timestamp('2024-03-16 00:00:00'), '상하 전장기기 취부 결선': Timestamp('2024-03-18 00:00:00'), 'AIR DUCT MODULE 취부': Timestamp('2024-03-19 00:00:00'), 'CENTER GRILL 취부': Timestamp('2024-03-20 00:00:00'), 'CENTER PIVOT 취부': Timestamp('2024-03-20 00:00:00'), 'AIR DUCT MODULE 취부 검사': Timestamp('2024-03-21 00:00:00'), '배전반 취부 및 배선작업': Timestamp('2024-03-22 00:00:00'), 'ROOF 내장판 취부': Timestamp('2024-03-23 00:00:00'), 'SIDE 내장판 취부': Timestamp('2024-03-25 00:00:00'), '내장판 조정작업(완료)': Timestamp('2024-03-26 00:00:00'), '내장판 취부 검사': Timestamp('2024-03-27 00:00:00'), 'AIR CON 취부': Timestamp('2024-03-28 00:00:00'), '전장기기 취부 결선 완료': Timestamp('2024-03-28 00:00:00'), '도통검사(량단위 시험기)': Timestamp('2024-03-29 00:00:00'), '도통 자체 검사(완료)': Timestamp('2024-03-30 00:00:00')}\n",
      "SubwayCar Name: S012-M1\n",
      "Activities: {'객실도어 취부': Timestamp('2024-03-02 00:00:00'), '객실도어 취부 검사': Timestamp('2024-03-04 00:00:00'), '배관 MODULE 취부': Timestamp('2024-03-04 00:00:00'), 'AIR DUCT MODULE 취부': Timestamp('2024-03-05 00:00:00'), 'CENTER GRILL 취부': Timestamp('2024-03-06 00:00:00'), '제동기기 취부 및 누설검사': Timestamp('2024-03-06 00:00:00'), 'AIR DUCT MODULE 취부 검사': Timestamp('2024-03-07 00:00:00'), 'COUPLER 취부': Timestamp('2024-03-07 00:00:00'), 'D+5~13일차 조정작업': Timestamp('2024-03-07 00:00:00'), '배전반 취부 및 배선작업': Timestamp('2024-03-08 00:00:00'), '상하 전장기기 취부 결선': Timestamp('2024-03-08 00:00:00'), 'ROOF 내장판 취부': Timestamp('2024-03-09 00:00:00'), 'SIDE 내장판 취부': Timestamp('2024-03-11 00:00:00'), '내장판 조정작업(완료)': Timestamp('2024-03-12 00:00:00'), '내장판 취부 검사': Timestamp('2024-03-13 00:00:00'), '전장기기 취부 결선 완료': Timestamp('2024-03-14 00:00:00'), '도통검사(량단위 시험기)': Timestamp('2024-03-15 00:00:00'), 'CENTER PIVOT 취부': Timestamp('2024-03-15 00:00:00'), '도통 자체 검사(완료)': Timestamp('2024-03-16 00:00:00'), '도통 검사 수정': Timestamp('2024-03-18 00:00:00'), '도통입회검사/내전압자체검사': Timestamp('2024-03-19 00:00:00'), 'AIR CON 취부': Timestamp('2024-03-19 00:00:00'), '내전압 입회검사': Timestamp('2024-03-20 00:00:00'), '수정작업 및 점검커버 복구': Timestamp('2024-03-21 00:00:00'), 'D+17~20일차 조정작업': Timestamp('2024-03-21 00:00:00'), '전장취부, 결선 복구 완료': Timestamp('2024-03-21 00:00:00'), '실내 조정 및 실내·외 설비 완료': Timestamp('2024-03-21 00:00:00'), '전장품 취부 입회검사': Timestamp('2024-03-22 00:00:00'), '복구 및 수정작업': Timestamp('2024-03-22 00:00:00'), '실내 설비 입회검사': Timestamp('2024-03-23 00:00:00')}\n",
      "SubwayCar Name: S021-TC1\n",
      "Activities: {'실내/상하 배선': Timestamp('2024-03-02 00:00:00'), '실내 배선 작업': Timestamp('2024-03-04 00:00:00'), '하부덕트검사\\n (D+1~4일차 조정작업)': Timestamp('2024-03-05 00:00:00'), '실내 배선 검사': Timestamp('2024-03-06 00:00:00'), '내장판 조정작업(완료)': Timestamp('2024-03-28 00:00:00')}\n",
      "SubwayCar Name: S004-T1\n",
      "Activities: {'대차 전장품 취부 결선 & 마무리': Timestamp('2024-03-02 00:00:00'), '대차차입 후 검사': Timestamp('2024-03-02 00:00:00'), '도통입회검사/내전압자체검사': Timestamp('2024-03-04 00:00:00'), '내전압 입회검사': Timestamp('2024-03-11 00:00:00')}\n",
      "SubwayCar Name: S029-M2'\n",
      "Activities: {'흡음재 취부': Timestamp('2024-03-04 00:00:00'), '흡음재 씰링/검사/수정': Timestamp('2024-03-06 00:00:00'), '측창취부/T-BOLT 삽입': Timestamp('2024-03-06 00:00:00'), '리무벌/파티션 프레임 취부': Timestamp('2024-03-07 00:00:00'), '실내/상하 CABLE HARNESS 취부': Timestamp('2024-03-08 00:00:00'), '실내/상하 배선': Timestamp('2024-03-11 00:00:00'), '실내 배선 작업': Timestamp('2024-03-12 00:00:00'), '하부덕트검사\\n (D+1~4일차 조정작업)': Timestamp('2024-03-13 00:00:00'), '실내 배선 검사': Timestamp('2024-03-14 00:00:00')}\n",
      "SubwayCar Name: S027-T1'\n",
      "Activities: {'흡음재 씰링/검사/수정': Timestamp('2024-03-04 00:00:00'), '측창취부/T-BOLT 삽입': Timestamp('2024-03-04 00:00:00'), '리무벌/파티션 프레임 취부': Timestamp('2024-03-05 00:00:00'), '실내/상하 CABLE HARNESS 취부': Timestamp('2024-03-06 00:00:00'), '실내/상하 배선': Timestamp('2024-03-08 00:00:00'), '실내 배선 작업': Timestamp('2024-03-09 00:00:00'), '하부덕트검사\\n (D+1~4일차 조정작업)': Timestamp('2024-03-11 00:00:00'), '실내 배선 검사': Timestamp('2024-03-12 00:00:00')}\n",
      "SubwayCar Name: S022-M1\n",
      "Activities: {'실내/상하 배선': Timestamp('2024-03-04 00:00:00'), '실내 배선 작업': Timestamp('2024-03-05 00:00:00'), '하부덕트검사\\n (D+1~4일차 조정작업)': Timestamp('2024-03-06 00:00:00'), '실내 배선 검사': Timestamp('2024-03-07 00:00:00'), '내장판 조정작업(완료)': Timestamp('2024-03-28 00:00:00')}\n",
      "SubwayCar Name: S020-TC2\n",
      "Activities: {'객실도어 취부': Timestamp('2024-03-04 00:00:00'), '객실도어 취부 검사': Timestamp('2024-03-05 00:00:00'), '배관 MODULE 취부': Timestamp('2024-03-05 00:00:00'), 'AIR DUCT MODULE 취부': Timestamp('2024-03-07 00:00:00'), '제동기기 취부 및 누설검사': Timestamp('2024-03-07 00:00:00'), 'CENTER GRILL 취부': Timestamp('2024-03-08 00:00:00'), 'COUPLER 취부': Timestamp('2024-03-08 00:00:00'), 'D+5~13일차 조정작업': Timestamp('2024-03-08 00:00:00'), 'AIR DUCT MODULE 취부 검사': Timestamp('2024-03-09 00:00:00'), 'CAB MODULE 취부(TC)': Timestamp('2024-03-09 00:00:00'), '상하 전장기기 취부 결선': Timestamp('2024-03-09 00:00:00'), '배전반 취부 및 배선작업': Timestamp('2024-03-11 00:00:00'), '운전실 내장판 취부': Timestamp('2024-03-11 00:00:00'), 'ROOF 내장판 취부': Timestamp('2024-03-12 00:00:00'), '운전실 캐비넷 취부(TC)': Timestamp('2024-03-12 00:00:00'), 'SIDE 내장판 취부': Timestamp('2024-03-13 00:00:00'), '운전실 배전반 결선(TC)': Timestamp('2024-03-13 00:00:00'), '내장판 조정작업(완료)': Timestamp('2024-03-14 00:00:00'), '운전실 DOOR 취부(TC)': Timestamp('2024-03-14 00:00:00'), '내장판 취부 검사': Timestamp('2024-03-15 00:00:00'), 'CENTER PIVOT 취부': Timestamp('2024-03-16 00:00:00'), 'AIR CON 취부': Timestamp('2024-03-20 00:00:00'), '운전실 전장기기 취부 결선(TC)': Timestamp('2024-03-28 00:00:00'), '전장기기 취부 결선 완료': Timestamp('2024-03-29 00:00:00'), '도통검사(량단위 시험기)': Timestamp('2024-03-30 00:00:00')}\n",
      "SubwayCar Name: S005-M2\n",
      "Activities: {'전장품 취부 입회검사': Timestamp('2024-03-04 00:00:00'), '복구 및 수정작업': Timestamp('2024-03-04 00:00:00'), '실내 설비 입회검사': Timestamp('2024-03-05 00:00:00'), '대차차입 전검사 / 대차차입': Timestamp('2024-03-05 00:00:00'), '대차 전장품 취부 결선 & 마무리': Timestamp('2024-03-06 00:00:00'), '대차차입 후 검사': Timestamp('2024-03-06 00:00:00'), '도통입회검사/내전압자체검사': Timestamp('2024-03-07 00:00:00'), '내전압 입회검사': Timestamp('2024-03-14 00:00:00')}\n",
      "SubwayCar Name: S006-T2\n",
      "Activities: {'대차 전장품 취부 결선 & 마무리': Timestamp('2024-03-04 00:00:00'), '대차차입 후 검사': Timestamp('2024-03-04 00:00:00'), '도통입회검사/내전압자체검사': Timestamp('2024-03-05 00:00:00'), '내전압 입회검사': Timestamp('2024-03-12 00:00:00')}\n",
      "SubwayCar Name: S030-TC2\n",
      "Activities: {'실내/상하 배선': Timestamp('2024-03-04 00:00:00'), '실내 배선 작업': Timestamp('2024-03-05 00:00:00'), '하부덕트검사\\n (D+1~4일차 조정작업)': Timestamp('2024-03-06 00:00:00'), '실내 배선 검사': Timestamp('2024-03-07 00:00:00')}\n",
      "SubwayCar Name: S001-TC1\n",
      "Activities: {'전장품 취부 입회검사': Timestamp('2024-03-04 00:00:00'), '복구 및 수정작업': Timestamp('2024-03-04 00:00:00'), '실내 설비 입회검사': Timestamp('2024-03-05 00:00:00'), '대차차입 전검사 / 대차차입': Timestamp('2024-03-05 00:00:00'), '대차 전장품 취부 결선 & 마무리': Timestamp('2024-03-06 00:00:00'), '대차차입 후 검사': Timestamp('2024-03-06 00:00:00'), '도통입회검사/내전압자체검사': Timestamp('2024-03-08 00:00:00'), '내전압 입회검사': Timestamp('2024-03-15 00:00:00')}\n",
      "SubwayCar Name: S010-TC2\n",
      "Activities: {'전장품 취부 입회검사': Timestamp('2024-03-04 00:00:00'), '복구 및 수정작업': Timestamp('2024-03-04 00:00:00'), '실내 설비 입회검사': Timestamp('2024-03-05 00:00:00'), '대차차입 전검사 / 대차차입': Timestamp('2024-03-05 00:00:00'), '대차 전장품 취부 결선 & 마무리': Timestamp('2024-03-06 00:00:00'), '대차차입 후 검사': Timestamp('2024-03-06 00:00:00'), '도통입회검사/내전압자체검사': Timestamp('2024-03-08 00:00:00'), '내전압 입회검사': Timestamp('2024-03-15 00:00:00')}\n",
      "SubwayCar Name: S007-T1'\n",
      "Activities: {'대차 전장품 취부 결선 & 마무리': Timestamp('2024-03-04 00:00:00'), '대차차입 후 검사': Timestamp('2024-03-04 00:00:00'), '도통입회검사/내전압자체검사': Timestamp('2024-03-05 00:00:00'), '내전압 입회검사': Timestamp('2024-03-12 00:00:00')}\n",
      "SubwayCar Name: S028-M1\n",
      "Activities: {'흡음재 씰링/검사/수정': Timestamp('2024-03-05 00:00:00'), '측창취부/T-BOLT 삽입': Timestamp('2024-03-05 00:00:00'), '리무벌/파티션 프레임 취부': Timestamp('2024-03-06 00:00:00'), '실내/상하 CABLE HARNESS 취부': Timestamp('2024-03-07 00:00:00'), '실내/상하 배선': Timestamp('2024-03-09 00:00:00'), '실내 배선 작업': Timestamp('2024-03-11 00:00:00'), '하부덕트검사\\n (D+1~4일차 조정작업)': Timestamp('2024-03-12 00:00:00'), '실내 배선 검사': Timestamp('2024-03-13 00:00:00')}\n",
      "SubwayCar Name: S013-M2\n",
      "Activities: {'객실도어 취부': Timestamp('2024-03-05 00:00:00'), '객실도어 취부 검사': Timestamp('2024-03-06 00:00:00'), '배관 MODULE 취부': Timestamp('2024-03-06 00:00:00'), 'AIR DUCT MODULE 취부': Timestamp('2024-03-07 00:00:00'), '제동기기 취부 및 누설검사': Timestamp('2024-03-08 00:00:00'), 'CENTER GRILL 취부': Timestamp('2024-03-08 00:00:00'), 'COUPLER 취부': Timestamp('2024-03-09 00:00:00'), 'D+5~13일차 조정작업': Timestamp('2024-03-09 00:00:00'), 'AIR DUCT MODULE 취부 검사': Timestamp('2024-03-09 00:00:00'), '상하 전장기기 취부 결선': Timestamp('2024-03-11 00:00:00'), '배전반 취부 및 배선작업': Timestamp('2024-03-11 00:00:00'), 'ROOF 내장판 취부': Timestamp('2024-03-12 00:00:00'), 'SIDE 내장판 취부': Timestamp('2024-03-13 00:00:00'), '내장판 조정작업(완료)': Timestamp('2024-03-14 00:00:00'), '내장판 취부 검사': Timestamp('2024-03-15 00:00:00'), '전장기기 취부 결선 완료': Timestamp('2024-03-16 00:00:00'), 'CENTER PIVOT 취부': Timestamp('2024-03-16 00:00:00'), '도통검사(량단위 시험기)': Timestamp('2024-03-18 00:00:00'), '도통 자체 검사(완료)': Timestamp('2024-03-19 00:00:00'), '도통 검사 수정': Timestamp('2024-03-20 00:00:00'), 'AIR CON 취부': Timestamp('2024-03-21 00:00:00'), '도통입회검사/내전압자체검사': Timestamp('2024-03-21 00:00:00'), '내전압 입회검사': Timestamp('2024-03-22 00:00:00'), '수정작업 및 점검커버 복구': Timestamp('2024-03-23 00:00:00'), 'D+17~20일차 조정작업': Timestamp('2024-03-23 00:00:00'), '전장취부, 결선 복구 완료': Timestamp('2024-03-23 00:00:00'), '실내 조정 및 실내·외 설비 완료': Timestamp('2024-03-23 00:00:00'), '전장품 취부 입회검사': Timestamp('2024-03-25 00:00:00'), '복구 및 수정작업': Timestamp('2024-03-25 00:00:00'), '실내 설비 입회검사': Timestamp('2024-03-26 00:00:00')}\n",
      "SubwayCar Name: S002-M1\n",
      "Activities: {'대차 전장품 취부 결선 & 마무리': Timestamp('2024-03-05 00:00:00'), '대차차입 후 검사': Timestamp('2024-03-05 00:00:00'), '도통입회검사/내전압자체검사': Timestamp('2024-03-06 00:00:00'), '내전압 입회검사': Timestamp('2024-03-13 00:00:00')}\n",
      "SubwayCar Name: S023-M2\n",
      "Activities: {'실내/상하 배선': Timestamp('2024-03-05 00:00:00'), '실내 배선 작업': Timestamp('2024-03-06 00:00:00'), '하부덕트검사\\n (D+1~4일차 조정작업)': Timestamp('2024-03-07 00:00:00'), '실내 배선 검사': Timestamp('2024-03-08 00:00:00')}\n",
      "SubwayCar Name: S008-M1\n",
      "Activities: {'대차 전장품 취부 결선 & 마무리': Timestamp('2024-03-05 00:00:00'), '대차차입 후 검사': Timestamp('2024-03-05 00:00:00'), '도통입회검사/내전압자체검사': Timestamp('2024-03-06 00:00:00'), '내전압 입회검사': Timestamp('2024-03-13 00:00:00')}\n",
      "SubwayCar Name: S031-TC1\n",
      "Activities: {'흡음재 취부': Timestamp('2024-03-06 00:00:00'), '흡음재 씰링/검사/수정': Timestamp('2024-03-08 00:00:00'), '측창취부/T-BOLT 삽입': Timestamp('2024-03-08 00:00:00'), '리무벌/파티션 프레임 취부': Timestamp('2024-03-09 00:00:00'), '실내/상하 CABLE HARNESS 취부': Timestamp('2024-03-11 00:00:00'), '실내/상하 배선': Timestamp('2024-03-12 00:00:00'), '실내 배선 작업': Timestamp('2024-03-13 00:00:00'), '하부덕트검사\\n (D+1~4일차 조정작업)': Timestamp('2024-03-14 00:00:00'), '실내 배선 검사': Timestamp('2024-03-15 00:00:00')}\n",
      "SubwayCar Name: S014-T1\n",
      "Activities: {'객실도어 취부': Timestamp('2024-03-06 00:00:00'), '배관 MODULE 취부': Timestamp('2024-03-06 00:00:00'), '객실도어 취부 검사': Timestamp('2024-03-07 00:00:00'), '제동기기 취부 및 누설검사': Timestamp('2024-03-08 00:00:00'), 'COUPLER 취부': Timestamp('2024-03-09 00:00:00'), 'D+5~13일차 조정작업': Timestamp('2024-03-09 00:00:00'), '상하 전장기기 취부 결선': Timestamp('2024-03-11 00:00:00'), 'AIR DUCT MODULE 취부': Timestamp('2024-03-12 00:00:00'), 'CENTER GRILL 취부': Timestamp('2024-03-13 00:00:00'), 'AIR DUCT MODULE 취부 검사': Timestamp('2024-03-14 00:00:00'), '배전반 취부 및 배선작업': Timestamp('2024-03-15 00:00:00'), 'ROOF 내장판 취부': Timestamp('2024-03-16 00:00:00'), 'CENTER PIVOT 취부': Timestamp('2024-03-18 00:00:00'), 'SIDE 내장판 취부': Timestamp('2024-03-18 00:00:00'), '내장판 조정작업(완료)': Timestamp('2024-03-19 00:00:00'), '내장판 취부 검사': Timestamp('2024-03-20 00:00:00'), '전장기기 취부 결선 완료': Timestamp('2024-03-21 00:00:00'), 'AIR CON 취부': Timestamp('2024-03-21 00:00:00'), '도통검사(량단위 시험기)': Timestamp('2024-03-22 00:00:00'), '도통 자체 검사(완료)': Timestamp('2024-03-23 00:00:00'), '도통 검사 수정': Timestamp('2024-03-25 00:00:00'), '도통입회검사/내전압자체검사': Timestamp('2024-03-26 00:00:00'), '내전압 입회검사': Timestamp('2024-03-27 00:00:00'), '수정작업 및 점검커버 복구': Timestamp('2024-03-28 00:00:00'), 'D+17~20일차 조정작업': Timestamp('2024-03-28 00:00:00'), '전장취부, 결선 복구 완료': Timestamp('2024-03-28 00:00:00'), '실내 조정 및 실내·외 설비 완료': Timestamp('2024-03-28 00:00:00'), '전장품 취부 입회검사': Timestamp('2024-03-29 00:00:00'), '복구 및 수정작업': Timestamp('2024-03-29 00:00:00'), '실내 설비 입회검사': Timestamp('2024-03-30 00:00:00')}\n",
      "SubwayCar Name: S015-M2\n",
      "Activities: {'객실도어 취부': Timestamp('2024-03-07 00:00:00'), '배관 MODULE 취부': Timestamp('2024-03-07 00:00:00'), '객실도어 취부 검사': Timestamp('2024-03-08 00:00:00'), '제동기기 취부 및 누설검사': Timestamp('2024-03-09 00:00:00'), 'COUPLER 취부': Timestamp('2024-03-11 00:00:00'), 'D+5~13일차 조정작업': Timestamp('2024-03-11 00:00:00'), '상하 전장기기 취부 결선': Timestamp('2024-03-12 00:00:00'), 'AIR DUCT MODULE 취부': Timestamp('2024-03-12 00:00:00'), 'CENTER GRILL 취부': Timestamp('2024-03-13 00:00:00'), 'AIR DUCT MODULE 취부 검사': Timestamp('2024-03-14 00:00:00'), '배전반 취부 및 배선작업': Timestamp('2024-03-15 00:00:00'), 'ROOF 내장판 취부': Timestamp('2024-03-16 00:00:00'), 'CENTER PIVOT 취부': Timestamp('2024-03-18 00:00:00'), 'SIDE 내장판 취부': Timestamp('2024-03-18 00:00:00'), '내장판 조정작업(완료)': Timestamp('2024-03-19 00:00:00'), '내장판 취부 검사': Timestamp('2024-03-20 00:00:00'), '전장기기 취부 결선 완료': Timestamp('2024-03-21 00:00:00'), 'AIR CON 취부': Timestamp('2024-03-22 00:00:00'), '도통검사(량단위 시험기)': Timestamp('2024-03-22 00:00:00'), '도통 자체 검사(완료)': Timestamp('2024-03-23 00:00:00'), '도통 검사 수정': Timestamp('2024-03-25 00:00:00'), '도통입회검사/내전압자체검사': Timestamp('2024-03-26 00:00:00'), '내전압 입회검사': Timestamp('2024-03-27 00:00:00'), '수정작업 및 점검커버 복구': Timestamp('2024-03-28 00:00:00'), 'D+17~20일차 조정작업': Timestamp('2024-03-28 00:00:00'), '전장취부, 결선 복구 완료': Timestamp('2024-03-28 00:00:00'), '실내 조정 및 실내·외 설비 완료': Timestamp('2024-03-28 00:00:00'), '전장품 취부 입회검사': Timestamp('2024-03-29 00:00:00'), '복구 및 수정작업': Timestamp('2024-03-29 00:00:00'), '실내 설비 입회검사': Timestamp('2024-03-30 00:00:00')}\n",
      "SubwayCar Name: S032-M1\n",
      "Activities: {'흡음재 취부': Timestamp('2024-03-08 00:00:00'), '흡음재 씰링/검사/수정': Timestamp('2024-03-11 00:00:00'), '측창취부/T-BOLT 삽입': Timestamp('2024-03-11 00:00:00'), '리무벌/파티션 프레임 취부': Timestamp('2024-03-12 00:00:00'), '실내/상하 CABLE HARNESS 취부': Timestamp('2024-03-13 00:00:00'), '실내/상하 배선': Timestamp('2024-03-14 00:00:00'), '실내 배선 작업': Timestamp('2024-03-15 00:00:00'), '하부덕트검사\\n (D+1~4일차 조정작업)': Timestamp('2024-03-16 00:00:00'), '실내 배선 검사': Timestamp('2024-03-18 00:00:00')}\n",
      "SubwayCar Name: S016-T2\n",
      "Activities: {'객실도어 취부': Timestamp('2024-03-08 00:00:00'), '배관 MODULE 취부': Timestamp('2024-03-08 00:00:00'), '객실도어 취부 검사': Timestamp('2024-03-09 00:00:00'), '제동기기 취부 및 누설검사': Timestamp('2024-03-11 00:00:00'), 'COUPLER 취부': Timestamp('2024-03-12 00:00:00'), 'D+5~13일차 조정작업': Timestamp('2024-03-12 00:00:00'), '상하 전장기기 취부 결선': Timestamp('2024-03-13 00:00:00'), 'AIR DUCT MODULE 취부': Timestamp('2024-03-14 00:00:00'), 'CENTER GRILL 취부': Timestamp('2024-03-15 00:00:00'), 'AIR DUCT MODULE 취부 검사': Timestamp('2024-03-16 00:00:00'), '배전반 취부 및 배선작업': Timestamp('2024-03-18 00:00:00'), 'CENTER PIVOT 취부': Timestamp('2024-03-19 00:00:00'), 'ROOF 내장판 취부': Timestamp('2024-03-19 00:00:00'), 'SIDE 내장판 취부': Timestamp('2024-03-20 00:00:00'), '내장판 조정작업(완료)': Timestamp('2024-03-21 00:00:00'), '내장판 취부 검사': Timestamp('2024-03-22 00:00:00'), 'AIR CON 취부': Timestamp('2024-03-23 00:00:00'), '전장기기 취부 결선 완료': Timestamp('2024-03-23 00:00:00'), '도통검사(량단위 시험기)': Timestamp('2024-03-25 00:00:00'), '도통 자체 검사(완료)': Timestamp('2024-03-26 00:00:00'), '도통 검사 수정': Timestamp('2024-03-27 00:00:00'), '도통입회검사/내전압자체검사': Timestamp('2024-03-28 00:00:00'), '내전압 입회검사': Timestamp('2024-03-29 00:00:00'), '수정작업 및 점검커버 복구': Timestamp('2024-03-30 00:00:00'), 'D+17~20일차 조정작업': Timestamp('2024-03-30 00:00:00'), '전장취부, 결선 복구 완료': Timestamp('2024-03-30 00:00:00'), '실내 조정 및 실내·외 설비 완료': Timestamp('2024-03-30 00:00:00')}\n",
      "SubwayCar Name: S040-TC2\n",
      "Activities: {'흡음재 취부': Timestamp('2024-03-15 00:00:00'), '흡음재 씰링/검사/수정': Timestamp('2024-03-16 00:00:00'), '측창취부/T-BOLT 삽입': Timestamp('2024-03-16 00:00:00'), '리무벌/파티션 프레임 취부': Timestamp('2024-03-18 00:00:00'), '실내/상하 CABLE HARNESS 취부': Timestamp('2024-03-19 00:00:00'), '실내/상하 배선': Timestamp('2024-03-20 00:00:00'), '실내 배선 작업': Timestamp('2024-03-21 00:00:00'), '하부덕트검사\\n (D+1~4일차 조정작업)': Timestamp('2024-03-22 00:00:00'), '실내 배선 검사': Timestamp('2024-03-23 00:00:00')}\n",
      "SubwayCar Name: S033-M2\n",
      "Activities: {'흡음재 취부': Timestamp('2024-03-18 00:00:00'), '흡음재 씰링/검사/수정': Timestamp('2024-03-19 00:00:00'), '측창취부/T-BOLT 삽입': Timestamp('2024-03-19 00:00:00'), '리무벌/파티션 프레임 취부': Timestamp('2024-03-20 00:00:00'), '실내/상하 CABLE HARNESS 취부': Timestamp('2024-03-21 00:00:00'), '실내/상하 배선': Timestamp('2024-03-22 00:00:00'), '실내 배선 작업': Timestamp('2024-03-23 00:00:00'), '하부덕트검사\\n (D+1~4일차 조정작업)': Timestamp('2024-03-25 00:00:00'), '실내 배선 검사': Timestamp('2024-03-26 00:00:00')}\n",
      "SubwayCar Name: S034-T1\n",
      "Activities: {'흡음재 취부': Timestamp('2024-03-22 00:00:00'), '흡음재 씰링/검사/수정': Timestamp('2024-03-23 00:00:00'), '측창취부/T-BOLT 삽입': Timestamp('2024-03-23 00:00:00'), '리무벌/파티션 프레임 취부': Timestamp('2024-03-25 00:00:00'), '실내/상하 CABLE HARNESS 취부': Timestamp('2024-03-26 00:00:00'), '실내/상하 배선': Timestamp('2024-03-27 00:00:00'), '실내 배선 작업': Timestamp('2024-03-28 00:00:00'), '하부덕트검사\\n (D+1~4일차 조정작업)': Timestamp('2024-03-29 00:00:00'), '실내 배선 검사': Timestamp('2024-03-30 00:00:00')}\n",
      "SubwayCar Name: S035-M2\n",
      "Activities: {'흡음재 취부': Timestamp('2024-03-25 00:00:00'), '흡음재 씰링/검사/수정': Timestamp('2024-03-26 00:00:00'), '측창취부/T-BOLT 삽입': Timestamp('2024-03-26 00:00:00'), '리무벌/파티션 프레임 취부': Timestamp('2024-03-27 00:00:00'), '실내/상하 CABLE HARNESS 취부': Timestamp('2024-03-28 00:00:00'), '실내/상하 배선': Timestamp('2024-03-29 00:00:00'), '실내 배선 작업': Timestamp('2024-03-30 00:00:00')}\n"
     ]
    }
   ],
   "execution_count": 47
  },
  {
   "metadata": {
    "ExecuteTime": {
     "end_time": "2024-11-19T06:34:02.841840Z",
     "start_time": "2024-11-19T06:34:02.837831Z"
    }
   },
   "cell_type": "code",
   "source": [
    "for car_name, subway_car in subway_car_dict2.items():\n",
    "    print(f\"SubwayCar Name: {car_name}\")\n",
    "    print(\"Activities:\", subway_car.activity_dict)"
   ],
   "id": "72324cd32a128493",
   "outputs": [
    {
     "name": "stdout",
     "output_type": "stream",
     "text": [
      "SubwayCar Name: S036-T2\n",
      "Activities: {'흡음재 취부': Timestamp('2024-04-01 00:00:00'), '흡음재 씰링/검사/수정': Timestamp('2024-04-02 00:00:00'), '측창취부/T-BOLT 삽입': Timestamp('2024-04-02 00:00:00'), '리무벌/파티션 프레임 취부': Timestamp('2024-04-03 00:00:00'), '실내/상하 CABLE HARNESS 취부': Timestamp('2024-04-04 00:00:00'), '실내/상하 배선': Timestamp('2024-04-05 00:00:00'), '객실도어 취부': Timestamp('2024-04-06 00:00:00'), '하부덕트검사\\n (D+1~4일차 조정작업)': Timestamp('2024-04-08 00:00:00'), '실내 배선 검사': Timestamp('2024-04-09 00:00:00'), 'AIR DUCT MODULE 취부': Timestamp('2024-04-27 00:00:00'), 'CENTER GRILL 취부': Timestamp('2024-04-29 00:00:00'), 'AIR DUCT MODULE 취부 검사': Timestamp('2024-04-30 00:00:00')}\n",
      "SubwayCar Name: S035-M2\n",
      "Activities: {'실내/상하 CABLE HARNESS 취부': Timestamp('2024-04-01 00:00:00'), '실내/상하 배선': Timestamp('2024-04-02 00:00:00'), '객실도어 취부': Timestamp('2024-04-03 00:00:00'), '하부덕트검사\\n (D+1~4일차 조정작업)': Timestamp('2024-04-04 00:00:00'), '실내 배선 검사': Timestamp('2024-04-05 00:00:00'), 'AIR DUCT MODULE 취부': Timestamp('2024-04-26 00:00:00'), 'CENTER GRILL 취부': Timestamp('2024-04-27 00:00:00'), 'AIR DUCT MODULE 취부 검사': Timestamp('2024-04-29 00:00:00'), '배관 MODULE 취부': Timestamp('2024-04-30 00:00:00')}\n",
      "SubwayCar Name: S021-TC1\n",
      "Activities: {'실내 배선 작업': Timestamp('2024-04-01 00:00:00'), 'AIR DUCT MODULE 취부': Timestamp('2024-04-01 00:00:00'), '객실도어 취부 검사': Timestamp('2024-04-02 00:00:00'), 'CENTER GRILL 취부': Timestamp('2024-04-02 00:00:00'), 'AIR DUCT MODULE 취부 검사': Timestamp('2024-04-03 00:00:00'), '배관 MODULE 취부': Timestamp('2024-04-04 00:00:00'), 'CENTER PIVOT 취부': Timestamp('2024-04-05 00:00:00'), 'COUPLER 취부': Timestamp('2024-04-06 00:00:00'), '제동기기 취부 및 누설검사': Timestamp('2024-04-06 00:00:00'), 'CAB MODULE 취부(TC)': Timestamp('2024-04-08 00:00:00'), 'D+5~13일차 조정작업': Timestamp('2024-04-08 00:00:00'), 'ROOF 내장판 취부': Timestamp('2024-04-09 00:00:00'), '상하 전장기기 취부 결선': Timestamp('2024-04-10 00:00:00'), 'SIDE 내장판 취부': Timestamp('2024-04-10 00:00:00'), 'AIR CON 취부': Timestamp('2024-04-11 00:00:00'), '배전반 취부 및 배선작업': Timestamp('2024-04-15 00:00:00'), '운전실 내장판 취부': Timestamp('2024-04-17 00:00:00'), '운전실 캐비넷 취부(TC)': Timestamp('2024-04-18 00:00:00'), '운전실 배전반 결선(TC)': Timestamp('2024-04-19 00:00:00'), '내장판 조정작업(완료)': Timestamp('2024-04-19 00:00:00'), '내장판 취부 검사': Timestamp('2024-04-20 00:00:00'), '운전실 DOOR 취부(TC)': Timestamp('2024-04-20 00:00:00')}\n",
      "SubwayCar Name: S040-TC2\n",
      "Activities: {'객실도어 취부': Timestamp('2024-04-01 00:00:00'), '실내 배선 검사': Timestamp('2024-04-03 00:00:00'), 'AIR DUCT MODULE 취부': Timestamp('2024-04-24 00:00:00'), 'CENTER GRILL 취부': Timestamp('2024-04-25 00:00:00'), 'AIR DUCT MODULE 취부 검사': Timestamp('2024-04-26 00:00:00'), '배관 MODULE 취부': Timestamp('2024-04-27 00:00:00'), '실내 배선 작업': Timestamp('2024-04-29 00:00:00'), 'CENTER PIVOT 취부': Timestamp('2024-04-29 00:00:00'), '객실도어 취부 검사': Timestamp('2024-04-30 00:00:00'), 'COUPLER 취부': Timestamp('2024-04-30 00:00:00'), '제동기기 취부 및 누설검사': Timestamp('2024-04-30 00:00:00')}\n",
      "SubwayCar Name: S012-M1\n",
      "Activities: {'배전반 취부 및 배선작업': Timestamp('2024-04-01 00:00:00'), '내장판 조정작업(완료)': Timestamp('2024-04-03 00:00:00'), '내장판 취부 검사': Timestamp('2024-04-04 00:00:00'), '도통입회검사/내전압자체검사': Timestamp('2024-04-10 00:00:00'), '내전압 입회검사': Timestamp('2024-04-11 00:00:00'), '수정작업 및 점검커버 복구': Timestamp('2024-04-12 00:00:00'), 'D+17~20일차 조정작업': Timestamp('2024-04-12 00:00:00'), '전장취부, 결선 복구 완료': Timestamp('2024-04-12 00:00:00'), '실내 조정 및 실내·외 설비 완료': Timestamp('2024-04-12 00:00:00'), '전장품 취부 입회검사': Timestamp('2024-04-13 00:00:00'), '복구 및 수정작업': Timestamp('2024-04-13 00:00:00'), '실내 설비 입회검사': Timestamp('2024-04-15 00:00:00'), '대차차입 전검사 / 대차차입': Timestamp('2024-04-15 00:00:00'), '대차 전장품 취부 결선 & 마무리': Timestamp('2024-04-16 00:00:00'), '대차차입 후 검사': Timestamp('2024-04-16 00:00:00')}\n",
      "SubwayCar Name: S037-T1'\n",
      "Activities: {'흡음재 취부': Timestamp('2024-04-01 00:00:00'), '흡음재 씰링/검사/수정': Timestamp('2024-04-02 00:00:00'), '측창취부/T-BOLT 삽입': Timestamp('2024-04-02 00:00:00'), '리무벌/파티션 프레임 취부': Timestamp('2024-04-03 00:00:00'), '실내/상하 CABLE HARNESS 취부': Timestamp('2024-04-04 00:00:00'), '실내/상하 배선': Timestamp('2024-04-05 00:00:00'), '객실도어 취부': Timestamp('2024-04-06 00:00:00'), '하부덕트검사\\n (D+1~4일차 조정작업)': Timestamp('2024-04-08 00:00:00'), '실내 배선 검사': Timestamp('2024-04-09 00:00:00'), 'AIR DUCT MODULE 취부': Timestamp('2024-04-27 00:00:00'), 'CENTER GRILL 취부': Timestamp('2024-04-29 00:00:00'), 'AIR DUCT MODULE 취부 검사': Timestamp('2024-04-30 00:00:00')}\n",
      "SubwayCar Name: S038-M1\n",
      "Activities: {'흡음재 취부': Timestamp('2024-04-02 00:00:00'), '흡음재 씰링/검사/수정': Timestamp('2024-04-03 00:00:00'), '측창취부/T-BOLT 삽입': Timestamp('2024-04-03 00:00:00'), '리무벌/파티션 프레임 취부': Timestamp('2024-04-04 00:00:00'), '실내/상하 CABLE HARNESS 취부': Timestamp('2024-04-05 00:00:00'), '실내/상하 배선': Timestamp('2024-04-06 00:00:00'), '객실도어 취부': Timestamp('2024-04-08 00:00:00'), '하부덕트검사\\n (D+1~4일차 조정작업)': Timestamp('2024-04-09 00:00:00'), '실내 배선 검사': Timestamp('2024-04-10 00:00:00'), 'AIR DUCT MODULE 취부': Timestamp('2024-04-29 00:00:00'), 'CENTER GRILL 취부': Timestamp('2024-04-30 00:00:00')}\n",
      "SubwayCar Name: S022-M1\n",
      "Activities: {'실내 배선 작업': Timestamp('2024-04-02 00:00:00'), 'AIR DUCT MODULE 취부': Timestamp('2024-04-02 00:00:00'), '객실도어 취부 검사': Timestamp('2024-04-03 00:00:00'), 'CENTER GRILL 취부': Timestamp('2024-04-03 00:00:00'), 'AIR DUCT MODULE 취부 검사': Timestamp('2024-04-04 00:00:00'), '배관 MODULE 취부': Timestamp('2024-04-05 00:00:00'), 'CENTER PIVOT 취부': Timestamp('2024-04-06 00:00:00'), 'COUPLER 취부': Timestamp('2024-04-08 00:00:00'), '제동기기 취부 및 누설검사': Timestamp('2024-04-08 00:00:00'), '배전반 취부 및 배선작업': Timestamp('2024-04-09 00:00:00'), 'D+5~13일차 조정작업': Timestamp('2024-04-09 00:00:00'), 'ROOF 내장판 취부': Timestamp('2024-04-10 00:00:00'), '상하 전장기기 취부 결선': Timestamp('2024-04-11 00:00:00'), 'SIDE 내장판 취부': Timestamp('2024-04-11 00:00:00'), 'AIR CON 취부': Timestamp('2024-04-12 00:00:00'), '내장판 조정작업(완료)': Timestamp('2024-04-13 00:00:00'), '내장판 취부 검사': Timestamp('2024-04-15 00:00:00'), '전장기기 취부 결선 완료': Timestamp('2024-04-16 00:00:00'), '도통검사(량단위 시험기)': Timestamp('2024-04-17 00:00:00'), '도통 자체 검사(완료)': Timestamp('2024-04-18 00:00:00'), '도통 검사 수정': Timestamp('2024-04-19 00:00:00'), '도통입회검사/내전압자체검사': Timestamp('2024-04-20 00:00:00'), '내전압 입회검사': Timestamp('2024-04-22 00:00:00'), '수정작업 및 점검커버 복구': Timestamp('2024-04-23 00:00:00'), 'D+17~20일차 조정작업': Timestamp('2024-04-23 00:00:00'), '전장취부, 결선 복구 완료': Timestamp('2024-04-23 00:00:00'), '실내 조정 및 실내·외 설비 완료': Timestamp('2024-04-23 00:00:00'), '전장품 취부 입회검사': Timestamp('2024-04-24 00:00:00'), '복구 및 수정작업': Timestamp('2024-04-24 00:00:00'), '실내 설비 입회검사': Timestamp('2024-04-25 00:00:00'), '대차차입 전검사 / 대차차입': Timestamp('2024-04-26 00:00:00'), '대차 전장품 취부 결선 & 마무리': Timestamp('2024-04-27 00:00:00'), '대차차입 후 검사': Timestamp('2024-04-27 00:00:00')}\n",
      "SubwayCar Name: S034-T1\n",
      "Activities: {'객실도어 취부': Timestamp('2024-04-02 00:00:00'), 'AIR DUCT MODULE 취부': Timestamp('2024-04-26 00:00:00'), 'CENTER GRILL 취부': Timestamp('2024-04-27 00:00:00'), 'AIR DUCT MODULE 취부 검사': Timestamp('2024-04-29 00:00:00'), '배관 MODULE 취부': Timestamp('2024-04-30 00:00:00')}\n",
      "SubwayCar Name: S011-TC1\n",
      "Activities: {'CAB MODULE 취부(TC)': Timestamp('2024-04-02 00:00:00'), 'COUPLER 취부': Timestamp('2024-04-02 00:00:00'), 'D+5~13일차 조정작업': Timestamp('2024-04-03 00:00:00'), '배전반 취부 및 배선작업': Timestamp('2024-04-06 00:00:00'), '운전실 내장판 취부': Timestamp('2024-04-08 00:00:00'), '운전실 캐비넷 취부(TC)': Timestamp('2024-04-09 00:00:00'), '내장판 조정작업(완료)': Timestamp('2024-04-09 00:00:00'), '내장판 취부 검사': Timestamp('2024-04-10 00:00:00'), '운전실 배전반 결선(TC)': Timestamp('2024-04-11 00:00:00'), '운전실 전장기기 취부 결선(TC)': Timestamp('2024-04-11 00:00:00'), '운전실 DOOR 취부(TC)': Timestamp('2024-04-12 00:00:00'), '도통검사(량단위 시험기)': Timestamp('2024-04-12 00:00:00'), '도통 자체 검사(완료)': Timestamp('2024-04-13 00:00:00'), '도통 검사 수정': Timestamp('2024-04-15 00:00:00'), '도통입회검사/내전압자체검사': Timestamp('2024-04-16 00:00:00'), '내전압 입회검사': Timestamp('2024-04-17 00:00:00'), '수정작업 및 점검커버 복구': Timestamp('2024-04-18 00:00:00'), 'D+17~20일차 조정작업': Timestamp('2024-04-18 00:00:00'), '전장취부, 결선 복구 완료': Timestamp('2024-04-18 00:00:00'), '실내 조정 및 실내·외 설비 완료': Timestamp('2024-04-18 00:00:00'), '전장품 취부 입회검사': Timestamp('2024-04-19 00:00:00'), '복구 및 수정작업': Timestamp('2024-04-19 00:00:00'), '실내 설비 입회검사': Timestamp('2024-04-20 00:00:00'), '대차차입 전검사 / 대차차입': Timestamp('2024-04-20 00:00:00'), '대차 전장품 취부 결선 & 마무리': Timestamp('2024-04-22 00:00:00'), '대차차입 후 검사': Timestamp('2024-04-22 00:00:00')}\n",
      "SubwayCar Name: S013-M2\n",
      "Activities: {'배전반 취부 및 배선작업': Timestamp('2024-04-02 00:00:00'), '상하 전장기기 취부 결선': Timestamp('2024-04-03 00:00:00'), '내장판 조정작업(완료)': Timestamp('2024-04-04 00:00:00'), '내장판 취부 검사': Timestamp('2024-04-05 00:00:00'), '도통입회검사/내전압자체검사': Timestamp('2024-04-11 00:00:00'), '내전압 입회검사': Timestamp('2024-04-12 00:00:00'), '수정작업 및 점검커버 복구': Timestamp('2024-04-13 00:00:00'), 'D+17~20일차 조정작업': Timestamp('2024-04-13 00:00:00'), '전장취부, 결선 복구 완료': Timestamp('2024-04-13 00:00:00'), '실내 조정 및 실내·외 설비 완료': Timestamp('2024-04-13 00:00:00'), '전장품 취부 입회검사': Timestamp('2024-04-15 00:00:00'), '복구 및 수정작업': Timestamp('2024-04-15 00:00:00'), '실내 설비 입회검사': Timestamp('2024-04-16 00:00:00'), '대차차입 전검사 / 대차차입': Timestamp('2024-04-16 00:00:00'), '대차 전장품 취부 결선 & 마무리': Timestamp('2024-04-17 00:00:00'), '대차차입 후 검사': Timestamp('2024-04-17 00:00:00')}\n",
      "SubwayCar Name: S020-TC2\n",
      "Activities: {'상하 전장기기 취부 결선': Timestamp('2024-04-02 00:00:00'), 'CAB MODULE 취부(TC)': Timestamp('2024-04-04 00:00:00'), 'COUPLER 취부': Timestamp('2024-04-04 00:00:00'), 'D+5~13일차 조정작업': Timestamp('2024-04-05 00:00:00'), '배전반 취부 및 배선작업': Timestamp('2024-04-08 00:00:00'), '운전실 내장판 취부': Timestamp('2024-04-09 00:00:00'), '운전실 캐비넷 취부(TC)': Timestamp('2024-04-10 00:00:00'), '내장판 조정작업(완료)': Timestamp('2024-04-10 00:00:00'), '내장판 취부 검사': Timestamp('2024-04-11 00:00:00'), '운전실 배전반 결선(TC)': Timestamp('2024-04-12 00:00:00'), '전장기기 취부 결선 완료': Timestamp('2024-04-12 00:00:00'), '운전실 전장기기 취부 결선(TC)': Timestamp('2024-04-12 00:00:00'), '운전실 DOOR 취부(TC)': Timestamp('2024-04-13 00:00:00'), '도통검사(량단위 시험기)': Timestamp('2024-04-13 00:00:00'), '도통 자체 검사(완료)': Timestamp('2024-04-15 00:00:00'), '도통 검사 수정': Timestamp('2024-04-16 00:00:00'), '도통입회검사/내전압자체검사': Timestamp('2024-04-17 00:00:00'), '내전압 입회검사': Timestamp('2024-04-18 00:00:00'), '수정작업 및 점검커버 복구': Timestamp('2024-04-19 00:00:00'), 'D+17~20일차 조정작업': Timestamp('2024-04-19 00:00:00'), '전장취부, 결선 복구 완료': Timestamp('2024-04-19 00:00:00'), '실내 조정 및 실내·외 설비 완료': Timestamp('2024-04-19 00:00:00'), '전장품 취부 입회검사': Timestamp('2024-04-20 00:00:00'), '복구 및 수정작업': Timestamp('2024-04-20 00:00:00'), '실내 설비 입회검사': Timestamp('2024-04-22 00:00:00'), '대차차입 전검사 / 대차차입': Timestamp('2024-04-22 00:00:00'), '대차 전장품 취부 결선 & 마무리': Timestamp('2024-04-23 00:00:00'), '대차차입 후 검사': Timestamp('2024-04-23 00:00:00')}\n",
      "SubwayCar Name: S039-M2'\n",
      "Activities: {'흡음재 취부': Timestamp('2024-04-03 00:00:00'), '흡음재 씰링/검사/수정': Timestamp('2024-04-04 00:00:00'), '측창취부/T-BOLT 삽입': Timestamp('2024-04-04 00:00:00'), '리무벌/파티션 프레임 취부': Timestamp('2024-04-05 00:00:00'), '실내/상하 CABLE HARNESS 취부': Timestamp('2024-04-06 00:00:00'), '실내/상하 배선': Timestamp('2024-04-08 00:00:00'), '객실도어 취부': Timestamp('2024-04-09 00:00:00'), '하부덕트검사\\n (D+1~4일차 조정작업)': Timestamp('2024-04-10 00:00:00'), '실내 배선 검사': Timestamp('2024-04-11 00:00:00'), 'AIR DUCT MODULE 취부': Timestamp('2024-04-30 00:00:00')}\n",
      "SubwayCar Name: S030-TC2\n",
      "Activities: {'실내 배선 작업': Timestamp('2024-04-03 00:00:00'), 'AIR DUCT MODULE 취부': Timestamp('2024-04-03 00:00:00'), '객실도어 취부 검사': Timestamp('2024-04-04 00:00:00'), 'CENTER GRILL 취부': Timestamp('2024-04-04 00:00:00'), 'AIR DUCT MODULE 취부 검사': Timestamp('2024-04-05 00:00:00'), '배관 MODULE 취부': Timestamp('2024-04-06 00:00:00'), 'CENTER PIVOT 취부': Timestamp('2024-04-08 00:00:00'), 'COUPLER 취부': Timestamp('2024-04-09 00:00:00'), '제동기기 취부 및 누설검사': Timestamp('2024-04-09 00:00:00'), 'CAB MODULE 취부(TC)': Timestamp('2024-04-10 00:00:00'), 'D+5~13일차 조정작업': Timestamp('2024-04-10 00:00:00'), 'ROOF 내장판 취부': Timestamp('2024-04-11 00:00:00'), '상하 전장기기 취부 결선': Timestamp('2024-04-12 00:00:00'), 'SIDE 내장판 취부': Timestamp('2024-04-12 00:00:00'), 'AIR CON 취부': Timestamp('2024-04-13 00:00:00'), '배전반 취부 및 배선작업': Timestamp('2024-04-16 00:00:00'), '운전실 내장판 취부': Timestamp('2024-04-18 00:00:00'), '운전실 캐비넷 취부(TC)': Timestamp('2024-04-19 00:00:00'), '운전실 배전반 결선(TC)': Timestamp('2024-04-20 00:00:00'), '내장판 조정작업(완료)': Timestamp('2024-04-20 00:00:00'), '내장판 취부 검사': Timestamp('2024-04-22 00:00:00'), '운전실 DOOR 취부(TC)': Timestamp('2024-04-22 00:00:00')}\n",
      "SubwayCar Name: S015-M2\n",
      "Activities: {'배전반 취부 및 배선작업': Timestamp('2024-04-03 00:00:00'), '상하 전장기기 취부 결선': Timestamp('2024-04-04 00:00:00'), '내장판 조정작업(완료)': Timestamp('2024-04-05 00:00:00'), '내장판 취부 검사': Timestamp('2024-04-06 00:00:00'), '도통입회검사/내전압자체검사': Timestamp('2024-04-12 00:00:00'), '내전압 입회검사': Timestamp('2024-04-13 00:00:00'), '수정작업 및 점검커버 복구': Timestamp('2024-04-15 00:00:00'), 'D+17~20일차 조정작업': Timestamp('2024-04-15 00:00:00'), '전장취부, 결선 복구 완료': Timestamp('2024-04-15 00:00:00'), '실내 조정 및 실내·외 설비 완료': Timestamp('2024-04-15 00:00:00'), '전장품 취부 입회검사': Timestamp('2024-04-16 00:00:00'), '복구 및 수정작업': Timestamp('2024-04-16 00:00:00'), '실내 설비 입회검사': Timestamp('2024-04-17 00:00:00'), '대차차입 전검사 / 대차차입': Timestamp('2024-04-17 00:00:00'), '대차 전장품 취부 결선 & 마무리': Timestamp('2024-04-18 00:00:00'), '대차차입 후 검사': Timestamp('2024-04-18 00:00:00')}\n",
      "SubwayCar Name: S023-M2\n",
      "Activities: {'실내 배선 작업': Timestamp('2024-04-04 00:00:00'), 'AIR DUCT MODULE 취부': Timestamp('2024-04-04 00:00:00'), '객실도어 취부 검사': Timestamp('2024-04-05 00:00:00'), 'CENTER GRILL 취부': Timestamp('2024-04-05 00:00:00'), 'AIR DUCT MODULE 취부 검사': Timestamp('2024-04-06 00:00:00'), '배관 MODULE 취부': Timestamp('2024-04-08 00:00:00'), 'CENTER PIVOT 취부': Timestamp('2024-04-09 00:00:00'), '배전반 취부 및 배선작업': Timestamp('2024-04-09 00:00:00'), 'COUPLER 취부': Timestamp('2024-04-10 00:00:00'), '제동기기 취부 및 누설검사': Timestamp('2024-04-10 00:00:00'), 'D+5~13일차 조정작업': Timestamp('2024-04-11 00:00:00'), 'ROOF 내장판 취부': Timestamp('2024-04-12 00:00:00'), '상하 전장기기 취부 결선': Timestamp('2024-04-13 00:00:00'), 'SIDE 내장판 취부': Timestamp('2024-04-13 00:00:00'), '내장판 조정작업(완료)': Timestamp('2024-04-13 00:00:00'), 'AIR CON 취부': Timestamp('2024-04-15 00:00:00'), '내장판 취부 검사': Timestamp('2024-04-15 00:00:00'), '전장기기 취부 결선 완료': Timestamp('2024-04-16 00:00:00'), '도통검사(량단위 시험기)': Timestamp('2024-04-18 00:00:00'), '도통 자체 검사(완료)': Timestamp('2024-04-19 00:00:00'), '도통 검사 수정': Timestamp('2024-04-20 00:00:00'), '도통입회검사/내전압자체검사': Timestamp('2024-04-22 00:00:00'), '내전압 입회검사': Timestamp('2024-04-23 00:00:00'), '수정작업 및 점검커버 복구': Timestamp('2024-04-24 00:00:00'), 'D+17~20일차 조정작업': Timestamp('2024-04-24 00:00:00'), '전장취부, 결선 복구 완료': Timestamp('2024-04-24 00:00:00'), '실내 조정 및 실내·외 설비 완료': Timestamp('2024-04-24 00:00:00'), '전장품 취부 입회검사': Timestamp('2024-04-25 00:00:00'), '복구 및 수정작업': Timestamp('2024-04-25 00:00:00'), '실내 설비 입회검사': Timestamp('2024-04-26 00:00:00'), '대차차입 전검사 / 대차차입': Timestamp('2024-04-27 00:00:00'), '대차 전장품 취부 결선 & 마무리': Timestamp('2024-04-29 00:00:00'), '대차차입 후 검사': Timestamp('2024-04-29 00:00:00')}\n",
      "SubwayCar Name: S018-M1\n",
      "Activities: {'배전반 취부 및 배선작업': Timestamp('2024-04-04 00:00:00'), '상하 전장기기 취부 결선': Timestamp('2024-04-05 00:00:00'), '내장판 조정작업(완료)': Timestamp('2024-04-06 00:00:00'), '내장판 취부 검사': Timestamp('2024-04-08 00:00:00'), '도통검사(량단위 시험기)': Timestamp('2024-04-10 00:00:00'), '도통 자체 검사(완료)': Timestamp('2024-04-11 00:00:00'), '도통 검사 수정': Timestamp('2024-04-12 00:00:00'), '도통입회검사/내전압자체검사': Timestamp('2024-04-13 00:00:00'), '내전압 입회검사': Timestamp('2024-04-15 00:00:00'), '수정작업 및 점검커버 복구': Timestamp('2024-04-16 00:00:00'), 'D+17~20일차 조정작업': Timestamp('2024-04-16 00:00:00'), '전장취부, 결선 복구 완료': Timestamp('2024-04-16 00:00:00'), '실내 조정 및 실내·외 설비 완료': Timestamp('2024-04-16 00:00:00'), '전장품 취부 입회검사': Timestamp('2024-04-17 00:00:00'), '복구 및 수정작업': Timestamp('2024-04-17 00:00:00'), '실내 설비 입회검사': Timestamp('2024-04-18 00:00:00'), '대차차입 전검사 / 대차차입': Timestamp('2024-04-18 00:00:00'), '대차 전장품 취부 결선 & 마무리': Timestamp('2024-04-19 00:00:00'), '대차차입 후 검사': Timestamp('2024-04-19 00:00:00')}\n",
      "SubwayCar Name: S019-M2'\n",
      "Activities: {'배전반 취부 및 배선작업': Timestamp('2024-04-04 00:00:00'), '상하 전장기기 취부 결선': Timestamp('2024-04-06 00:00:00'), '내장판 조정작업(완료)': Timestamp('2024-04-06 00:00:00'), '내장판 취부 검사': Timestamp('2024-04-08 00:00:00'), '전장기기 취부 결선 완료': Timestamp('2024-04-09 00:00:00'), '도통검사(량단위 시험기)': Timestamp('2024-04-10 00:00:00'), '도통 자체 검사(완료)': Timestamp('2024-04-11 00:00:00'), '도통 검사 수정': Timestamp('2024-04-12 00:00:00'), '도통입회검사/내전압자체검사': Timestamp('2024-04-13 00:00:00'), '내전압 입회검사': Timestamp('2024-04-15 00:00:00'), '수정작업 및 점검커버 복구': Timestamp('2024-04-16 00:00:00'), 'D+17~20일차 조정작업': Timestamp('2024-04-16 00:00:00'), '전장취부, 결선 복구 완료': Timestamp('2024-04-16 00:00:00'), '실내 조정 및 실내·외 설비 완료': Timestamp('2024-04-16 00:00:00'), '전장품 취부 입회검사': Timestamp('2024-04-17 00:00:00'), '복구 및 수정작업': Timestamp('2024-04-17 00:00:00'), '실내 설비 입회검사': Timestamp('2024-04-18 00:00:00'), '대차차입 전검사 / 대차차입': Timestamp('2024-04-18 00:00:00'), '대차 전장품 취부 결선 & 마무리': Timestamp('2024-04-19 00:00:00'), '대차차입 후 검사': Timestamp('2024-04-19 00:00:00')}\n",
      "SubwayCar Name: S041-TC1\n",
      "Activities: {'흡음재 취부': Timestamp('2024-04-05 00:00:00'), '흡음재 씰링/검사/수정': Timestamp('2024-04-06 00:00:00'), '측창취부/T-BOLT 삽입': Timestamp('2024-04-06 00:00:00'), '리무벌/파티션 프레임 취부': Timestamp('2024-04-08 00:00:00'), '실내/상하 CABLE HARNESS 취부': Timestamp('2024-04-09 00:00:00'), '실내/상하 배선': Timestamp('2024-04-10 00:00:00'), '객실도어 취부': Timestamp('2024-04-11 00:00:00'), '하부덕트검사\\n (D+1~4일차 조정작업)': Timestamp('2024-04-12 00:00:00'), '실내 배선 검사': Timestamp('2024-04-13 00:00:00')}\n",
      "SubwayCar Name: S024-T1\n",
      "Activities: {'AIR DUCT MODULE 취부': Timestamp('2024-04-05 00:00:00'), 'CENTER GRILL 취부': Timestamp('2024-04-06 00:00:00'), '실내 배선 작업': Timestamp('2024-04-08 00:00:00'), 'AIR DUCT MODULE 취부 검사': Timestamp('2024-04-08 00:00:00'), '객실도어 취부 검사': Timestamp('2024-04-09 00:00:00'), '배관 MODULE 취부': Timestamp('2024-04-09 00:00:00'), 'CENTER PIVOT 취부': Timestamp('2024-04-10 00:00:00'), 'COUPLER 취부': Timestamp('2024-04-11 00:00:00'), '제동기기 취부 및 누설검사': Timestamp('2024-04-11 00:00:00'), 'D+5~13일차 조정작업': Timestamp('2024-04-12 00:00:00'), '배전반 취부 및 배선작업': Timestamp('2024-04-12 00:00:00'), 'ROOF 내장판 취부': Timestamp('2024-04-13 00:00:00'), '상하 전장기기 취부 결선': Timestamp('2024-04-15 00:00:00'), 'SIDE 내장판 취부': Timestamp('2024-04-15 00:00:00'), 'AIR CON 취부': Timestamp('2024-04-16 00:00:00'), '내장판 조정작업(완료)': Timestamp('2024-04-17 00:00:00'), '내장판 취부 검사': Timestamp('2024-04-18 00:00:00'), '전장기기 취부 결선 완료': Timestamp('2024-04-19 00:00:00'), '도통검사(량단위 시험기)': Timestamp('2024-04-22 00:00:00'), '도통 자체 검사(완료)': Timestamp('2024-04-23 00:00:00'), '도통 검사 수정': Timestamp('2024-04-24 00:00:00'), '도통입회검사/내전압자체검사': Timestamp('2024-04-25 00:00:00'), '내전압 입회검사': Timestamp('2024-04-26 00:00:00'), '수정작업 및 점검커버 복구': Timestamp('2024-04-27 00:00:00'), 'D+17~20일차 조정작업': Timestamp('2024-04-27 00:00:00'), '전장취부, 결선 복구 완료': Timestamp('2024-04-27 00:00:00'), '실내 조정 및 실내·외 설비 완료': Timestamp('2024-04-27 00:00:00'), '전장품 취부 입회검사': Timestamp('2024-04-29 00:00:00'), '복구 및 수정작업': Timestamp('2024-04-29 00:00:00'), '실내 설비 입회검사': Timestamp('2024-04-30 00:00:00')}\n",
      "SubwayCar Name: S014-T1\n",
      "Activities: {'배전반 취부 및 배선작업': Timestamp('2024-04-05 00:00:00'), '내장판 조정작업(완료)': Timestamp('2024-04-08 00:00:00'), '내장판 취부 검사': Timestamp('2024-04-09 00:00:00'), '도통입회검사/내전압자체검사': Timestamp('2024-04-15 00:00:00'), '내전압 입회검사': Timestamp('2024-04-16 00:00:00'), '수정작업 및 점검커버 복구': Timestamp('2024-04-17 00:00:00'), 'D+17~20일차 조정작업': Timestamp('2024-04-17 00:00:00'), '전장취부, 결선 복구 완료': Timestamp('2024-04-17 00:00:00'), '실내 조정 및 실내·외 설비 완료': Timestamp('2024-04-17 00:00:00'), '전장품 취부 입회검사': Timestamp('2024-04-18 00:00:00'), '복구 및 수정작업': Timestamp('2024-04-18 00:00:00'), '실내 설비 입회검사': Timestamp('2024-04-19 00:00:00'), '대차차입 전검사 / 대차차입': Timestamp('2024-04-19 00:00:00'), '대차 전장품 취부 결선 & 마무리': Timestamp('2024-04-20 00:00:00'), '대차차입 후 검사': Timestamp('2024-04-20 00:00:00')}\n",
      "SubwayCar Name: S016-T2\n",
      "Activities: {'배전반 취부 및 배선작업': Timestamp('2024-04-05 00:00:00'), '내장판 조정작업(완료)': Timestamp('2024-04-08 00:00:00'), '내장판 취부 검사': Timestamp('2024-04-09 00:00:00'), '도통입회검사/내전압자체검사': Timestamp('2024-04-15 00:00:00'), '내전압 입회검사': Timestamp('2024-04-16 00:00:00'), '수정작업 및 점검커버 복구': Timestamp('2024-04-17 00:00:00'), 'D+17~20일차 조정작업': Timestamp('2024-04-17 00:00:00'), '전장취부, 결선 복구 완료': Timestamp('2024-04-17 00:00:00'), '실내 조정 및 실내·외 설비 완료': Timestamp('2024-04-17 00:00:00'), '전장품 취부 입회검사': Timestamp('2024-04-18 00:00:00'), '복구 및 수정작업': Timestamp('2024-04-18 00:00:00'), '실내 설비 입회검사': Timestamp('2024-04-19 00:00:00'), '대차차입 전검사 / 대차차입': Timestamp('2024-04-19 00:00:00'), '대차 전장품 취부 결선 & 마무리': Timestamp('2024-04-20 00:00:00'), '대차차입 후 검사': Timestamp('2024-04-20 00:00:00')}\n",
      "SubwayCar Name: S017-T1'\n",
      "Activities: {'배전반 취부 및 배선작업': Timestamp('2024-04-06 00:00:00'), '내장판 조정작업(완료)': Timestamp('2024-04-09 00:00:00'), '내장판 취부 검사': Timestamp('2024-04-10 00:00:00'), '도통입회검사/내전압자체검사': Timestamp('2024-04-16 00:00:00'), '내전압 입회검사': Timestamp('2024-04-17 00:00:00'), '수정작업 및 점검커버 복구': Timestamp('2024-04-18 00:00:00'), 'D+17~20일차 조정작업': Timestamp('2024-04-18 00:00:00'), '전장취부, 결선 복구 완료': Timestamp('2024-04-18 00:00:00'), '실내 조정 및 실내·외 설비 완료': Timestamp('2024-04-18 00:00:00'), '전장품 취부 입회검사': Timestamp('2024-04-19 00:00:00'), '복구 및 수정작업': Timestamp('2024-04-19 00:00:00'), '실내 설비 입회검사': Timestamp('2024-04-20 00:00:00'), '대차차입 전검사 / 대차차입': Timestamp('2024-04-20 00:00:00'), '대차 전장품 취부 결선 & 마무리': Timestamp('2024-04-22 00:00:00'), '대차차입 후 검사': Timestamp('2024-04-22 00:00:00')}\n",
      "SubwayCar Name: S025-M2\n",
      "Activities: {'AIR DUCT MODULE 취부': Timestamp('2024-04-08 00:00:00'), '실내 배선 작업': Timestamp('2024-04-09 00:00:00'), 'CENTER GRILL 취부': Timestamp('2024-04-09 00:00:00'), '객실도어 취부 검사': Timestamp('2024-04-10 00:00:00'), 'AIR DUCT MODULE 취부 검사': Timestamp('2024-04-10 00:00:00'), '배관 MODULE 취부': Timestamp('2024-04-11 00:00:00'), '배전반 취부 및 배선작업': Timestamp('2024-04-12 00:00:00'), 'CENTER PIVOT 취부': Timestamp('2024-04-12 00:00:00'), 'COUPLER 취부': Timestamp('2024-04-13 00:00:00'), '제동기기 취부 및 누설검사': Timestamp('2024-04-13 00:00:00'), 'D+5~13일차 조정작업': Timestamp('2024-04-15 00:00:00'), 'ROOF 내장판 취부': Timestamp('2024-04-16 00:00:00'), '상하 전장기기 취부 결선': Timestamp('2024-04-17 00:00:00'), 'SIDE 내장판 취부': Timestamp('2024-04-17 00:00:00'), '내장판 조정작업(완료)': Timestamp('2024-04-17 00:00:00'), 'AIR CON 취부': Timestamp('2024-04-18 00:00:00'), '내장판 취부 검사': Timestamp('2024-04-18 00:00:00'), '전장기기 취부 결선 완료': Timestamp('2024-04-19 00:00:00'), '도통검사(량단위 시험기)': Timestamp('2024-04-20 00:00:00'), '도통 자체 검사(완료)': Timestamp('2024-04-22 00:00:00'), '도통 검사 수정': Timestamp('2024-04-23 00:00:00'), '도통입회검사/내전압자체검사': Timestamp('2024-04-24 00:00:00'), '내전압 입회검사': Timestamp('2024-04-25 00:00:00'), '수정작업 및 점검커버 복구': Timestamp('2024-04-26 00:00:00'), 'D+17~20일차 조정작업': Timestamp('2024-04-26 00:00:00'), '전장취부, 결선 복구 완료': Timestamp('2024-04-26 00:00:00'), '실내 조정 및 실내·외 설비 완료': Timestamp('2024-04-26 00:00:00'), '전장품 취부 입회검사': Timestamp('2024-04-27 00:00:00'), '복구 및 수정작업': Timestamp('2024-04-27 00:00:00'), '실내 설비 입회검사': Timestamp('2024-04-29 00:00:00'), '대차차입 전검사 / 대차차입': Timestamp('2024-04-30 00:00:00')}\n",
      "SubwayCar Name: S042-M1\n",
      "Activities: {'흡음재 취부': Timestamp('2024-04-10 00:00:00'), '흡음재 씰링/검사/수정': Timestamp('2024-04-11 00:00:00'), '측창취부/T-BOLT 삽입': Timestamp('2024-04-11 00:00:00'), '리무벌/파티션 프레임 취부': Timestamp('2024-04-12 00:00:00'), '실내/상하 CABLE HARNESS 취부': Timestamp('2024-04-13 00:00:00'), '실내/상하 배선': Timestamp('2024-04-15 00:00:00'), '객실도어 취부': Timestamp('2024-04-16 00:00:00'), '하부덕트검사\\n (D+1~4일차 조정작업)': Timestamp('2024-04-17 00:00:00'), '실내 배선 검사': Timestamp('2024-04-18 00:00:00')}\n",
      "SubwayCar Name: S026-T2\n",
      "Activities: {'실내 배선 작업': Timestamp('2024-04-10 00:00:00'), '객실도어 취부 검사': Timestamp('2024-04-11 00:00:00'), 'AIR DUCT MODULE 취부': Timestamp('2024-04-12 00:00:00'), 'CENTER GRILL 취부': Timestamp('2024-04-13 00:00:00'), 'AIR DUCT MODULE 취부 검사': Timestamp('2024-04-15 00:00:00'), '배관 MODULE 취부': Timestamp('2024-04-16 00:00:00'), '배전반 취부 및 배선작업': Timestamp('2024-04-17 00:00:00'), 'CENTER PIVOT 취부': Timestamp('2024-04-17 00:00:00'), 'COUPLER 취부': Timestamp('2024-04-18 00:00:00'), '제동기기 취부 및 누설검사': Timestamp('2024-04-18 00:00:00'), 'D+5~13일차 조정작업': Timestamp('2024-04-19 00:00:00'), 'ROOF 내장판 취부': Timestamp('2024-04-20 00:00:00'), '상하 전장기기 취부 결선': Timestamp('2024-04-22 00:00:00'), 'SIDE 내장판 취부': Timestamp('2024-04-22 00:00:00'), 'AIR CON 취부': Timestamp('2024-04-23 00:00:00'), '내장판 조정작업(완료)': Timestamp('2024-04-23 00:00:00'), '내장판 취부 검사': Timestamp('2024-04-24 00:00:00'), '전장기기 취부 결선 완료': Timestamp('2024-04-25 00:00:00'), '도통검사(량단위 시험기)': Timestamp('2024-04-26 00:00:00'), '도통 자체 검사(완료)': Timestamp('2024-04-27 00:00:00'), '도통 검사 수정': Timestamp('2024-04-29 00:00:00'), '도통입회검사/내전압자체검사': Timestamp('2024-04-30 00:00:00')}\n",
      "SubwayCar Name: S027-T1'\n",
      "Activities: {'실내 배선 작업': Timestamp('2024-04-11 00:00:00'), '객실도어 취부 검사': Timestamp('2024-04-12 00:00:00'), 'AIR DUCT MODULE 취부': Timestamp('2024-04-12 00:00:00'), 'CENTER GRILL 취부': Timestamp('2024-04-13 00:00:00'), 'AIR DUCT MODULE 취부 검사': Timestamp('2024-04-15 00:00:00'), '배관 MODULE 취부': Timestamp('2024-04-16 00:00:00'), '배전반 취부 및 배선작업': Timestamp('2024-04-17 00:00:00'), 'CENTER PIVOT 취부': Timestamp('2024-04-17 00:00:00'), 'COUPLER 취부': Timestamp('2024-04-18 00:00:00'), '제동기기 취부 및 누설검사': Timestamp('2024-04-18 00:00:00'), 'D+5~13일차 조정작업': Timestamp('2024-04-19 00:00:00'), 'ROOF 내장판 취부': Timestamp('2024-04-20 00:00:00'), '상하 전장기기 취부 결선': Timestamp('2024-04-22 00:00:00'), 'SIDE 내장판 취부': Timestamp('2024-04-22 00:00:00'), 'AIR CON 취부': Timestamp('2024-04-23 00:00:00'), '내장판 조정작업(완료)': Timestamp('2024-04-23 00:00:00'), '내장판 취부 검사': Timestamp('2024-04-24 00:00:00'), '전장기기 취부 결선 완료': Timestamp('2024-04-25 00:00:00'), '도통검사(량단위 시험기)': Timestamp('2024-04-27 00:00:00'), '도통 자체 검사(완료)': Timestamp('2024-04-29 00:00:00'), '도통 검사 수정': Timestamp('2024-04-30 00:00:00')}\n",
      "SubwayCar Name: S050-TC2\n",
      "Activities: {'흡음재 취부': Timestamp('2024-04-12 00:00:00'), '흡음재 씰링/검사/수정': Timestamp('2024-04-13 00:00:00'), '측창취부/T-BOLT 삽입': Timestamp('2024-04-13 00:00:00'), '리무벌/파티션 프레임 취부': Timestamp('2024-04-15 00:00:00'), '실내/상하 CABLE HARNESS 취부': Timestamp('2024-04-16 00:00:00'), '실내/상하 배선': Timestamp('2024-04-17 00:00:00'), '객실도어 취부': Timestamp('2024-04-18 00:00:00'), '하부덕트검사\\n (D+1~4일차 조정작업)': Timestamp('2024-04-19 00:00:00'), '실내 배선 검사': Timestamp('2024-04-20 00:00:00')}\n",
      "SubwayCar Name: S043-M2\n",
      "Activities: {'흡음재 취부': Timestamp('2024-04-15 00:00:00'), '흡음재 씰링/검사/수정': Timestamp('2024-04-16 00:00:00'), '측창취부/T-BOLT 삽입': Timestamp('2024-04-16 00:00:00'), '리무벌/파티션 프레임 취부': Timestamp('2024-04-17 00:00:00'), '실내/상하 CABLE HARNESS 취부': Timestamp('2024-04-18 00:00:00'), '실내/상하 배선': Timestamp('2024-04-19 00:00:00'), '객실도어 취부': Timestamp('2024-04-20 00:00:00'), '하부덕트검사\\n (D+1~4일차 조정작업)': Timestamp('2024-04-22 00:00:00'), '실내 배선 검사': Timestamp('2024-04-23 00:00:00')}\n",
      "SubwayCar Name: S028-M1\n",
      "Activities: {'실내 배선 작업': Timestamp('2024-04-15 00:00:00'), '객실도어 취부 검사': Timestamp('2024-04-16 00:00:00'), 'AIR DUCT MODULE 취부': Timestamp('2024-04-17 00:00:00'), 'CENTER GRILL 취부': Timestamp('2024-04-18 00:00:00'), 'AIR DUCT MODULE 취부 검사': Timestamp('2024-04-19 00:00:00'), '배관 MODULE 취부': Timestamp('2024-04-20 00:00:00'), '배전반 취부 및 배선작업': Timestamp('2024-04-22 00:00:00'), 'CENTER PIVOT 취부': Timestamp('2024-04-22 00:00:00'), 'COUPLER 취부': Timestamp('2024-04-23 00:00:00'), '제동기기 취부 및 누설검사': Timestamp('2024-04-23 00:00:00'), 'D+5~13일차 조정작업': Timestamp('2024-04-24 00:00:00'), 'ROOF 내장판 취부': Timestamp('2024-04-25 00:00:00'), '상하 전장기기 취부 결선': Timestamp('2024-04-26 00:00:00'), 'SIDE 내장판 취부': Timestamp('2024-04-26 00:00:00'), 'AIR CON 취부': Timestamp('2024-04-27 00:00:00'), '내장판 조정작업(완료)': Timestamp('2024-04-27 00:00:00'), '내장판 취부 검사': Timestamp('2024-04-29 00:00:00'), '전장기기 취부 결선 완료': Timestamp('2024-04-30 00:00:00')}\n",
      "SubwayCar Name: S029-M2'\n",
      "Activities: {'실내 배선 작업': Timestamp('2024-04-16 00:00:00'), '객실도어 취부 검사': Timestamp('2024-04-17 00:00:00'), 'AIR DUCT MODULE 취부': Timestamp('2024-04-17 00:00:00'), 'CENTER GRILL 취부': Timestamp('2024-04-18 00:00:00'), 'AIR DUCT MODULE 취부 검사': Timestamp('2024-04-19 00:00:00'), '배관 MODULE 취부': Timestamp('2024-04-20 00:00:00'), '배전반 취부 및 배선작업': Timestamp('2024-04-22 00:00:00'), 'CENTER PIVOT 취부': Timestamp('2024-04-22 00:00:00'), 'COUPLER 취부': Timestamp('2024-04-23 00:00:00'), '제동기기 취부 및 누설검사': Timestamp('2024-04-23 00:00:00'), 'D+5~13일차 조정작업': Timestamp('2024-04-24 00:00:00'), 'ROOF 내장판 취부': Timestamp('2024-04-25 00:00:00'), '상하 전장기기 취부 결선': Timestamp('2024-04-26 00:00:00'), 'SIDE 내장판 취부': Timestamp('2024-04-26 00:00:00'), 'AIR CON 취부': Timestamp('2024-04-27 00:00:00'), '내장판 조정작업(완료)': Timestamp('2024-04-27 00:00:00'), '내장판 취부 검사': Timestamp('2024-04-29 00:00:00'), '전장기기 취부 결선 완료': Timestamp('2024-04-30 00:00:00')}\n",
      "SubwayCar Name: S044-T1\n",
      "Activities: {'흡음재 취부': Timestamp('2024-04-17 00:00:00'), '흡음재 씰링/검사/수정': Timestamp('2024-04-18 00:00:00'), '측창취부/T-BOLT 삽입': Timestamp('2024-04-18 00:00:00'), '리무벌/파티션 프레임 취부': Timestamp('2024-04-19 00:00:00'), '실내/상하 CABLE HARNESS 취부': Timestamp('2024-04-20 00:00:00'), '실내/상하 배선': Timestamp('2024-04-22 00:00:00'), '객실도어 취부': Timestamp('2024-04-23 00:00:00'), '하부덕트검사\\n (D+1~4일차 조정작업)': Timestamp('2024-04-24 00:00:00'), '실내 배선 검사': Timestamp('2024-04-25 00:00:00')}\n",
      "SubwayCar Name: S045-M2\n",
      "Activities: {'흡음재 취부': Timestamp('2024-04-19 00:00:00'), '흡음재 씰링/검사/수정': Timestamp('2024-04-20 00:00:00'), '측창취부/T-BOLT 삽입': Timestamp('2024-04-20 00:00:00'), '리무벌/파티션 프레임 취부': Timestamp('2024-04-22 00:00:00'), '실내/상하 CABLE HARNESS 취부': Timestamp('2024-04-23 00:00:00'), '실내/상하 배선': Timestamp('2024-04-24 00:00:00'), '객실도어 취부': Timestamp('2024-04-25 00:00:00'), '하부덕트검사\\n (D+1~4일차 조정작업)': Timestamp('2024-04-26 00:00:00'), '실내 배선 검사': Timestamp('2024-04-27 00:00:00')}\n",
      "SubwayCar Name: S031-TC1\n",
      "Activities: {'AIR DUCT MODULE 취부': Timestamp('2024-04-19 00:00:00'), 'CENTER GRILL 취부': Timestamp('2024-04-20 00:00:00'), 'AIR DUCT MODULE 취부 검사': Timestamp('2024-04-22 00:00:00'), '실내 배선 작업': Timestamp('2024-04-23 00:00:00'), '배관 MODULE 취부': Timestamp('2024-04-23 00:00:00'), '객실도어 취부 검사': Timestamp('2024-04-24 00:00:00'), 'CENTER PIVOT 취부': Timestamp('2024-04-24 00:00:00'), 'COUPLER 취부': Timestamp('2024-04-25 00:00:00'), '제동기기 취부 및 누설검사': Timestamp('2024-04-25 00:00:00'), 'D+5~13일차 조정작업': Timestamp('2024-04-26 00:00:00'), 'ROOF 내장판 취부': Timestamp('2024-04-27 00:00:00'), '상하 전장기기 취부 결선': Timestamp('2024-04-29 00:00:00'), 'SIDE 내장판 취부': Timestamp('2024-04-29 00:00:00'), 'AIR CON 취부': Timestamp('2024-04-30 00:00:00')}\n",
      "SubwayCar Name: S032-M1\n",
      "Activities: {'AIR DUCT MODULE 취부': Timestamp('2024-04-19 00:00:00'), 'CENTER GRILL 취부': Timestamp('2024-04-20 00:00:00'), 'AIR DUCT MODULE 취부 검사': Timestamp('2024-04-22 00:00:00'), '배관 MODULE 취부': Timestamp('2024-04-23 00:00:00'), 'CENTER PIVOT 취부': Timestamp('2024-04-24 00:00:00'), '실내 배선 작업': Timestamp('2024-04-25 00:00:00'), 'COUPLER 취부': Timestamp('2024-04-25 00:00:00'), '제동기기 취부 및 누설검사': Timestamp('2024-04-25 00:00:00'), '객실도어 취부 검사': Timestamp('2024-04-26 00:00:00'), 'D+5~13일차 조정작업': Timestamp('2024-04-26 00:00:00'), 'ROOF 내장판 취부': Timestamp('2024-04-27 00:00:00'), '상하 전장기기 취부 결선': Timestamp('2024-04-29 00:00:00'), 'SIDE 내장판 취부': Timestamp('2024-04-29 00:00:00'), 'AIR CON 취부': Timestamp('2024-04-30 00:00:00')}\n",
      "SubwayCar Name: S046-T2\n",
      "Activities: {'흡음재 취부': Timestamp('2024-04-22 00:00:00'), '흡음재 씰링/검사/수정': Timestamp('2024-04-23 00:00:00'), '측창취부/T-BOLT 삽입': Timestamp('2024-04-23 00:00:00'), '리무벌/파티션 프레임 취부': Timestamp('2024-04-24 00:00:00'), '실내/상하 CABLE HARNESS 취부': Timestamp('2024-04-25 00:00:00'), '실내/상하 배선': Timestamp('2024-04-26 00:00:00'), '객실도어 취부': Timestamp('2024-04-27 00:00:00'), '하부덕트검사\\n (D+1~4일차 조정작업)': Timestamp('2024-04-29 00:00:00'), '실내 배선 검사': Timestamp('2024-04-30 00:00:00')}\n",
      "SubwayCar Name: S047-T1'\n",
      "Activities: {'흡음재 취부': Timestamp('2024-04-24 00:00:00'), '흡음재 씰링/검사/수정': Timestamp('2024-04-25 00:00:00'), '측창취부/T-BOLT 삽입': Timestamp('2024-04-25 00:00:00'), '리무벌/파티션 프레임 취부': Timestamp('2024-04-26 00:00:00'), '실내/상하 CABLE HARNESS 취부': Timestamp('2024-04-27 00:00:00'), '실내/상하 배선': Timestamp('2024-04-29 00:00:00'), '객실도어 취부': Timestamp('2024-04-30 00:00:00')}\n",
      "SubwayCar Name: S033-M2\n",
      "Activities: {'AIR DUCT MODULE 취부': Timestamp('2024-04-24 00:00:00'), 'CENTER GRILL 취부': Timestamp('2024-04-25 00:00:00'), 'AIR DUCT MODULE 취부 검사': Timestamp('2024-04-26 00:00:00'), '배관 MODULE 취부': Timestamp('2024-04-27 00:00:00'), 'CENTER PIVOT 취부': Timestamp('2024-04-29 00:00:00'), 'COUPLER 취부': Timestamp('2024-04-30 00:00:00'), '제동기기 취부 및 누설검사': Timestamp('2024-04-30 00:00:00')}\n",
      "SubwayCar Name: S048-M1\n",
      "Activities: {'흡음재 취부': Timestamp('2024-04-26 00:00:00'), '흡음재 씰링/검사/수정': Timestamp('2024-04-27 00:00:00'), '측창취부/T-BOLT 삽입': Timestamp('2024-04-27 00:00:00'), '리무벌/파티션 프레임 취부': Timestamp('2024-04-29 00:00:00'), '실내/상하 CABLE HARNESS 취부': Timestamp('2024-04-30 00:00:00')}\n"
     ]
    }
   ],
   "execution_count": 48
  },
  {
   "metadata": {
    "ExecuteTime": {
     "end_time": "2024-11-19T10:05:10.838558Z",
     "start_time": "2024-11-19T10:05:10.835032Z"
    }
   },
   "cell_type": "code",
   "source": [
    "process_to_part = {\n",
    "    \"하부\": ['흡음재 취부', '흡음재 씰링/검사/수정', '측창취부/T-BOLT 삽입', '실내/상하 CABLE HARNESS 취부', '실내/상하 배선', '실내 배선 작업', '객실도어 취부', '객실도어 취부 검사', '하부덕트검사\\n (D+1~4일차 조정작업)', 'CAB MODULE 취부(TC)', '배전반 취부 및 배선작업', '운전실 내장판 취부', '운전실 캐비넷 취부(TC)', '운전실 배전반 결선(TC)', '운전실 DOOR 취부(TC)', '도통검사(량단위 시험기)', '도통 자체 검사(완료)', '도통 검사 수정', '도통입회검사/내전압자체검사', '내전압 입회검사', '수정작업 및 점검커버 복구', 'D+17~20일차 조정작업', '전장취부, 결선 복구 완료', '실내 조정 및 실내·외 설비 완료', '전장품 취부 입회검사', '복구 및 수정작업', '실내 설비 입회검사', '대차차입 전검사 / 대차차입', '대차 전장품 취부 결선 & 마무리', '대차차입 후 검사'],\n",
    "    \"실내\": ['리무벌/파티션 프레임 취부', '실내 배선 검사', 'AIR DUCT MODULE 취부', 'CENTER GRILL 취부', 'AIR DUCT MODULE 취부 검사', '배관 MODULE 취부', 'CENTER PIVOT 취부', 'COUPLER 취부', '제동기기 취부 및 누설검사', 'D+5~13일차 조정작업', 'ROOF 내장판 취부', 'SIDE 내장판 취부', 'AIR CON 취부', '내장판 취부 검사', '전장기기 취부 결선 완료', '운전실 전장기기 취부 결선(TC)'],\n",
    "    \"옥상\": ['상하 전장기기 취부 결선', '내장판 조정작업(완료)']\n",
    "}\n"
   ],
   "id": "1b9158de210966f3",
   "outputs": [],
   "execution_count": 134
  },
  {
   "metadata": {
    "ExecuteTime": {
     "end_time": "2024-11-19T10:05:12.566923Z",
     "start_time": "2024-11-19T10:05:12.564054Z"
    }
   },
   "cell_type": "code",
   "source": [
    "temp = 0\n",
    "for part, process in process_to_part.items():\n",
    "    temp += len(process)\n",
    "print(temp)"
   ],
   "id": "349ff5f23c3abfd5",
   "outputs": [
    {
     "name": "stdout",
     "output_type": "stream",
     "text": [
      "48\n"
     ]
    }
   ],
   "execution_count": 135
  },
  {
   "metadata": {
    "ExecuteTime": {
     "end_time": "2024-11-19T10:05:13.190410Z",
     "start_time": "2024-11-19T10:05:13.185450Z"
    }
   },
   "cell_type": "code",
   "source": [
    "for part in ['하부', '실내', '옥상']:\n",
    "    for car_name, subway_car in subway_car_dict2.items():\n",
    "        temp_list = []\n",
    "        for process, date in subway_car.activity_dict.items():\n",
    "            if process in process_to_part[part]:\n",
    "                temp_list.append((process_to_part[part].index(process), date))\n",
    "                \n",
    "        for i in range(len(temp_list) - 1):\n",
    "            for j in range(i + 1, len(temp_list)):\n",
    "                index_i, date_i = temp_list[i]\n",
    "                index_j, date_j = temp_list[j]\n",
    "                \n",
    "                # 조건: index가 더 작은데 날짜가 더 크거나, index가 큰데 날짜가 작은 경우\n",
    "                if (index_i < index_j and date_i > date_j) or (index_i > index_j and date_i < date_j):\n",
    "                    print(f\"Error in {car_name}, Part: {part}\")\n",
    "                    print(f\"{process_to_part[part][index_i]} // {process_to_part[part][index_j]}\")\n",
    "                    print(f\"Dates: {date_i} and {date_j}\")\n"
   ],
   "id": "37e24a067441af74",
   "outputs": [
    {
     "name": "stdout",
     "output_type": "stream",
     "text": [
      "Error in S040-TC2, Part: 하부\n",
      "객실도어 취부 // 실내 배선 작업\n",
      "Dates: 2024-04-01 00:00:00 and 2024-04-29 00:00:00\n"
     ]
    }
   ],
   "execution_count": 136
  },
  {
   "metadata": {},
   "cell_type": "code",
   "outputs": [],
   "execution_count": null,
   "source": "",
   "id": "8a5f3745024f859f"
  },
  {
   "metadata": {
    "ExecuteTime": {
     "end_time": "2024-11-19T07:58:09.079144Z",
     "start_time": "2024-11-19T07:58:09.075332Z"
    }
   },
   "cell_type": "code",
   "source": [
    "process_list = [\n",
    "    \"흡음재 취부\",\n",
    "    \"흡음재 씰링/검사/수정\",\n",
    "    \"측창취부/T-BOLT 삽입\",\n",
    "    \"실내/상하 CABLE HARNESS 취부\",\n",
    "    \"실내/상하 배선\",\n",
    "    \"실내 배선 작업\",\n",
    "    \"객실도어 취부\",\n",
    "    \"리무벌/파티션 프레임 취부\",\n",
    "    \"객실도어 취부 검사\",\n",
    "    \"하부덕트검사\\n (D+1~4일차 조정작업)\",\n",
    "    \"실내 배선 검사\",\n",
    "    \"AIR DUCT MODULE 취부\",\n",
    "    \"CENTER GRILL 취부\",\n",
    "    \"AIR DUCT MODULE 취부 검사\",\n",
    "    \"CAB MODULE 취부(TC)\",\n",
    "    \"배관 MODULE 취부\",\n",
    "    \"배전반 취부 및 배선작업\",\n",
    "    \"CENTER PIVOT 취부\",\n",
    "    \"COUPLER 취부\",\n",
    "    \"제동기기 취부 및 누설검사\",\n",
    "    \"운전실 내장판 취부\",\n",
    "    \"D+5~13일차 조정작업\",\n",
    "    \"ROOF 내장판 취부\",\n",
    "    \"운전실 캐비넷 취부(TC)\",\n",
    "    \"상하 전장기기 취부 결선\",\n",
    "    \"SIDE 내장판 취부\",\n",
    "    \"운전실 배전반 결선(TC)\",\n",
    "    \"AIR CON 취부\",\n",
    "    \"내장판 조정작업(완료)\",\n",
    "    \"내장판 취부 검사\",\n",
    "    \"운전실 DOOR 취부(TC)\",\n",
    "    \"전장기기 취부 결선 완료\",\n",
    "    \"운전실 전장기기 취부 결선(TC)\",\n",
    "    \"도통검사(량단위 시험기)\",\n",
    "    \"도통 자체 검사(완료)\",\n",
    "    \"도통 검사 수정\",\n",
    "    \"도통입회검사/내전압자체검사\",\n",
    "    \"내전압 입회검사\",\n",
    "    \"수정작업 및 점검커버 복구\",\n",
    "    \"D+17~20일차 조정작업\",\n",
    "    \"전장취부, 결선 복구 완료\",\n",
    "    \"실내 조정 및 실내·외 설비 완료\",\n",
    "    \"전장품 취부 입회검사\",\n",
    "    \"복구 및 수정작업\",\n",
    "    \"실내 설비 입회검사\",\n",
    "    \"대차차입 전검사 / 대차차입\",\n",
    "    \"대차 전장품 취부 결선 & 마무리\",\n",
    "    \"대차차입 후 검사\"\n",
    "]\n",
    "print(len(process_list))"
   ],
   "id": "8af7e5e023c5bb1b",
   "outputs": [
    {
     "name": "stdout",
     "output_type": "stream",
     "text": [
      "48\n"
     ]
    }
   ],
   "execution_count": 119
  },
  {
   "metadata": {},
   "cell_type": "code",
   "outputs": [],
   "execution_count": null,
   "source": "",
   "id": "b11dd48b7679685"
  }
 ],
 "metadata": {
  "kernelspec": {
   "display_name": "Python 3",
   "language": "python",
   "name": "python3"
  },
  "language_info": {
   "codemirror_mode": {
    "name": "ipython",
    "version": 2
   },
   "file_extension": ".py",
   "mimetype": "text/x-python",
   "name": "python",
   "nbconvert_exporter": "python",
   "pygments_lexer": "ipython2",
   "version": "2.7.6"
  }
 },
 "nbformat": 4,
 "nbformat_minor": 5
}
